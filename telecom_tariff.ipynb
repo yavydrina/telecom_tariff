{
 "cells": [
  {
   "cell_type": "markdown",
   "id": "10ed63cf",
   "metadata": {
    "toc": true
   },
   "source": [
    "<h1>Table of Contents<span class=\"tocSkip\"></span></h1>\n",
    "<div class=\"toc\"><ul class=\"toc-item\"><li><span><a href=\"#Загрузка-и-предподоготовка-данных\" data-toc-modified-id=\"Загрузка-и-предподоготовка-данных-1\"><span class=\"toc-item-num\">1&nbsp;&nbsp;</span>Загрузка и предподоготовка данных</a></span><ul class=\"toc-item\"><li><span><a href=\"#Обработка-пропущенных-значений\" data-toc-modified-id=\"Обработка-пропущенных-значений-1.1\"><span class=\"toc-item-num\">1.1&nbsp;&nbsp;</span>Обработка пропущенных значений</a></span></li><li><span><a href=\"#Обработка-дубликатов\" data-toc-modified-id=\"Обработка-дубликатов-1.2\"><span class=\"toc-item-num\">1.2&nbsp;&nbsp;</span>Обработка дубликатов</a></span></li><li><span><a href=\"#Изменение-типов-данных\" data-toc-modified-id=\"Изменение-типов-данных-1.3\"><span class=\"toc-item-num\">1.3&nbsp;&nbsp;</span>Изменение типов данных</a></span></li><li><span><a href=\"#Добавление-нового-столбца\" data-toc-modified-id=\"Добавление-нового-столбца-1.4\"><span class=\"toc-item-num\">1.4&nbsp;&nbsp;</span>Добавление нового столбца</a></span></li></ul></li><li><span><a href=\"#Исследовательский-анализ-данных\" data-toc-modified-id=\"Исследовательский-анализ-данных-2\"><span class=\"toc-item-num\">2&nbsp;&nbsp;</span>Исследовательский анализ данных</a></span><ul class=\"toc-item\"><li><span><a href=\"#Определение-исследуемого-периода\" data-toc-modified-id=\"Определение-исследуемого-периода-2.1\"><span class=\"toc-item-num\">2.1&nbsp;&nbsp;</span>Определение исследуемого периода</a></span></li><li><span><a href=\"#Актуальные-пользователи\" data-toc-modified-id=\"Актуальные-пользователи-2.2\"><span class=\"toc-item-num\">2.2&nbsp;&nbsp;</span>Актуальные пользователи</a></span></li><li><span><a href=\"#Распределение-клиентов-по-направлению-вызовов-(входящий,-исходящий)\" data-toc-modified-id=\"Распределение-клиентов-по-направлению-вызовов-(входящий,-исходящий)-2.3\"><span class=\"toc-item-num\">2.3&nbsp;&nbsp;</span>Распределение клиентов по направлению вызовов (входящий, исходящий)</a></span></li><li><span><a href=\"#Клиенты-по-тарифам\" data-toc-modified-id=\"Клиенты-по-тарифам-2.4\"><span class=\"toc-item-num\">2.4&nbsp;&nbsp;</span>Клиенты по тарифам</a></span></li></ul></li><li><span><a href=\"#Рассчет-расходов-клиентов-на-каждом-из-тарифов\" data-toc-modified-id=\"Рассчет-расходов-клиентов-на-каждом-из-тарифов-3\"><span class=\"toc-item-num\">3&nbsp;&nbsp;</span>Рассчет расходов клиентов на каждом из тарифов</a></span></li><li><span><a href=\"#Клиенты-с-неподходящими-тарифами\" data-toc-modified-id=\"Клиенты-с-неподходящими-тарифами-4\"><span class=\"toc-item-num\">4&nbsp;&nbsp;</span>Клиенты с неподходящими тарифами</a></span></li><li><span><a href=\"#Соотношение-количества-пользователей-по-тарифам-изменения\" data-toc-modified-id=\"Соотношение-количества-пользователей-по-тарифам-изменения-5\"><span class=\"toc-item-num\">5&nbsp;&nbsp;</span>Соотношение количества пользователей по тарифам изменения</a></span><ul class=\"toc-item\"><li><span><a href=\"#Изменение-в-выручке-для-заказчика-при-изменении-тарифа\" data-toc-modified-id=\"Изменение-в-выручке-для-заказчика-при-изменении-тарифа-5.1\"><span class=\"toc-item-num\">5.1&nbsp;&nbsp;</span>Изменение в выручке для заказчика при изменении тарифа</a></span></li></ul></li><li><span><a href=\"#Проверка-гипотез\" data-toc-modified-id=\"Проверка-гипотез-6\"><span class=\"toc-item-num\">6&nbsp;&nbsp;</span>Проверка гипотез</a></span><ul class=\"toc-item\"><li><span><a href=\"#Гипотеза-о-различиях-доходов-на-тарифах-А-и-В\" data-toc-modified-id=\"Гипотеза-о-различиях-доходов-на-тарифах-А-и-В-6.1\"><span class=\"toc-item-num\">6.1&nbsp;&nbsp;</span>Гипотеза о различиях доходов на тарифах А и В</a></span></li><li><span><a href=\"#Гипотеза-о-продолжительности-исходящих-звонков-вне-сети\" data-toc-modified-id=\"Гипотеза-о-продолжительности-исходящих-звонков-вне-сети-6.2\"><span class=\"toc-item-num\">6.2&nbsp;&nbsp;</span>Гипотеза о продолжительности исходящих звонков вне сети</a></span></li></ul></li></ul></div>"
   ]
  },
  {
   "cell_type": "markdown",
   "id": "83ecaaa9",
   "metadata": {},
   "source": [
    "# Телеком — Поиск клиента с неоптимальными тарифами\n",
    "\n",
    "**Цель проекта** - найти клиентов с неоптимальными тарифами и предложить им более подходящие.\n",
    "\n",
    "**План проекта:**\n",
    "1. Предобработка данных:\n",
    "    - изменение типов данных: `date`, `date_start` - к типу `date`, `operator_id` - к типу `int` `internal` - к типу `bool`;\n",
    "    - обработка пропущенных значений;\n",
    "    - обработка дубликатов;\n",
    "    - добавление столбца `текущий месяц`.\n",
    "2. Исследовательский анализ данных:\n",
    "    - определение актуальных пользователей;\n",
    "    - поиск аномальных данных;\n",
    "    - определение периода, за которые предоставлены данные;\n",
    "    - распределение клиентов по направлению вызовов (входящий, исходящий);\n",
    "    - клиенты по тарифам \n",
    "3. Рассчет расходов клиентов на каждом из тарифов.\n",
    "4. Клиенты с неподходящим тарифом.\n",
    "5. Изменение в выручке для заказчика при изменении тарифа.\n",
    "6. Проверка следующих гипотез:\n",
    "    - Гипотеза 1: средние помесячные расходы у пользователей на тарифах А и В равны.\n",
    "    - Гипотеза 2: средняя продолжительность исходящих звонков вне сети у тарифа С больше, чем у тарифа В."
   ]
  },
  {
   "cell_type": "markdown",
   "id": "70c2571f",
   "metadata": {},
   "source": [
    "Презентация: <https://drive.google.com/file/d/1fuBY9I0sQWLi6bt7TyS6LxKHcBKUO2Pr/view?usp=sharing>"
   ]
  },
  {
   "cell_type": "markdown",
   "id": "9fb5605e",
   "metadata": {},
   "source": [
    "## Загрузка и предподоготовка данных"
   ]
  },
  {
   "cell_type": "code",
   "execution_count": 1,
   "id": "3cad740f",
   "metadata": {},
   "outputs": [],
   "source": [
    "import pandas as pd\n",
    "from matplotlib import pyplot as plt\n",
    "import matplotlib\n",
    "import seaborn as sns\n",
    "import math\n",
    "import numpy as np\n",
    "from scipy import stats as st"
   ]
  },
  {
   "cell_type": "code",
   "execution_count": 2,
   "id": "ca692f41",
   "metadata": {},
   "outputs": [],
   "source": [
    "# загружаем данные \n",
    "try:\n",
    "    clients = pd.read_csv('telecom_clients.csv')\n",
    "    data = pd.read_csv('telecom_dataset.csv')\n",
    "except:\n",
    "    clients = pd.read_csv('/datasets/telecom_clients.csv')\n",
    "    data = pd.read_csv('/datasets/telecom_dataset.csv')"
   ]
  },
  {
   "cell_type": "code",
   "execution_count": 3,
   "id": "79c0e101",
   "metadata": {},
   "outputs": [
    {
     "name": "stdout",
     "output_type": "stream",
     "text": [
      "<class 'pandas.core.frame.DataFrame'>\n",
      "RangeIndex: 732 entries, 0 to 731\n",
      "Data columns (total 3 columns):\n",
      " #   Column       Non-Null Count  Dtype \n",
      "---  ------       --------------  ----- \n",
      " 0   user_id      732 non-null    int64 \n",
      " 1   tariff_plan  732 non-null    object\n",
      " 2   date_start   732 non-null    object\n",
      "dtypes: int64(1), object(2)\n",
      "memory usage: 17.3+ KB\n",
      "<class 'pandas.core.frame.DataFrame'>\n",
      "RangeIndex: 53902 entries, 0 to 53901\n",
      "Data columns (total 9 columns):\n",
      " #   Column               Non-Null Count  Dtype  \n",
      "---  ------               --------------  -----  \n",
      " 0   user_id              53902 non-null  int64  \n",
      " 1   date                 53902 non-null  object \n",
      " 2   direction            53902 non-null  object \n",
      " 3   internal             53785 non-null  object \n",
      " 4   operator_id          45730 non-null  float64\n",
      " 5   is_missed_call       53902 non-null  bool   \n",
      " 6   calls_count          53902 non-null  int64  \n",
      " 7   call_duration        53902 non-null  int64  \n",
      " 8   total_call_duration  53902 non-null  int64  \n",
      "dtypes: bool(1), float64(1), int64(4), object(3)\n",
      "memory usage: 3.3+ MB\n"
     ]
    },
    {
     "data": {
      "text/plain": [
       "(None, None)"
      ]
     },
     "execution_count": 3,
     "metadata": {},
     "output_type": "execute_result"
    }
   ],
   "source": [
    "# проверяем общую информацию по двум датасетам\n",
    "clients.info(), data.info()"
   ]
  },
  {
   "cell_type": "code",
   "execution_count": 4,
   "id": "5e898d87",
   "metadata": {},
   "outputs": [
    {
     "data": {
      "text/html": [
       "<div>\n",
       "<style scoped>\n",
       "    .dataframe tbody tr th:only-of-type {\n",
       "        vertical-align: middle;\n",
       "    }\n",
       "\n",
       "    .dataframe tbody tr th {\n",
       "        vertical-align: top;\n",
       "    }\n",
       "\n",
       "    .dataframe thead th {\n",
       "        text-align: right;\n",
       "    }\n",
       "</style>\n",
       "<table border=\"1\" class=\"dataframe\">\n",
       "  <thead>\n",
       "    <tr style=\"text-align: right;\">\n",
       "      <th></th>\n",
       "      <th>user_id</th>\n",
       "      <th>date</th>\n",
       "      <th>direction</th>\n",
       "      <th>internal</th>\n",
       "      <th>operator_id</th>\n",
       "      <th>is_missed_call</th>\n",
       "      <th>calls_count</th>\n",
       "      <th>call_duration</th>\n",
       "      <th>total_call_duration</th>\n",
       "    </tr>\n",
       "  </thead>\n",
       "  <tbody>\n",
       "    <tr>\n",
       "      <th>0</th>\n",
       "      <td>166377</td>\n",
       "      <td>2019-08-04 00:00:00+03:00</td>\n",
       "      <td>in</td>\n",
       "      <td>False</td>\n",
       "      <td>NaN</td>\n",
       "      <td>True</td>\n",
       "      <td>2</td>\n",
       "      <td>0</td>\n",
       "      <td>4</td>\n",
       "    </tr>\n",
       "    <tr>\n",
       "      <th>1</th>\n",
       "      <td>166377</td>\n",
       "      <td>2019-08-05 00:00:00+03:00</td>\n",
       "      <td>out</td>\n",
       "      <td>True</td>\n",
       "      <td>880022.0</td>\n",
       "      <td>True</td>\n",
       "      <td>3</td>\n",
       "      <td>0</td>\n",
       "      <td>5</td>\n",
       "    </tr>\n",
       "    <tr>\n",
       "      <th>2</th>\n",
       "      <td>166377</td>\n",
       "      <td>2019-08-05 00:00:00+03:00</td>\n",
       "      <td>out</td>\n",
       "      <td>True</td>\n",
       "      <td>880020.0</td>\n",
       "      <td>True</td>\n",
       "      <td>1</td>\n",
       "      <td>0</td>\n",
       "      <td>1</td>\n",
       "    </tr>\n",
       "    <tr>\n",
       "      <th>3</th>\n",
       "      <td>166377</td>\n",
       "      <td>2019-08-05 00:00:00+03:00</td>\n",
       "      <td>out</td>\n",
       "      <td>True</td>\n",
       "      <td>880020.0</td>\n",
       "      <td>False</td>\n",
       "      <td>1</td>\n",
       "      <td>10</td>\n",
       "      <td>18</td>\n",
       "    </tr>\n",
       "    <tr>\n",
       "      <th>4</th>\n",
       "      <td>166377</td>\n",
       "      <td>2019-08-05 00:00:00+03:00</td>\n",
       "      <td>out</td>\n",
       "      <td>False</td>\n",
       "      <td>880022.0</td>\n",
       "      <td>True</td>\n",
       "      <td>3</td>\n",
       "      <td>0</td>\n",
       "      <td>25</td>\n",
       "    </tr>\n",
       "  </tbody>\n",
       "</table>\n",
       "</div>"
      ],
      "text/plain": [
       "   user_id                       date direction internal  operator_id  \\\n",
       "0   166377  2019-08-04 00:00:00+03:00        in    False          NaN   \n",
       "1   166377  2019-08-05 00:00:00+03:00       out     True     880022.0   \n",
       "2   166377  2019-08-05 00:00:00+03:00       out     True     880020.0   \n",
       "3   166377  2019-08-05 00:00:00+03:00       out     True     880020.0   \n",
       "4   166377  2019-08-05 00:00:00+03:00       out    False     880022.0   \n",
       "\n",
       "   is_missed_call  calls_count  call_duration  total_call_duration  \n",
       "0            True            2              0                    4  \n",
       "1            True            3              0                    5  \n",
       "2            True            1              0                    1  \n",
       "3           False            1             10                   18  \n",
       "4            True            3              0                   25  "
      ]
     },
     "execution_count": 4,
     "metadata": {},
     "output_type": "execute_result"
    }
   ],
   "source": [
    "# выведем первые пять строк \n",
    "data.head()"
   ]
  },
  {
   "cell_type": "markdown",
   "id": "c9c24000",
   "metadata": {},
   "source": [
    "Судя по информации, данные имеют пропуски в столбцах `operator_id` (их заполним заглушками, т.к. в дальнейшем нам понадобится количество операторов у каждого пользователя, ведь от количества операторов зависит сумма расходов, поэтому не стоит удалять строки с пропусками в этой колонке) и `internal` (их не так много, а заполнить нет возможности, поэтому мы от них избавимся).\n",
    "Также необходимо проверить данные на дубликаты и изменить тип данных в некоторых столбцах."
   ]
  },
  {
   "cell_type": "markdown",
   "id": "b8fe708b",
   "metadata": {},
   "source": [
    "### Обработка пропущенных значений"
   ]
  },
  {
   "cell_type": "code",
   "execution_count": 5,
   "id": "40c92919",
   "metadata": {},
   "outputs": [],
   "source": [
    "# т.к. столбец с численными значениям добавим заглушку -1\n",
    "data['operator_id'] = data['operator_id'].fillna(-1)"
   ]
  },
  {
   "cell_type": "markdown",
   "id": "084970c1",
   "metadata": {},
   "source": [
    "Проверим, какую долю от общего к количества замимают пропуски"
   ]
  },
  {
   "cell_type": "code",
   "execution_count": 6,
   "id": "fc4f2ebd",
   "metadata": {},
   "outputs": [
    {
     "data": {
      "text/plain": [
       "0.0021753276935948685"
      ]
     },
     "execution_count": 6,
     "metadata": {},
     "output_type": "execute_result"
    }
   ],
   "source": [
    "data['internal'].isna().sum()/data['internal'].count()"
   ]
  },
  {
   "cell_type": "markdown",
   "id": "e63b6b9a",
   "metadata": {},
   "source": [
    "Пропуски замимают менее 1%, поэтому можем их удалить без волнения об искажении результатов."
   ]
  },
  {
   "cell_type": "code",
   "execution_count": 7,
   "id": "7bb4ecd3",
   "metadata": {},
   "outputs": [],
   "source": [
    "# удалим строки с пропусками\n",
    "data = data.dropna(subset=['internal'])"
   ]
  },
  {
   "cell_type": "markdown",
   "id": "18a5f3d2",
   "metadata": {},
   "source": [
    "### Обработка дубликатов"
   ]
  },
  {
   "cell_type": "code",
   "execution_count": 8,
   "id": "45cc23ab",
   "metadata": {
    "scrolled": true
   },
   "outputs": [
    {
     "name": "stdout",
     "output_type": "stream",
     "text": [
      "Всего в датафрейме data 4893 дубликатов, а в clients - 0\n"
     ]
    }
   ],
   "source": [
    "print('Всего в датафрейме data', data.duplicated().sum(), 'дубликатов, а в clients -', clients.duplicated().sum())"
   ]
  },
  {
   "cell_type": "code",
   "execution_count": 9,
   "id": "d1fa0898",
   "metadata": {},
   "outputs": [
    {
     "data": {
      "text/plain": [
       "0.09097331969880078"
      ]
     },
     "execution_count": 9,
     "metadata": {},
     "output_type": "execute_result"
    }
   ],
   "source": [
    "data.duplicated().sum()/data['user_id'].count()"
   ]
  },
  {
   "cell_type": "markdown",
   "id": "3dc564ed",
   "metadata": {},
   "source": [
    "Дубликаты составляют 9% от общего количества записей."
   ]
  },
  {
   "cell_type": "code",
   "execution_count": 10,
   "id": "8a7cc7d2",
   "metadata": {},
   "outputs": [],
   "source": [
    "# удаляем дубликаты\n",
    "data = data.drop_duplicates()"
   ]
  },
  {
   "cell_type": "markdown",
   "id": "59bc7939",
   "metadata": {},
   "source": [
    "### Изменение типов данных\n",
    "\n",
    "Изменим типы данных для дат в обоих датасетах, `operator_id` - на тип данных `int` `internal` - `bool`"
   ]
  },
  {
   "cell_type": "code",
   "execution_count": 11,
   "id": "31e7c5f4",
   "metadata": {},
   "outputs": [],
   "source": [
    "data['date'] = pd.to_datetime(data['date']).dt.date\n",
    "clients['date_start'] = pd.to_datetime(clients['date_start']).dt.date"
   ]
  },
  {
   "cell_type": "code",
   "execution_count": 12,
   "id": "f49705dc",
   "metadata": {},
   "outputs": [
    {
     "name": "stdout",
     "output_type": "stream",
     "text": [
      "<class 'pandas.core.frame.DataFrame'>\n",
      "Int64Index: 48892 entries, 0 to 53901\n",
      "Data columns (total 9 columns):\n",
      " #   Column               Non-Null Count  Dtype \n",
      "---  ------               --------------  ----- \n",
      " 0   user_id              48892 non-null  int64 \n",
      " 1   date                 48892 non-null  object\n",
      " 2   direction            48892 non-null  object\n",
      " 3   internal             48892 non-null  bool  \n",
      " 4   operator_id          48892 non-null  int64 \n",
      " 5   is_missed_call       48892 non-null  bool  \n",
      " 6   calls_count          48892 non-null  int64 \n",
      " 7   call_duration        48892 non-null  int64 \n",
      " 8   total_call_duration  48892 non-null  int64 \n",
      "dtypes: bool(2), int64(5), object(2)\n",
      "memory usage: 3.1+ MB\n"
     ]
    }
   ],
   "source": [
    "data['operator_id'] = data['operator_id'].astype(int)\n",
    "data['internal'] = data['internal'].astype(bool)\n",
    "data.info()"
   ]
  },
  {
   "cell_type": "markdown",
   "id": "801737ac",
   "metadata": {},
   "source": [
    "### Добавление нового столбца\n",
    "Т.к. тарифный план оплачивается ежемесячно, нам необходим столбец с месяцем для дальнейшего исследования."
   ]
  },
  {
   "cell_type": "code",
   "execution_count": 13,
   "id": "92441357",
   "metadata": {},
   "outputs": [
    {
     "data": {
      "text/plain": [
       "array([ 8,  9, 10, 11])"
      ]
     },
     "execution_count": 13,
     "metadata": {},
     "output_type": "execute_result"
    }
   ],
   "source": [
    "data['month'] = pd.DatetimeIndex(data['date']).month\n",
    "data['month'].unique()"
   ]
  },
  {
   "cell_type": "code",
   "execution_count": 14,
   "id": "097751e2",
   "metadata": {},
   "outputs": [
    {
     "data": {
      "text/html": [
       "<div>\n",
       "<style scoped>\n",
       "    .dataframe tbody tr th:only-of-type {\n",
       "        vertical-align: middle;\n",
       "    }\n",
       "\n",
       "    .dataframe tbody tr th {\n",
       "        vertical-align: top;\n",
       "    }\n",
       "\n",
       "    .dataframe thead th {\n",
       "        text-align: right;\n",
       "    }\n",
       "</style>\n",
       "<table border=\"1\" class=\"dataframe\">\n",
       "  <thead>\n",
       "    <tr style=\"text-align: right;\">\n",
       "      <th></th>\n",
       "      <th>user_id</th>\n",
       "      <th>date</th>\n",
       "      <th>direction</th>\n",
       "      <th>internal</th>\n",
       "      <th>operator_id</th>\n",
       "      <th>is_missed_call</th>\n",
       "      <th>calls_count</th>\n",
       "      <th>call_duration</th>\n",
       "      <th>total_call_duration</th>\n",
       "      <th>month</th>\n",
       "      <th>month_name</th>\n",
       "    </tr>\n",
       "  </thead>\n",
       "  <tbody>\n",
       "    <tr>\n",
       "      <th>0</th>\n",
       "      <td>166377</td>\n",
       "      <td>2019-08-04</td>\n",
       "      <td>in</td>\n",
       "      <td>False</td>\n",
       "      <td>-1</td>\n",
       "      <td>True</td>\n",
       "      <td>2</td>\n",
       "      <td>0</td>\n",
       "      <td>4</td>\n",
       "      <td>8</td>\n",
       "      <td>Август</td>\n",
       "    </tr>\n",
       "    <tr>\n",
       "      <th>1</th>\n",
       "      <td>166377</td>\n",
       "      <td>2019-08-05</td>\n",
       "      <td>out</td>\n",
       "      <td>True</td>\n",
       "      <td>880022</td>\n",
       "      <td>True</td>\n",
       "      <td>3</td>\n",
       "      <td>0</td>\n",
       "      <td>5</td>\n",
       "      <td>8</td>\n",
       "      <td>Август</td>\n",
       "    </tr>\n",
       "    <tr>\n",
       "      <th>2</th>\n",
       "      <td>166377</td>\n",
       "      <td>2019-08-05</td>\n",
       "      <td>out</td>\n",
       "      <td>True</td>\n",
       "      <td>880020</td>\n",
       "      <td>True</td>\n",
       "      <td>1</td>\n",
       "      <td>0</td>\n",
       "      <td>1</td>\n",
       "      <td>8</td>\n",
       "      <td>Август</td>\n",
       "    </tr>\n",
       "    <tr>\n",
       "      <th>3</th>\n",
       "      <td>166377</td>\n",
       "      <td>2019-08-05</td>\n",
       "      <td>out</td>\n",
       "      <td>True</td>\n",
       "      <td>880020</td>\n",
       "      <td>False</td>\n",
       "      <td>1</td>\n",
       "      <td>10</td>\n",
       "      <td>18</td>\n",
       "      <td>8</td>\n",
       "      <td>Август</td>\n",
       "    </tr>\n",
       "    <tr>\n",
       "      <th>4</th>\n",
       "      <td>166377</td>\n",
       "      <td>2019-08-05</td>\n",
       "      <td>out</td>\n",
       "      <td>False</td>\n",
       "      <td>880022</td>\n",
       "      <td>True</td>\n",
       "      <td>3</td>\n",
       "      <td>0</td>\n",
       "      <td>25</td>\n",
       "      <td>8</td>\n",
       "      <td>Август</td>\n",
       "    </tr>\n",
       "  </tbody>\n",
       "</table>\n",
       "</div>"
      ],
      "text/plain": [
       "   user_id        date direction  internal  operator_id  is_missed_call  \\\n",
       "0   166377  2019-08-04        in     False           -1            True   \n",
       "1   166377  2019-08-05       out      True       880022            True   \n",
       "2   166377  2019-08-05       out      True       880020            True   \n",
       "3   166377  2019-08-05       out      True       880020           False   \n",
       "4   166377  2019-08-05       out     False       880022            True   \n",
       "\n",
       "   calls_count  call_duration  total_call_duration  month month_name  \n",
       "0            2              0                    4      8     Август  \n",
       "1            3              0                    5      8     Август  \n",
       "2            1              0                    1      8     Август  \n",
       "3            1             10                   18      8     Август  \n",
       "4            3              0                   25      8     Август  "
      ]
     },
     "execution_count": 14,
     "metadata": {},
     "output_type": "execute_result"
    }
   ],
   "source": [
    "# воспользуемся методом apply()\n",
    "\n",
    "def month_name(row):\n",
    "    month = row['month']\n",
    "    if month == 8:\n",
    "        return 'Август'\n",
    "    elif month == 9:\n",
    "        return 'Сентябрь'\n",
    "    elif month == 10:\n",
    "        return 'Октябрь'\n",
    "    return 'Ноябрь'\n",
    "    \n",
    "data['month_name'] = data.apply(month_name, axis=1)\n",
    "data.head()"
   ]
  },
  {
   "cell_type": "markdown",
   "id": "bf1535b6",
   "metadata": {},
   "source": [
    "**Вывод по предобработке данных**:\n",
    "В предоставленном датафрейме с данными было выявлено 9% дубликатов, не все данные заполнены в колонках operator_id и маркер внутренних и внешних вызовов."
   ]
  },
  {
   "cell_type": "markdown",
   "id": "749bd26d",
   "metadata": {},
   "source": [
    "## Исследовательский анализ данных\n",
    "### Определение исследуемого периода\n"
   ]
  },
  {
   "cell_type": "code",
   "execution_count": 15,
   "id": "c6d57ca9",
   "metadata": {},
   "outputs": [
    {
     "name": "stdout",
     "output_type": "stream",
     "text": [
      "Мы располагаем данными за период с 2019-08-02 по 2019-11-28\n"
     ]
    }
   ],
   "source": [
    "print('Мы располагаем данными за период с', data['date'].min(), 'по', data['date'].max())"
   ]
  },
  {
   "cell_type": "code",
   "execution_count": 16,
   "id": "97cb46d4",
   "metadata": {},
   "outputs": [
    {
     "data": {
      "text/plain": [
       "11    21507\n",
       "10    17146\n",
       "9      8381\n",
       "8      1858\n",
       "Name: month, dtype: int64"
      ]
     },
     "execution_count": 16,
     "metadata": {},
     "output_type": "execute_result"
    }
   ],
   "source": [
    "# посмотрим, как распределились данные по месяцам\n",
    "data['month'].value_counts()"
   ]
  },
  {
   "cell_type": "code",
   "execution_count": 17,
   "id": "4460ee69",
   "metadata": {},
   "outputs": [],
   "source": [
    "# улучшение качества графиков\n",
    "%config InlineBackend.figure_format = 'retina'\n",
    "matplotlib.style.use('ggplot') "
   ]
  },
  {
   "cell_type": "code",
   "execution_count": 18,
   "id": "a501e89c",
   "metadata": {
    "scrolled": true
   },
   "outputs": [
    {
     "data": {
      "image/png": "[encoded data removed]",
      "text/plain": [
       "<Figure size 432x288 with 1 Axes>"
      ]
     },
     "metadata": {
      "image/png": {
       "height": 314,
       "width": 411
      }
     },
     "output_type": "display_data"
    }
   ],
   "source": [
    "data['month_name'].hist(bins=4)\n",
    "plt.grid(True)\n",
    "plt.xticks(rotation=45)\n",
    "plt.title('Количество звонков в зависимости от месяца')\n",
    "plt.xlabel('Месяц')\n",
    "plt.ylabel('Количество событий')\n",
    "plt.show()"
   ]
  },
  {
   "cell_type": "markdown",
   "id": "f6d17ea5",
   "metadata": {},
   "source": [
    "Наиболее полные данные за октябрь и ноябрь, поэтому данные за август и сентябрь отбросим.\n"
   ]
  },
  {
   "cell_type": "code",
   "execution_count": 19,
   "id": "e7bcabc8",
   "metadata": {},
   "outputs": [
    {
     "data": {
      "text/plain": [
       "0.7905792358668084"
      ]
     },
     "execution_count": 19,
     "metadata": {},
     "output_type": "execute_result"
    }
   ],
   "source": [
    "len(data.query('month >= 10'))/len(data)"
   ]
  },
  {
   "cell_type": "markdown",
   "id": "fd6d3b7e",
   "metadata": {},
   "source": [
    "Данные за август и сентябрь составляют 21%, это достаточно много, попробуем отбросить только август и оставить данные за осень."
   ]
  },
  {
   "cell_type": "code",
   "execution_count": 20,
   "id": "d38e1874",
   "metadata": {},
   "outputs": [
    {
     "data": {
      "text/plain": [
       "0.961997872862636"
      ]
     },
     "execution_count": 20,
     "metadata": {},
     "output_type": "execute_result"
    }
   ],
   "source": [
    "len(data.query('month >= 9'))/len(data)"
   ]
  },
  {
   "cell_type": "markdown",
   "id": "6ea99fe5",
   "metadata": {},
   "source": [
    "После удаления данных за август осталось 96%. Поэтому дальше будем работать только с этим периодом.\n",
    "\n",
    "Теперь изучим **распределение звонков по дням** в течение двух месяцев."
   ]
  },
  {
   "cell_type": "code",
   "execution_count": 21,
   "id": "3bab2fb8",
   "metadata": {},
   "outputs": [
    {
     "data": {
      "image/png": "[encoded data removed]",
      "text/plain": [
       "<Figure size 720x288 with 1 Axes>"
      ]
     },
     "metadata": {
      "image/png": {
       "height": 330,
       "width": 622
      }
     },
     "output_type": "display_data"
    }
   ],
   "source": [
    "plt.figure(figsize=(10,4))\n",
    "data_autumn = data.query('month >= 9')\n",
    "data_autumn['date'].hist(bins=89)\n",
    "plt.grid(True)\n",
    "plt.xticks(rotation=80)\n",
    "plt.title('Количество звонков в зависимости от дня')\n",
    "plt.xlabel('Дата')\n",
    "plt.ylabel('Количество событий')\n",
    "plt.show()"
   ]
  },
  {
   "cell_type": "markdown",
   "id": "00465a40",
   "metadata": {},
   "source": [
    "**Можно заметить, что большинство звонков по будням, в выходные - значительно меньше. А также количество звонков с каждой неделей увеличивается, соответственно скорее всего и увеличивается прибыль компании, предоставляющей услуги связи.**"
   ]
  },
  {
   "cell_type": "markdown",
   "id": "95455e1b",
   "metadata": {},
   "source": [
    "### Актуальные пользователи\n",
    "\n",
    "Актуальные пользователи - это пользователи, совершившие звонки в течение актуального периода.\n",
    "\n",
    "Найдем всех уникальных пользователей, их количество, а также посмотрим, как распределяются пользователи по количеству звонков."
   ]
  },
  {
   "cell_type": "code",
   "execution_count": 22,
   "id": "b10a320f",
   "metadata": {},
   "outputs": [
    {
     "name": "stdout",
     "output_type": "stream",
     "text": [
      "Осенью 2019 года услугами провайдера пользовались 303 пользователя\n"
     ]
    }
   ],
   "source": [
    "print('Осенью 2019 года услугами провайдера пользовались',\n",
    "      data_autumn['user_id'].nunique(), 'пользователя')"
   ]
  },
  {
   "cell_type": "markdown",
   "id": "8c669ba6",
   "metadata": {},
   "source": [
    "Проверим, есть ли среди них аномалии (пользователи, которые совершили рекордное количество звонков), построив диаграмму размаха."
   ]
  },
  {
   "cell_type": "code",
   "execution_count": 23,
   "id": "954b48bc",
   "metadata": {},
   "outputs": [
    {
     "data": {
      "image/png": "[encoded data removed]",
      "text/plain": [
       "<Figure size 432x288 with 1 Axes>"
      ]
     },
     "metadata": {
      "image/png": {
       "height": 265,
       "width": 397
      }
     },
     "output_type": "display_data"
    }
   ],
   "source": [
    "data_autumn.boxplot('calls_count')\n",
    "plt.title('Диаграмма размаха количества звонков')\n",
    "plt.ylabel('Количество звонков')\n",
    "plt.show()"
   ]
  },
  {
   "cell_type": "markdown",
   "id": "77e2a79d",
   "metadata": {},
   "source": [
    "Диаграмма показывает много выбросов до 5000 звонков и не видно реальную картину, попробуем ограничить ось у до 50 звонков."
   ]
  },
  {
   "cell_type": "code",
   "execution_count": 24,
   "id": "ead85caf",
   "metadata": {},
   "outputs": [
    {
     "data": {
      "text/plain": [
       "(0.0, 50.0)"
      ]
     },
     "execution_count": 24,
     "metadata": {},
     "output_type": "execute_result"
    },
    {
     "data": {
      "image/png": "[encoded data removed]",
      "text/plain": [
       "<Figure size 432x288 with 1 Axes>"
      ]
     },
     "metadata": {
      "image/png": {
       "height": 265,
       "width": 385
      }
     },
     "output_type": "display_data"
    }
   ],
   "source": [
    "data_autumn.boxplot('calls_count')\n",
    "plt.title('Диаграмма размаха количества звонков')\n",
    "plt.ylabel('Количество звонков')\n",
    "plt.ylim(0, 50)"
   ]
  },
  {
   "cell_type": "markdown",
   "id": "32cab67a",
   "metadata": {},
   "source": [
    "Видим, что звонки в количестве больше 32 являются выбросами, поробуем их отбросить и проверим, какая часть от общего количества данных осталась."
   ]
  },
  {
   "cell_type": "code",
   "execution_count": 25,
   "id": "2d39fb24",
   "metadata": {},
   "outputs": [],
   "source": [
    "data_actual = data_autumn.query('calls_count <= 32') # фильтруем данные по количеству звонков"
   ]
  },
  {
   "cell_type": "code",
   "execution_count": 26,
   "id": "f77119cf",
   "metadata": {},
   "outputs": [
    {
     "data": {
      "text/plain": [
       "0.8920993323978399"
      ]
     },
     "execution_count": 26,
     "metadata": {},
     "output_type": "execute_result"
    }
   ],
   "source": [
    "len(data_actual)/len(data_autumn)"
   ]
  },
  {
   "cell_type": "markdown",
   "id": "e08c9e7a",
   "metadata": {},
   "source": [
    "89% - это слишком много, а мы еще не смотрели на продолжительность звонков. Пока не будем избавляться от выбросов в этом столбце."
   ]
  },
  {
   "cell_type": "markdown",
   "id": "b6a9c5d1",
   "metadata": {},
   "source": [
    "Посмотрим еще на аномалии в в разбивке по общей продолжительности звонков."
   ]
  },
  {
   "cell_type": "code",
   "execution_count": 27,
   "id": "fd592dd4",
   "metadata": {},
   "outputs": [
    {
     "data": {
      "image/png": "[encoded data removed]",
      "text/plain": [
       "<Figure size 432x288 with 1 Axes>"
      ]
     },
     "metadata": {
      "image/png": {
       "height": 266,
       "width": 460
      }
     },
     "output_type": "display_data"
    }
   ],
   "source": [
    "data_autumn.boxplot('total_call_duration')\n",
    "plt.title('Диаграмма размаха общей продолжительности звонков')\n",
    "plt.ylabel('Общая продолжительность звонков')\n",
    "plt.show()"
   ]
  },
  {
   "cell_type": "code",
   "execution_count": 28,
   "id": "9062daff",
   "metadata": {},
   "outputs": [
    {
     "data": {
      "image/png": "[encoded data removed]",
      "text/plain": [
       "<Figure size 432x288 with 1 Axes>"
      ]
     },
     "metadata": {
      "image/png": {
       "height": 266,
       "width": 453
      }
     },
     "output_type": "display_data"
    }
   ],
   "source": [
    "data_autumn.boxplot('total_call_duration')\n",
    "plt.title('Диаграмма размаха общей продолжительности звонков')\n",
    "plt.ylabel('Общая продолжительность звонков')\n",
    "plt.ylim(0, 15000)\n",
    "plt.show()"
   ]
  },
  {
   "cell_type": "markdown",
   "id": "2857f6cb",
   "metadata": {},
   "source": [
    "Мы видим, что до 15000 минут очень много записей.\n",
    "Если для колл-центра принять десятичасовой рабочий день, то продолжительность звонков должна укладываться в 600 минут. Возможно здесь ошибка в данных: часть данных в этом столбце указаны в минутах, а другие - в секундах, т.к. в сутках всего 1440 минут, а в рабочем дне еще меньше. \n",
    "Попробуем добавить новый столбец `total_call_duration_min`, оставив данные до 1440 в минутах, а все что больше будем считать, что они в секундах и переведем в минуты."
   ]
  },
  {
   "cell_type": "code",
   "execution_count": 29,
   "id": "73121f34",
   "metadata": {},
   "outputs": [
    {
     "name": "stderr",
     "output_type": "stream",
     "text": [
      "/tmp/ipykernel_253/3409314784.py:2: SettingWithCopyWarning: \n",
      "A value is trying to be set on a copy of a slice from a DataFrame.\n",
      "Try using .loc[row_indexer,col_indexer] = value instead\n",
      "\n",
      "See the caveats in the documentation: https://pandas.pydata.org/pandas-docs/stable/user_guide/indexing.html#returning-a-view-versus-a-copy\n",
      "  data_autumn['total_call_duration_min'] = (data_autumn['total_call_duration']\n"
     ]
    }
   ],
   "source": [
    "# воспользуемся методом apply()\n",
    "data_autumn['total_call_duration_min'] = (data_autumn['total_call_duration']\n",
    "                                          .apply(lambda x: x if x <= 1440 else math.ceil(x/60))\n",
    "                                         )\n"
   ]
  },
  {
   "cell_type": "markdown",
   "id": "f9e201ce",
   "metadata": {},
   "source": [
    "Еще раз построим диаграмму размаха по новому столбцу"
   ]
  },
  {
   "cell_type": "code",
   "execution_count": 30,
   "id": "061316eb",
   "metadata": {},
   "outputs": [
    {
     "data": {
      "image/png": "[encoded data removed]",
      "text/plain": [
       "<Figure size 432x288 with 1 Axes>"
      ]
     },
     "metadata": {
      "image/png": {
       "height": 266,
       "width": 447
      }
     },
     "output_type": "display_data"
    }
   ],
   "source": [
    "data_autumn.boxplot('total_call_duration_min')\n",
    "plt.title('Диаграмма размаха общей продолжительности звонков')\n",
    "plt.ylabel('Общая продолжительность звонков')\n",
    "#plt.ylim(0, 2000)\n",
    "plt.show()"
   ]
  },
  {
   "cell_type": "markdown",
   "id": "6be29fb5",
   "metadata": {},
   "source": [
    "Удалим теперь выбросы и посмотрим, какая часть датасета остается"
   ]
  },
  {
   "cell_type": "code",
   "execution_count": 31,
   "id": "10c6f0c2",
   "metadata": {},
   "outputs": [],
   "source": [
    "data_actual = data_autumn.query('total_call_duration_min <= 870') # фильтруем данные по количеству звонков"
   ]
  },
  {
   "cell_type": "code",
   "execution_count": 32,
   "id": "93d138f2",
   "metadata": {},
   "outputs": [
    {
     "data": {
      "text/plain": [
       "0.9191648594633669"
      ]
     },
     "execution_count": 32,
     "metadata": {},
     "output_type": "execute_result"
    }
   ],
   "source": [
    "len(data_actual)/len(data_autumn)"
   ]
  },
  {
   "cell_type": "markdown",
   "id": "37778b3c",
   "metadata": {},
   "source": [
    "После удаления аномалий, осталось 92% данных. Этого достаточно, чтобы произвести анализ, при этом выбросы не исказят результаты. Дальше работаем с датафреймом `data_actual`\n",
    "\n",
    "Посмотрим, сколько теперь актуальных пользователей"
   ]
  },
  {
   "cell_type": "code",
   "execution_count": 33,
   "id": "c3febc16",
   "metadata": {},
   "outputs": [
    {
     "name": "stdout",
     "output_type": "stream",
     "text": [
      "После удаления аномалий осенью 2019 года услугами провайдера пользовались 303 уникальных пользователя\n"
     ]
    }
   ],
   "source": [
    "print('После удаления аномалий осенью 2019 года услугами провайдера пользовались',\n",
    "      data_actual['user_id'].nunique(), 'уникальных пользователя')"
   ]
  },
  {
   "cell_type": "markdown",
   "id": "c8915ac2",
   "metadata": {},
   "source": [
    "### Распределение клиентов по направлению вызовов (входящий, исходящий)"
   ]
  },
  {
   "cell_type": "code",
   "execution_count": 34,
   "id": "af95daa7",
   "metadata": {},
   "outputs": [
    {
     "data": {
      "image/png": "[encoded data removed]",
      "text/plain": [
       "<Figure size 432x432 with 1 Axes>"
      ]
     },
     "metadata": {
      "image/png": {
       "height": 357,
       "width": 631
      }
     },
     "output_type": "display_data"
    }
   ],
   "source": [
    "# построим круговую диаграмму\n",
    "# сгруппируем data_actual по направлению вызовов и посчитаем их количество\n",
    "# вид диаграммы - круговая, на самой диаграмме не будем указывать direction, а добавим в легенду\n",
    "# а на диаграмме укажем долю autopct='%1.0f%%'\n",
    "# укажем название диаграммы и применим цветовую схему с помощью параметра cmap\n",
    "(data_actual.groupby('direction')['direction'].agg('count')\n",
    " .plot(kind='pie', labels=None, label='', autopct='%1.0f%%', legend=True, figsize=(6, 6), \n",
    "       title='Соотношение пользователей по направлению вызовов (входящий и исходящий)', cmap='Set3'))\n",
    "plt.show()"
   ]
  },
  {
   "cell_type": "markdown",
   "id": "18ab2fd2",
   "metadata": {},
   "source": [
    "**Преобладают исходящий звонки, а значит, платные, но не большинство, немного больше половины.**"
   ]
  },
  {
   "cell_type": "markdown",
   "id": "d90d49bc",
   "metadata": {},
   "source": [
    "### Клиенты по тарифам\n",
    "Для получения распределения клиентов по тарифам объединим таблицы `clients` и `data_actual` методом `merge()`"
   ]
  },
  {
   "cell_type": "code",
   "execution_count": 35,
   "id": "609748c5",
   "metadata": {},
   "outputs": [
    {
     "data": {
      "text/plain": [
       "303"
      ]
     },
     "execution_count": 35,
     "metadata": {},
     "output_type": "execute_result"
    }
   ],
   "source": [
    "# получим список актуальных пользователей\n",
    "user_id_actual = list(data_actual['user_id'].unique())\n",
    "len(user_id_actual)"
   ]
  },
  {
   "cell_type": "code",
   "execution_count": 36,
   "id": "0fa8277f",
   "metadata": {},
   "outputs": [
    {
     "data": {
      "text/html": [
       "<div>\n",
       "<style scoped>\n",
       "    .dataframe tbody tr th:only-of-type {\n",
       "        vertical-align: middle;\n",
       "    }\n",
       "\n",
       "    .dataframe tbody tr th {\n",
       "        vertical-align: top;\n",
       "    }\n",
       "\n",
       "    .dataframe thead th {\n",
       "        text-align: right;\n",
       "    }\n",
       "</style>\n",
       "<table border=\"1\" class=\"dataframe\">\n",
       "  <thead>\n",
       "    <tr style=\"text-align: right;\">\n",
       "      <th></th>\n",
       "      <th>user_id</th>\n",
       "      <th>tariff_plan</th>\n",
       "      <th>date_start</th>\n",
       "    </tr>\n",
       "  </thead>\n",
       "  <tbody>\n",
       "    <tr>\n",
       "      <th>0</th>\n",
       "      <td>166713</td>\n",
       "      <td>A</td>\n",
       "      <td>2019-08-15</td>\n",
       "    </tr>\n",
       "    <tr>\n",
       "      <th>1</th>\n",
       "      <td>166901</td>\n",
       "      <td>A</td>\n",
       "      <td>2019-08-23</td>\n",
       "    </tr>\n",
       "    <tr>\n",
       "      <th>4</th>\n",
       "      <td>168193</td>\n",
       "      <td>A</td>\n",
       "      <td>2019-10-16</td>\n",
       "    </tr>\n",
       "    <tr>\n",
       "      <th>7</th>\n",
       "      <td>168252</td>\n",
       "      <td>A</td>\n",
       "      <td>2019-10-17</td>\n",
       "    </tr>\n",
       "    <tr>\n",
       "      <th>16</th>\n",
       "      <td>168253</td>\n",
       "      <td>A</td>\n",
       "      <td>2019-10-18</td>\n",
       "    </tr>\n",
       "    <tr>\n",
       "      <th>...</th>\n",
       "      <td>...</td>\n",
       "      <td>...</td>\n",
       "      <td>...</td>\n",
       "    </tr>\n",
       "    <tr>\n",
       "      <th>712</th>\n",
       "      <td>167530</td>\n",
       "      <td>B</td>\n",
       "      <td>2019-09-19</td>\n",
       "    </tr>\n",
       "    <tr>\n",
       "      <th>713</th>\n",
       "      <td>167288</td>\n",
       "      <td>B</td>\n",
       "      <td>2019-09-10</td>\n",
       "    </tr>\n",
       "    <tr>\n",
       "      <th>714</th>\n",
       "      <td>167009</td>\n",
       "      <td>B</td>\n",
       "      <td>2019-08-28</td>\n",
       "    </tr>\n",
       "    <tr>\n",
       "      <th>715</th>\n",
       "      <td>167141</td>\n",
       "      <td>B</td>\n",
       "      <td>2019-09-03</td>\n",
       "    </tr>\n",
       "    <tr>\n",
       "      <th>718</th>\n",
       "      <td>166941</td>\n",
       "      <td>B</td>\n",
       "      <td>2019-08-26</td>\n",
       "    </tr>\n",
       "  </tbody>\n",
       "</table>\n",
       "<p>303 rows × 3 columns</p>\n",
       "</div>"
      ],
      "text/plain": [
       "     user_id tariff_plan  date_start\n",
       "0     166713           A  2019-08-15\n",
       "1     166901           A  2019-08-23\n",
       "4     168193           A  2019-10-16\n",
       "7     168252           A  2019-10-17\n",
       "16    168253           A  2019-10-18\n",
       "..       ...         ...         ...\n",
       "712   167530           B  2019-09-19\n",
       "713   167288           B  2019-09-10\n",
       "714   167009           B  2019-08-28\n",
       "715   167141           B  2019-09-03\n",
       "718   166941           B  2019-08-26\n",
       "\n",
       "[303 rows x 3 columns]"
      ]
     },
     "execution_count": 36,
     "metadata": {},
     "output_type": "execute_result"
    }
   ],
   "source": [
    "# отфильтруем данные с актуальными пользователями\n",
    "clients_actual = clients.query('user_id in @user_id_actual') \n",
    "clients_actual"
   ]
  },
  {
   "cell_type": "code",
   "execution_count": 37,
   "id": "74e1ca62",
   "metadata": {},
   "outputs": [
    {
     "data": {
      "image/png": "[encoded data removed]",
      "text/plain": [
       "<Figure size 432x432 with 1 Axes>"
      ]
     },
     "metadata": {
      "image/png": {
       "height": 357,
       "width": 340
      }
     },
     "output_type": "display_data"
    }
   ],
   "source": [
    "# построим круговую диаграмму\n",
    "# сгруппируем data_tarrif по тарифам и посчитаем их количество\n",
    "# вид диаграммы - круговая, на самой диаграмме не будем указывать тариф, а добавим в легенду\n",
    "# а на диаграмме укажем долю autopct='%1.0f%%'\n",
    "# укажем название диаграммы и применим цветовую схему с помощью параметра cmap\n",
    "(clients_actual.groupby('tariff_plan')['tariff_plan'].agg('count')\n",
    " .plot(kind='pie', labels=None, label='', autopct='%1.0f%%', legend=True, figsize=(6, 6), \n",
    "       title='Соотношение пользователей по тарифам', cmap='Pastel2'))\n",
    "plt.show()"
   ]
  },
  {
   "cell_type": "markdown",
   "id": "f5e1fd23",
   "metadata": {},
   "source": [
    "**Среди трех тарифов преобладает тариф С (52%), а тариф А оказался самым непопулярным и его выбирают только 11% пользователей, похоже, всех пугает высокая ежемесячная плата.**"
   ]
  },
  {
   "cell_type": "markdown",
   "id": "191a1d89",
   "metadata": {},
   "source": [
    "## Рассчет расходов клиентов на каждом из тарифов"
   ]
  },
  {
   "cell_type": "markdown",
   "id": "b52ff08d",
   "metadata": {},
   "source": [
    "Для рассчета затрат каждого пользователя, нам необходимы:\n",
    "- количество операторов;\n",
    "- суммарное количество звонков и затраченных минут в разбивкой на входящие/исходящие и внутренние/внешние\n"
   ]
  },
  {
   "cell_type": "markdown",
   "id": "70fbd26b",
   "metadata": {},
   "source": [
    "Найдем количество уникальных операторов у каждого клиента ежемесячно"
   ]
  },
  {
   "cell_type": "code",
   "execution_count": 38,
   "id": "8d841b91",
   "metadata": {},
   "outputs": [
    {
     "data": {
      "text/html": [
       "<div>\n",
       "<style scoped>\n",
       "    .dataframe tbody tr th:only-of-type {\n",
       "        vertical-align: middle;\n",
       "    }\n",
       "\n",
       "    .dataframe tbody tr th {\n",
       "        vertical-align: top;\n",
       "    }\n",
       "\n",
       "    .dataframe thead th {\n",
       "        text-align: right;\n",
       "    }\n",
       "</style>\n",
       "<table border=\"1\" class=\"dataframe\">\n",
       "  <thead>\n",
       "    <tr style=\"text-align: right;\">\n",
       "      <th></th>\n",
       "      <th>user_id</th>\n",
       "      <th>month</th>\n",
       "      <th>operators_nmb</th>\n",
       "    </tr>\n",
       "  </thead>\n",
       "  <tbody>\n",
       "    <tr>\n",
       "      <th>0</th>\n",
       "      <td>166377</td>\n",
       "      <td>Ноябрь</td>\n",
       "      <td>5</td>\n",
       "    </tr>\n",
       "    <tr>\n",
       "      <th>1</th>\n",
       "      <td>166377</td>\n",
       "      <td>Октябрь</td>\n",
       "      <td>6</td>\n",
       "    </tr>\n",
       "    <tr>\n",
       "      <th>2</th>\n",
       "      <td>166377</td>\n",
       "      <td>Сентябрь</td>\n",
       "      <td>5</td>\n",
       "    </tr>\n",
       "    <tr>\n",
       "      <th>3</th>\n",
       "      <td>166391</td>\n",
       "      <td>Ноябрь</td>\n",
       "      <td>2</td>\n",
       "    </tr>\n",
       "    <tr>\n",
       "      <th>4</th>\n",
       "      <td>166391</td>\n",
       "      <td>Октябрь</td>\n",
       "      <td>1</td>\n",
       "    </tr>\n",
       "  </tbody>\n",
       "</table>\n",
       "</div>"
      ],
      "text/plain": [
       "   user_id     month  operators_nmb\n",
       "0   166377    Ноябрь              5\n",
       "1   166377   Октябрь              6\n",
       "2   166377  Сентябрь              5\n",
       "3   166391    Ноябрь              2\n",
       "4   166391   Октябрь              1"
      ]
     },
     "execution_count": 38,
     "metadata": {},
     "output_type": "execute_result"
    }
   ],
   "source": [
    "operators_count = data_actual.groupby(['user_id', 'month_name'])['operator_id'].agg('nunique').reset_index()\n",
    "operators_count.columns = ['user_id', 'month', 'operators_nmb']\n",
    "operators_count.head()"
   ]
  },
  {
   "cell_type": "markdown",
   "id": "e54129b0",
   "metadata": {},
   "source": [
    "Найдем продолжительность исходящих звонков внутри сети для каждого клиента ежемесячно"
   ]
  },
  {
   "cell_type": "code",
   "execution_count": 39,
   "id": "4b97a6e6",
   "metadata": {},
   "outputs": [
    {
     "data": {
      "text/html": [
       "<div>\n",
       "<style scoped>\n",
       "    .dataframe tbody tr th:only-of-type {\n",
       "        vertical-align: middle;\n",
       "    }\n",
       "\n",
       "    .dataframe tbody tr th {\n",
       "        vertical-align: top;\n",
       "    }\n",
       "\n",
       "    .dataframe thead th {\n",
       "        text-align: right;\n",
       "    }\n",
       "</style>\n",
       "<table border=\"1\" class=\"dataframe\">\n",
       "  <thead>\n",
       "    <tr style=\"text-align: right;\">\n",
       "      <th></th>\n",
       "      <th>user_id</th>\n",
       "      <th>month</th>\n",
       "      <th>call_duration_int</th>\n",
       "    </tr>\n",
       "  </thead>\n",
       "  <tbody>\n",
       "    <tr>\n",
       "      <th>0</th>\n",
       "      <td>166377</td>\n",
       "      <td>Ноябрь</td>\n",
       "      <td>127</td>\n",
       "    </tr>\n",
       "    <tr>\n",
       "      <th>1</th>\n",
       "      <td>166377</td>\n",
       "      <td>Октябрь</td>\n",
       "      <td>5</td>\n",
       "    </tr>\n",
       "    <tr>\n",
       "      <th>2</th>\n",
       "      <td>166377</td>\n",
       "      <td>Сентябрь</td>\n",
       "      <td>9</td>\n",
       "    </tr>\n",
       "    <tr>\n",
       "      <th>3</th>\n",
       "      <td>166392</td>\n",
       "      <td>Октябрь</td>\n",
       "      <td>26</td>\n",
       "    </tr>\n",
       "    <tr>\n",
       "      <th>4</th>\n",
       "      <td>166405</td>\n",
       "      <td>Ноябрь</td>\n",
       "      <td>115</td>\n",
       "    </tr>\n",
       "  </tbody>\n",
       "</table>\n",
       "</div>"
      ],
      "text/plain": [
       "   user_id     month  call_duration_int\n",
       "0   166377    Ноябрь                127\n",
       "1   166377   Октябрь                  5\n",
       "2   166377  Сентябрь                  9\n",
       "3   166392   Октябрь                 26\n",
       "4   166405    Ноябрь                115"
      ]
     },
     "execution_count": 39,
     "metadata": {},
     "output_type": "execute_result"
    }
   ],
   "source": [
    "call_duration_internal = (\n",
    "    data_actual\n",
    "    .query('internal == True')\n",
    "    .groupby(['user_id', 'month_name'])['total_call_duration_min'].agg('sum')\n",
    "    .reset_index()\n",
    ")\n",
    "call_duration_internal.columns = ['user_id', 'month', 'call_duration_int']\n",
    "call_duration_internal.head()"
   ]
  },
  {
   "cell_type": "markdown",
   "id": "e4187b19",
   "metadata": {},
   "source": [
    "Найдем продолжительность исходящих звонков вне сети для каждого клиента ежемесячно"
   ]
  },
  {
   "cell_type": "code",
   "execution_count": 40,
   "id": "dd93de27",
   "metadata": {
    "scrolled": true
   },
   "outputs": [
    {
     "data": {
      "text/html": [
       "<div>\n",
       "<style scoped>\n",
       "    .dataframe tbody tr th:only-of-type {\n",
       "        vertical-align: middle;\n",
       "    }\n",
       "\n",
       "    .dataframe tbody tr th {\n",
       "        vertical-align: top;\n",
       "    }\n",
       "\n",
       "    .dataframe thead th {\n",
       "        text-align: right;\n",
       "    }\n",
       "</style>\n",
       "<table border=\"1\" class=\"dataframe\">\n",
       "  <thead>\n",
       "    <tr style=\"text-align: right;\">\n",
       "      <th></th>\n",
       "      <th>user_id</th>\n",
       "      <th>month</th>\n",
       "      <th>call_duration_ext</th>\n",
       "    </tr>\n",
       "  </thead>\n",
       "  <tbody>\n",
       "    <tr>\n",
       "      <th>0</th>\n",
       "      <td>166377</td>\n",
       "      <td>Ноябрь</td>\n",
       "      <td>18054</td>\n",
       "    </tr>\n",
       "    <tr>\n",
       "      <th>1</th>\n",
       "      <td>166377</td>\n",
       "      <td>Октябрь</td>\n",
       "      <td>19328</td>\n",
       "    </tr>\n",
       "    <tr>\n",
       "      <th>2</th>\n",
       "      <td>166377</td>\n",
       "      <td>Сентябрь</td>\n",
       "      <td>20993</td>\n",
       "    </tr>\n",
       "    <tr>\n",
       "      <th>3</th>\n",
       "      <td>166391</td>\n",
       "      <td>Ноябрь</td>\n",
       "      <td>85</td>\n",
       "    </tr>\n",
       "    <tr>\n",
       "      <th>4</th>\n",
       "      <td>166391</td>\n",
       "      <td>Октябрь</td>\n",
       "      <td>2</td>\n",
       "    </tr>\n",
       "  </tbody>\n",
       "</table>\n",
       "</div>"
      ],
      "text/plain": [
       "   user_id     month  call_duration_ext\n",
       "0   166377    Ноябрь              18054\n",
       "1   166377   Октябрь              19328\n",
       "2   166377  Сентябрь              20993\n",
       "3   166391    Ноябрь                 85\n",
       "4   166391   Октябрь                  2"
      ]
     },
     "execution_count": 40,
     "metadata": {},
     "output_type": "execute_result"
    }
   ],
   "source": [
    "call_duration_external = (\n",
    "    data_actual\n",
    "    .query('internal == False')\n",
    "    .groupby(['user_id', 'month_name'])['total_call_duration_min'].agg('sum')\n",
    "    .reset_index()\n",
    ")\n",
    "call_duration_external.columns = ['user_id', 'month', 'call_duration_ext']\n",
    "call_duration_external.head()"
   ]
  },
  {
   "cell_type": "code",
   "execution_count": 41,
   "id": "10019bf4",
   "metadata": {},
   "outputs": [
    {
     "data": {
      "text/html": [
       "<div>\n",
       "<style scoped>\n",
       "    .dataframe tbody tr th:only-of-type {\n",
       "        vertical-align: middle;\n",
       "    }\n",
       "\n",
       "    .dataframe tbody tr th {\n",
       "        vertical-align: top;\n",
       "    }\n",
       "\n",
       "    .dataframe thead th {\n",
       "        text-align: right;\n",
       "    }\n",
       "</style>\n",
       "<table border=\"1\" class=\"dataframe\">\n",
       "  <thead>\n",
       "    <tr style=\"text-align: right;\">\n",
       "      <th></th>\n",
       "      <th>user_id</th>\n",
       "      <th>month</th>\n",
       "      <th>operators_nmb</th>\n",
       "      <th>call_duration_int</th>\n",
       "      <th>call_duration_ext</th>\n",
       "    </tr>\n",
       "  </thead>\n",
       "  <tbody>\n",
       "    <tr>\n",
       "      <th>0</th>\n",
       "      <td>166377</td>\n",
       "      <td>Ноябрь</td>\n",
       "      <td>5</td>\n",
       "      <td>127.0</td>\n",
       "      <td>18054</td>\n",
       "    </tr>\n",
       "    <tr>\n",
       "      <th>1</th>\n",
       "      <td>166377</td>\n",
       "      <td>Октябрь</td>\n",
       "      <td>6</td>\n",
       "      <td>5.0</td>\n",
       "      <td>19328</td>\n",
       "    </tr>\n",
       "    <tr>\n",
       "      <th>2</th>\n",
       "      <td>166377</td>\n",
       "      <td>Сентябрь</td>\n",
       "      <td>5</td>\n",
       "      <td>9.0</td>\n",
       "      <td>20993</td>\n",
       "    </tr>\n",
       "    <tr>\n",
       "      <th>3</th>\n",
       "      <td>166391</td>\n",
       "      <td>Ноябрь</td>\n",
       "      <td>2</td>\n",
       "      <td>0.0</td>\n",
       "      <td>85</td>\n",
       "    </tr>\n",
       "    <tr>\n",
       "      <th>4</th>\n",
       "      <td>166391</td>\n",
       "      <td>Октябрь</td>\n",
       "      <td>1</td>\n",
       "      <td>0.0</td>\n",
       "      <td>2</td>\n",
       "    </tr>\n",
       "    <tr>\n",
       "      <th>5</th>\n",
       "      <td>166391</td>\n",
       "      <td>Сентябрь</td>\n",
       "      <td>2</td>\n",
       "      <td>0.0</td>\n",
       "      <td>36</td>\n",
       "    </tr>\n",
       "    <tr>\n",
       "      <th>6</th>\n",
       "      <td>166392</td>\n",
       "      <td>Ноябрь</td>\n",
       "      <td>3</td>\n",
       "      <td>0.0</td>\n",
       "      <td>7724</td>\n",
       "    </tr>\n",
       "    <tr>\n",
       "      <th>7</th>\n",
       "      <td>166392</td>\n",
       "      <td>Октябрь</td>\n",
       "      <td>3</td>\n",
       "      <td>26.0</td>\n",
       "      <td>5303</td>\n",
       "    </tr>\n",
       "    <tr>\n",
       "      <th>8</th>\n",
       "      <td>166392</td>\n",
       "      <td>Сентябрь</td>\n",
       "      <td>3</td>\n",
       "      <td>0.0</td>\n",
       "      <td>2813</td>\n",
       "    </tr>\n",
       "    <tr>\n",
       "      <th>9</th>\n",
       "      <td>166399</td>\n",
       "      <td>Октябрь</td>\n",
       "      <td>2</td>\n",
       "      <td>0.0</td>\n",
       "      <td>315</td>\n",
       "    </tr>\n",
       "  </tbody>\n",
       "</table>\n",
       "</div>"
      ],
      "text/plain": [
       "   user_id     month  operators_nmb  call_duration_int  call_duration_ext\n",
       "0   166377    Ноябрь              5              127.0              18054\n",
       "1   166377   Октябрь              6                5.0              19328\n",
       "2   166377  Сентябрь              5                9.0              20993\n",
       "3   166391    Ноябрь              2                0.0                 85\n",
       "4   166391   Октябрь              1                0.0                  2\n",
       "5   166391  Сентябрь              2                0.0                 36\n",
       "6   166392    Ноябрь              3                0.0               7724\n",
       "7   166392   Октябрь              3               26.0               5303\n",
       "8   166392  Сентябрь              3                0.0               2813\n",
       "9   166399   Октябрь              2                0.0                315"
      ]
     },
     "execution_count": 41,
     "metadata": {},
     "output_type": "execute_result"
    }
   ],
   "source": [
    "# соединим все таблицы методом merge() по user_id и month\n",
    "exps = (\n",
    "    operators_count.merge(call_duration_internal, on = ['user_id', 'month'], how='left')\n",
    "    .merge(call_duration_external, on = ['user_id', 'month'], how='left')\n",
    ")\n",
    "exps = exps.fillna(0)\n",
    "exps.head(10)"
   ]
  },
  {
   "cell_type": "markdown",
   "id": "0a1144ba",
   "metadata": {},
   "source": [
    "Нам необходима таблица со стоимостью услуг. Сформируем ее самостоятельно"
   ]
  },
  {
   "cell_type": "code",
   "execution_count": 42,
   "id": "ebab246c",
   "metadata": {},
   "outputs": [
    {
     "data": {
      "text/html": [
       "<div>\n",
       "<style scoped>\n",
       "    .dataframe tbody tr th:only-of-type {\n",
       "        vertical-align: middle;\n",
       "    }\n",
       "\n",
       "    .dataframe tbody tr th {\n",
       "        vertical-align: top;\n",
       "    }\n",
       "\n",
       "    .dataframe thead th {\n",
       "        text-align: right;\n",
       "    }\n",
       "</style>\n",
       "<table border=\"1\" class=\"dataframe\">\n",
       "  <thead>\n",
       "    <tr style=\"text-align: right;\">\n",
       "      <th></th>\n",
       "      <th>tariff_plan</th>\n",
       "      <th>basic</th>\n",
       "      <th>limit_min</th>\n",
       "      <th>internal_over_limit</th>\n",
       "      <th>out_external</th>\n",
       "      <th>operator_cost</th>\n",
       "    </tr>\n",
       "  </thead>\n",
       "  <tbody>\n",
       "    <tr>\n",
       "      <th>0</th>\n",
       "      <td>A</td>\n",
       "      <td>4000</td>\n",
       "      <td>2000</td>\n",
       "      <td>0.10</td>\n",
       "      <td>0.3</td>\n",
       "      <td>50</td>\n",
       "    </tr>\n",
       "    <tr>\n",
       "      <th>1</th>\n",
       "      <td>B</td>\n",
       "      <td>2000</td>\n",
       "      <td>500</td>\n",
       "      <td>0.15</td>\n",
       "      <td>0.5</td>\n",
       "      <td>150</td>\n",
       "    </tr>\n",
       "    <tr>\n",
       "      <th>2</th>\n",
       "      <td>C</td>\n",
       "      <td>1000</td>\n",
       "      <td>0</td>\n",
       "      <td>0.30</td>\n",
       "      <td>0.7</td>\n",
       "      <td>300</td>\n",
       "    </tr>\n",
       "  </tbody>\n",
       "</table>\n",
       "</div>"
      ],
      "text/plain": [
       "  tariff_plan  basic  limit_min  internal_over_limit  out_external  \\\n",
       "0           A   4000       2000                 0.10           0.3   \n",
       "1           B   2000        500                 0.15           0.5   \n",
       "2           C   1000          0                 0.30           0.7   \n",
       "\n",
       "   operator_cost  \n",
       "0             50  \n",
       "1            150  \n",
       "2            300  "
      ]
     },
     "execution_count": 42,
     "metadata": {},
     "output_type": "execute_result"
    }
   ],
   "source": [
    "price = pd.DataFrame({'tariff_plan': ['A', 'B', 'C'], \n",
    "                     'basic': [4000, 2000, 1000],\n",
    "                     'limit_min': [2000, 500, 0],\n",
    "                     'internal_over_limit': [0.1, 0.15, 0.3], \n",
    "                     'out_external': [0.3, 0.5, 0.7], \n",
    "                     'operator_cost': [50, 150, 300]})\n",
    "price"
   ]
  },
  {
   "cell_type": "markdown",
   "id": "ded3dddc",
   "metadata": {},
   "source": [
    "Составим функцию, которая посчитает затраты каждого пользователя помесячно на каждом тарифе"
   ]
  },
  {
   "cell_type": "code",
   "execution_count": 43,
   "id": "9af0e28f",
   "metadata": {},
   "outputs": [],
   "source": [
    "def choose_tariff(df):\n",
    "    y=0\n",
    "    for t in price['tariff_plan']: # проходим по тарифам в таблице price\n",
    "        \n",
    "        for i in range(len(df)): # проходим построчно в исходной таблице\n",
    "            df.loc[i, t] = ( # добавляем столбец в исходную таблицу\n",
    "                # суммируем стоимость тарифа\n",
    "                price.loc[y, 'basic'] +\n",
    "                # затраты на внутренние звонки сверх лимита\n",
    "                price.loc[y, 'internal_over_limit']*(df.loc[i, 'call_duration_int'] - price.loc[y, 'limit_min'])+\n",
    "                # затраты на исходящие звонки вне сети\n",
    "                price.loc[y, 'out_external'] * df.loc[i, 'call_duration_ext'] +\n",
    "                # затраты на операторов\n",
    "                price.loc[y, 'operator_cost'] * df.loc[i, 'operators_nmb']\n",
    "            )\n",
    "\n",
    "        y+=1\n",
    "    \n",
    "    return df                              \n"
   ]
  },
  {
   "cell_type": "code",
   "execution_count": 44,
   "id": "5e16807c",
   "metadata": {},
   "outputs": [
    {
     "data": {
      "text/html": [
       "<div>\n",
       "<style scoped>\n",
       "    .dataframe tbody tr th:only-of-type {\n",
       "        vertical-align: middle;\n",
       "    }\n",
       "\n",
       "    .dataframe tbody tr th {\n",
       "        vertical-align: top;\n",
       "    }\n",
       "\n",
       "    .dataframe thead th {\n",
       "        text-align: right;\n",
       "    }\n",
       "</style>\n",
       "<table border=\"1\" class=\"dataframe\">\n",
       "  <thead>\n",
       "    <tr style=\"text-align: right;\">\n",
       "      <th></th>\n",
       "      <th>user_id</th>\n",
       "      <th>month</th>\n",
       "      <th>operators_nmb</th>\n",
       "      <th>call_duration_int</th>\n",
       "      <th>call_duration_ext</th>\n",
       "      <th>A</th>\n",
       "      <th>B</th>\n",
       "      <th>C</th>\n",
       "    </tr>\n",
       "  </thead>\n",
       "  <tbody>\n",
       "    <tr>\n",
       "      <th>0</th>\n",
       "      <td>166377</td>\n",
       "      <td>Ноябрь</td>\n",
       "      <td>5</td>\n",
       "      <td>127.0</td>\n",
       "      <td>18054</td>\n",
       "      <td>9478.9</td>\n",
       "      <td>11721.05</td>\n",
       "      <td>15175.9</td>\n",
       "    </tr>\n",
       "    <tr>\n",
       "      <th>1</th>\n",
       "      <td>166377</td>\n",
       "      <td>Октябрь</td>\n",
       "      <td>6</td>\n",
       "      <td>5.0</td>\n",
       "      <td>19328</td>\n",
       "      <td>9898.9</td>\n",
       "      <td>12489.75</td>\n",
       "      <td>16331.1</td>\n",
       "    </tr>\n",
       "    <tr>\n",
       "      <th>2</th>\n",
       "      <td>166377</td>\n",
       "      <td>Сентябрь</td>\n",
       "      <td>5</td>\n",
       "      <td>9.0</td>\n",
       "      <td>20993</td>\n",
       "      <td>10348.8</td>\n",
       "      <td>13172.85</td>\n",
       "      <td>17197.8</td>\n",
       "    </tr>\n",
       "    <tr>\n",
       "      <th>3</th>\n",
       "      <td>166391</td>\n",
       "      <td>Ноябрь</td>\n",
       "      <td>2</td>\n",
       "      <td>0.0</td>\n",
       "      <td>85</td>\n",
       "      <td>3925.5</td>\n",
       "      <td>2267.50</td>\n",
       "      <td>1659.5</td>\n",
       "    </tr>\n",
       "    <tr>\n",
       "      <th>4</th>\n",
       "      <td>166391</td>\n",
       "      <td>Октябрь</td>\n",
       "      <td>1</td>\n",
       "      <td>0.0</td>\n",
       "      <td>2</td>\n",
       "      <td>3850.6</td>\n",
       "      <td>2076.00</td>\n",
       "      <td>1301.4</td>\n",
       "    </tr>\n",
       "  </tbody>\n",
       "</table>\n",
       "</div>"
      ],
      "text/plain": [
       "   user_id     month  operators_nmb  call_duration_int  call_duration_ext  \\\n",
       "0   166377    Ноябрь              5              127.0              18054   \n",
       "1   166377   Октябрь              6                5.0              19328   \n",
       "2   166377  Сентябрь              5                9.0              20993   \n",
       "3   166391    Ноябрь              2                0.0                 85   \n",
       "4   166391   Октябрь              1                0.0                  2   \n",
       "\n",
       "         A         B        C  \n",
       "0   9478.9  11721.05  15175.9  \n",
       "1   9898.9  12489.75  16331.1  \n",
       "2  10348.8  13172.85  17197.8  \n",
       "3   3925.5   2267.50   1659.5  \n",
       "4   3850.6   2076.00   1301.4  "
      ]
     },
     "execution_count": 44,
     "metadata": {},
     "output_type": "execute_result"
    }
   ],
   "source": [
    "# применяем функцию к таблице exps\n",
    "exps_by_tariff = choose_tariff(exps)\n",
    "exps_by_tariff.head()"
   ]
  },
  {
   "cell_type": "markdown",
   "id": "7771503b",
   "metadata": {},
   "source": [
    "Мы получили помесячную сумму прибыли по каждому из тарифов. Сравним, какой тариф принес бы наибольшую прибыль, если бы все пользователи пользовались одним тарифом, а возможно, каждый тариф рассчитан таким образом, чтобы прибыль была примерно одинакова."
   ]
  },
  {
   "cell_type": "code",
   "execution_count": 45,
   "id": "f905b19c",
   "metadata": {
    "scrolled": true
   },
   "outputs": [
    {
     "data": {
      "text/html": [
       "<div>\n",
       "<style scoped>\n",
       "    .dataframe tbody tr th:only-of-type {\n",
       "        vertical-align: middle;\n",
       "    }\n",
       "\n",
       "    .dataframe tbody tr th {\n",
       "        vertical-align: top;\n",
       "    }\n",
       "\n",
       "    .dataframe thead th {\n",
       "        text-align: right;\n",
       "    }\n",
       "</style>\n",
       "<table border=\"1\" class=\"dataframe\">\n",
       "  <thead>\n",
       "    <tr style=\"text-align: right;\">\n",
       "      <th></th>\n",
       "      <th>month</th>\n",
       "      <th>A</th>\n",
       "      <th>B</th>\n",
       "      <th>C</th>\n",
       "    </tr>\n",
       "  </thead>\n",
       "  <tbody>\n",
       "    <tr>\n",
       "      <th>2</th>\n",
       "      <td>Сентябрь</td>\n",
       "      <td>1033986.4</td>\n",
       "      <td>999630.65</td>\n",
       "      <td>1168105.0</td>\n",
       "    </tr>\n",
       "    <tr>\n",
       "      <th>1</th>\n",
       "      <td>Октябрь</td>\n",
       "      <td>1848614.1</td>\n",
       "      <td>1941230.25</td>\n",
       "      <td>2359305.9</td>\n",
       "    </tr>\n",
       "    <tr>\n",
       "      <th>0</th>\n",
       "      <td>Ноябрь</td>\n",
       "      <td>2058572.5</td>\n",
       "      <td>2344190.20</td>\n",
       "      <td>2957941.7</td>\n",
       "    </tr>\n",
       "  </tbody>\n",
       "</table>\n",
       "</div>"
      ],
      "text/plain": [
       "      month          A           B          C\n",
       "2  Сентябрь  1033986.4   999630.65  1168105.0\n",
       "1   Октябрь  1848614.1  1941230.25  2359305.9\n",
       "0    Ноябрь  2058572.5  2344190.20  2957941.7"
      ]
     },
     "execution_count": 45,
     "metadata": {},
     "output_type": "execute_result"
    }
   ],
   "source": [
    "data_total =exps_by_tariff.groupby('month').agg({'A': 'sum', 'B': 'sum', 'C': 'sum'}).reset_index()\n",
    "data_total.sort_values(by='month', ascending = False)"
   ]
  },
  {
   "cell_type": "code",
   "execution_count": 46,
   "id": "02e64a1a",
   "metadata": {},
   "outputs": [
    {
     "data": {
      "image/png": "[encoded data removed]",
      "text/plain": [
       "<Figure size 432x288 with 1 Axes>"
      ]
     },
     "metadata": {
      "image/png": {
       "height": 282,
       "width": 388
      }
     },
     "output_type": "display_data"
    }
   ],
   "source": [
    "data_total.sort_values(by='month', ascending = False).plot(kind='bar', x='month', grid=True)\n",
    "plt.xticks(rotation=1)\n",
    "plt.title('Суммарная прибыль по тарифам')\n",
    "plt.ylabel('Прибыль, млн руб')\n",
    "plt.xlabel('Месяц')\n",
    "plt.show()"
   ]
  },
  {
   "cell_type": "markdown",
   "id": "1b8c2969",
   "metadata": {},
   "source": [
    "**Каждый из тарифов приносит прибыль больше с каждым месяцем, при этом самый выгодный для пользователей тариф А, он помогает сэкономить, а для операторов - тариф С, хоть у него и нет абонентской платы, но вцелом он обходится дороже за счет более высоких стоимости минут и операторов.**"
   ]
  },
  {
   "cell_type": "markdown",
   "id": "3b95942e",
   "metadata": {},
   "source": [
    "## Клиенты с неподходящими тарифами\n",
    "\n",
    "Для того, чтобы найти клиентов с неподходящими тарифами, мы найдем самый минимальный тариф по средним затратам из трех за три месяца, сравним с имеющимися тарифами в таблице clients и выберем тех клиентов, у которых они не совпадают.\n"
   ]
  },
  {
   "cell_type": "code",
   "execution_count": 47,
   "id": "537deb3b",
   "metadata": {
    "scrolled": true
   },
   "outputs": [
    {
     "data": {
      "text/html": [
       "<div>\n",
       "<style scoped>\n",
       "    .dataframe tbody tr th:only-of-type {\n",
       "        vertical-align: middle;\n",
       "    }\n",
       "\n",
       "    .dataframe tbody tr th {\n",
       "        vertical-align: top;\n",
       "    }\n",
       "\n",
       "    .dataframe thead th {\n",
       "        text-align: right;\n",
       "    }\n",
       "</style>\n",
       "<table border=\"1\" class=\"dataframe\">\n",
       "  <thead>\n",
       "    <tr style=\"text-align: right;\">\n",
       "      <th></th>\n",
       "      <th>A</th>\n",
       "      <th>B</th>\n",
       "      <th>C</th>\n",
       "    </tr>\n",
       "    <tr>\n",
       "      <th>user_id</th>\n",
       "      <th></th>\n",
       "      <th></th>\n",
       "      <th></th>\n",
       "    </tr>\n",
       "  </thead>\n",
       "  <tbody>\n",
       "    <tr>\n",
       "      <th>166377</th>\n",
       "      <td>9908.866667</td>\n",
       "      <td>12461.216667</td>\n",
       "      <td>16234.933333</td>\n",
       "    </tr>\n",
       "    <tr>\n",
       "      <th>166391</th>\n",
       "      <td>3895.633333</td>\n",
       "      <td>2195.500000</td>\n",
       "      <td>1528.700000</td>\n",
       "    </tr>\n",
       "    <tr>\n",
       "      <th>166392</th>\n",
       "      <td>5534.866667</td>\n",
       "      <td>5016.300000</td>\n",
       "      <td>5598.600000</td>\n",
       "    </tr>\n",
       "    <tr>\n",
       "      <th>166399</th>\n",
       "      <td>3981.750000</td>\n",
       "      <td>2361.250000</td>\n",
       "      <td>1790.750000</td>\n",
       "    </tr>\n",
       "    <tr>\n",
       "      <th>166405</th>\n",
       "      <td>18658.533333</td>\n",
       "      <td>27239.816667</td>\n",
       "      <td>37217.533333</td>\n",
       "    </tr>\n",
       "  </tbody>\n",
       "</table>\n",
       "</div>"
      ],
      "text/plain": [
       "                    A             B             C\n",
       "user_id                                          \n",
       "166377    9908.866667  12461.216667  16234.933333\n",
       "166391    3895.633333   2195.500000   1528.700000\n",
       "166392    5534.866667   5016.300000   5598.600000\n",
       "166399    3981.750000   2361.250000   1790.750000\n",
       "166405   18658.533333  27239.816667  37217.533333"
      ]
     },
     "execution_count": 47,
     "metadata": {},
     "output_type": "execute_result"
    }
   ],
   "source": [
    "users_new_tariff = (\n",
    "    exps_by_tariff\n",
    "    .groupby('user_id')\n",
    "    .agg({\n",
    "        'A': 'mean',\n",
    "        'B': 'mean',\n",
    "        'C': 'mean'\n",
    "         })\n",
    "\n",
    ")\n",
    "users_new_tariff.head()"
   ]
  },
  {
   "cell_type": "code",
   "execution_count": 48,
   "id": "b3de0952",
   "metadata": {},
   "outputs": [
    {
     "data": {
      "text/html": [
       "<div>\n",
       "<style scoped>\n",
       "    .dataframe tbody tr th:only-of-type {\n",
       "        vertical-align: middle;\n",
       "    }\n",
       "\n",
       "    .dataframe tbody tr th {\n",
       "        vertical-align: top;\n",
       "    }\n",
       "\n",
       "    .dataframe thead th {\n",
       "        text-align: right;\n",
       "    }\n",
       "</style>\n",
       "<table border=\"1\" class=\"dataframe\">\n",
       "  <thead>\n",
       "    <tr style=\"text-align: right;\">\n",
       "      <th></th>\n",
       "      <th>A</th>\n",
       "      <th>B</th>\n",
       "      <th>C</th>\n",
       "      <th>new_tariff</th>\n",
       "    </tr>\n",
       "    <tr>\n",
       "      <th>user_id</th>\n",
       "      <th></th>\n",
       "      <th></th>\n",
       "      <th></th>\n",
       "      <th></th>\n",
       "    </tr>\n",
       "  </thead>\n",
       "  <tbody>\n",
       "    <tr>\n",
       "      <th>166377</th>\n",
       "      <td>9908.866667</td>\n",
       "      <td>12461.216667</td>\n",
       "      <td>16234.933333</td>\n",
       "      <td>A</td>\n",
       "    </tr>\n",
       "    <tr>\n",
       "      <th>166391</th>\n",
       "      <td>3895.633333</td>\n",
       "      <td>2195.500000</td>\n",
       "      <td>1528.700000</td>\n",
       "      <td>C</td>\n",
       "    </tr>\n",
       "    <tr>\n",
       "      <th>166392</th>\n",
       "      <td>5534.866667</td>\n",
       "      <td>5016.300000</td>\n",
       "      <td>5598.600000</td>\n",
       "      <td>B</td>\n",
       "    </tr>\n",
       "    <tr>\n",
       "      <th>166399</th>\n",
       "      <td>3981.750000</td>\n",
       "      <td>2361.250000</td>\n",
       "      <td>1790.750000</td>\n",
       "      <td>C</td>\n",
       "    </tr>\n",
       "    <tr>\n",
       "      <th>166405</th>\n",
       "      <td>18658.533333</td>\n",
       "      <td>27239.816667</td>\n",
       "      <td>37217.533333</td>\n",
       "      <td>A</td>\n",
       "    </tr>\n",
       "    <tr>\n",
       "      <th>...</th>\n",
       "      <td>...</td>\n",
       "      <td>...</td>\n",
       "      <td>...</td>\n",
       "      <td>...</td>\n",
       "    </tr>\n",
       "    <tr>\n",
       "      <th>168583</th>\n",
       "      <td>4163.850000</td>\n",
       "      <td>2664.750000</td>\n",
       "      <td>2215.650000</td>\n",
       "      <td>C</td>\n",
       "    </tr>\n",
       "    <tr>\n",
       "      <th>168598</th>\n",
       "      <td>4324.200000</td>\n",
       "      <td>2932.000000</td>\n",
       "      <td>2589.800000</td>\n",
       "      <td>C</td>\n",
       "    </tr>\n",
       "    <tr>\n",
       "      <th>168601</th>\n",
       "      <td>7994.300000</td>\n",
       "      <td>9115.500000</td>\n",
       "      <td>11336.700000</td>\n",
       "      <td>A</td>\n",
       "    </tr>\n",
       "    <tr>\n",
       "      <th>168603</th>\n",
       "      <td>4265.100000</td>\n",
       "      <td>2833.500000</td>\n",
       "      <td>2451.900000</td>\n",
       "      <td>C</td>\n",
       "    </tr>\n",
       "    <tr>\n",
       "      <th>168606</th>\n",
       "      <td>4519.200000</td>\n",
       "      <td>3246.700000</td>\n",
       "      <td>3086.000000</td>\n",
       "      <td>C</td>\n",
       "    </tr>\n",
       "  </tbody>\n",
       "</table>\n",
       "<p>303 rows × 4 columns</p>\n",
       "</div>"
      ],
      "text/plain": [
       "                    A             B             C new_tariff\n",
       "user_id                                                     \n",
       "166377    9908.866667  12461.216667  16234.933333          A\n",
       "166391    3895.633333   2195.500000   1528.700000          C\n",
       "166392    5534.866667   5016.300000   5598.600000          B\n",
       "166399    3981.750000   2361.250000   1790.750000          C\n",
       "166405   18658.533333  27239.816667  37217.533333          A\n",
       "...               ...           ...           ...        ...\n",
       "168583    4163.850000   2664.750000   2215.650000          C\n",
       "168598    4324.200000   2932.000000   2589.800000          C\n",
       "168601    7994.300000   9115.500000  11336.700000          A\n",
       "168603    4265.100000   2833.500000   2451.900000          C\n",
       "168606    4519.200000   3246.700000   3086.000000          C\n",
       "\n",
       "[303 rows x 4 columns]"
      ]
     },
     "execution_count": 48,
     "metadata": {},
     "output_type": "execute_result"
    }
   ],
   "source": [
    "users_new_tariff['new_tariff'] = users_new_tariff.idxmin(axis=\"columns\")\n",
    "users_new_tariff"
   ]
  },
  {
   "cell_type": "markdown",
   "id": "12e63bd6",
   "metadata": {},
   "source": [
    "Присоединим к получившейся таблице реальные тарифы из таблицы `clients`"
   ]
  },
  {
   "cell_type": "code",
   "execution_count": 49,
   "id": "eb4c900c",
   "metadata": {},
   "outputs": [
    {
     "data": {
      "text/html": [
       "<div>\n",
       "<style scoped>\n",
       "    .dataframe tbody tr th:only-of-type {\n",
       "        vertical-align: middle;\n",
       "    }\n",
       "\n",
       "    .dataframe tbody tr th {\n",
       "        vertical-align: top;\n",
       "    }\n",
       "\n",
       "    .dataframe thead th {\n",
       "        text-align: right;\n",
       "    }\n",
       "</style>\n",
       "<table border=\"1\" class=\"dataframe\">\n",
       "  <thead>\n",
       "    <tr style=\"text-align: right;\">\n",
       "      <th></th>\n",
       "      <th>user_id</th>\n",
       "      <th>A</th>\n",
       "      <th>B</th>\n",
       "      <th>C</th>\n",
       "      <th>new_tariff</th>\n",
       "      <th>tariff_plan</th>\n",
       "      <th>date_start</th>\n",
       "    </tr>\n",
       "  </thead>\n",
       "  <tbody>\n",
       "    <tr>\n",
       "      <th>0</th>\n",
       "      <td>166377</td>\n",
       "      <td>9908.866667</td>\n",
       "      <td>12461.216667</td>\n",
       "      <td>16234.933333</td>\n",
       "      <td>A</td>\n",
       "      <td>B</td>\n",
       "      <td>2019-08-01</td>\n",
       "    </tr>\n",
       "    <tr>\n",
       "      <th>1</th>\n",
       "      <td>166391</td>\n",
       "      <td>3895.633333</td>\n",
       "      <td>2195.500000</td>\n",
       "      <td>1528.700000</td>\n",
       "      <td>C</td>\n",
       "      <td>C</td>\n",
       "      <td>2019-08-01</td>\n",
       "    </tr>\n",
       "    <tr>\n",
       "      <th>2</th>\n",
       "      <td>166392</td>\n",
       "      <td>5534.866667</td>\n",
       "      <td>5016.300000</td>\n",
       "      <td>5598.600000</td>\n",
       "      <td>B</td>\n",
       "      <td>C</td>\n",
       "      <td>2019-08-01</td>\n",
       "    </tr>\n",
       "    <tr>\n",
       "      <th>3</th>\n",
       "      <td>166399</td>\n",
       "      <td>3981.750000</td>\n",
       "      <td>2361.250000</td>\n",
       "      <td>1790.750000</td>\n",
       "      <td>C</td>\n",
       "      <td>C</td>\n",
       "      <td>2019-08-01</td>\n",
       "    </tr>\n",
       "    <tr>\n",
       "      <th>4</th>\n",
       "      <td>166405</td>\n",
       "      <td>18658.533333</td>\n",
       "      <td>27239.816667</td>\n",
       "      <td>37217.533333</td>\n",
       "      <td>A</td>\n",
       "      <td>B</td>\n",
       "      <td>2019-08-02</td>\n",
       "    </tr>\n",
       "  </tbody>\n",
       "</table>\n",
       "</div>"
      ],
      "text/plain": [
       "   user_id             A             B             C new_tariff tariff_plan  \\\n",
       "0   166377   9908.866667  12461.216667  16234.933333          A           B   \n",
       "1   166391   3895.633333   2195.500000   1528.700000          C           C   \n",
       "2   166392   5534.866667   5016.300000   5598.600000          B           C   \n",
       "3   166399   3981.750000   2361.250000   1790.750000          C           C   \n",
       "4   166405  18658.533333  27239.816667  37217.533333          A           B   \n",
       "\n",
       "   date_start  \n",
       "0  2019-08-01  \n",
       "1  2019-08-01  \n",
       "2  2019-08-01  \n",
       "3  2019-08-01  \n",
       "4  2019-08-02  "
      ]
     },
     "execution_count": 49,
     "metadata": {},
     "output_type": "execute_result"
    }
   ],
   "source": [
    "users_new_t = users_new_tariff.merge(clients, on='user_id', how='left')\n",
    "users_new_t.head()"
   ]
  },
  {
   "cell_type": "code",
   "execution_count": 50,
   "id": "ad0ded5b",
   "metadata": {},
   "outputs": [
    {
     "data": {
      "text/html": [
       "<div>\n",
       "<style scoped>\n",
       "    .dataframe tbody tr th:only-of-type {\n",
       "        vertical-align: middle;\n",
       "    }\n",
       "\n",
       "    .dataframe tbody tr th {\n",
       "        vertical-align: top;\n",
       "    }\n",
       "\n",
       "    .dataframe thead th {\n",
       "        text-align: right;\n",
       "    }\n",
       "</style>\n",
       "<table border=\"1\" class=\"dataframe\">\n",
       "  <thead>\n",
       "    <tr style=\"text-align: right;\">\n",
       "      <th></th>\n",
       "      <th>user_id</th>\n",
       "      <th>A</th>\n",
       "      <th>B</th>\n",
       "      <th>C</th>\n",
       "      <th>new_tariff</th>\n",
       "      <th>tariff_plan</th>\n",
       "      <th>date_start</th>\n",
       "    </tr>\n",
       "  </thead>\n",
       "  <tbody>\n",
       "    <tr>\n",
       "      <th>0</th>\n",
       "      <td>166377</td>\n",
       "      <td>9908.866667</td>\n",
       "      <td>12461.216667</td>\n",
       "      <td>16234.933333</td>\n",
       "      <td>A</td>\n",
       "      <td>B</td>\n",
       "      <td>2019-08-01</td>\n",
       "    </tr>\n",
       "    <tr>\n",
       "      <th>2</th>\n",
       "      <td>166392</td>\n",
       "      <td>5534.866667</td>\n",
       "      <td>5016.300000</td>\n",
       "      <td>5598.600000</td>\n",
       "      <td>B</td>\n",
       "      <td>C</td>\n",
       "      <td>2019-08-01</td>\n",
       "    </tr>\n",
       "    <tr>\n",
       "      <th>4</th>\n",
       "      <td>166405</td>\n",
       "      <td>18658.533333</td>\n",
       "      <td>27239.816667</td>\n",
       "      <td>37217.533333</td>\n",
       "      <td>A</td>\n",
       "      <td>B</td>\n",
       "      <td>2019-08-02</td>\n",
       "    </tr>\n",
       "    <tr>\n",
       "      <th>5</th>\n",
       "      <td>166406</td>\n",
       "      <td>7996.166667</td>\n",
       "      <td>9113.933333</td>\n",
       "      <td>11359.766667</td>\n",
       "      <td>A</td>\n",
       "      <td>B</td>\n",
       "      <td>2019-08-02</td>\n",
       "    </tr>\n",
       "    <tr>\n",
       "      <th>7</th>\n",
       "      <td>166428</td>\n",
       "      <td>4632.466667</td>\n",
       "      <td>3489.616667</td>\n",
       "      <td>3433.733333</td>\n",
       "      <td>C</td>\n",
       "      <td>B</td>\n",
       "      <td>2019-08-02</td>\n",
       "    </tr>\n",
       "  </tbody>\n",
       "</table>\n",
       "</div>"
      ],
      "text/plain": [
       "   user_id             A             B             C new_tariff tariff_plan  \\\n",
       "0   166377   9908.866667  12461.216667  16234.933333          A           B   \n",
       "2   166392   5534.866667   5016.300000   5598.600000          B           C   \n",
       "4   166405  18658.533333  27239.816667  37217.533333          A           B   \n",
       "5   166406   7996.166667   9113.933333  11359.766667          A           B   \n",
       "7   166428   4632.466667   3489.616667   3433.733333          C           B   \n",
       "\n",
       "   date_start  \n",
       "0  2019-08-01  \n",
       "2  2019-08-01  \n",
       "4  2019-08-02  \n",
       "5  2019-08-02  \n",
       "7  2019-08-02  "
      ]
     },
     "execution_count": 50,
     "metadata": {},
     "output_type": "execute_result"
    }
   ],
   "source": [
    "# отфильтруем клиентов у которых new_tariff не совпадает с tariff_plan\n",
    "users_choosing_tariff = users_new_t.query('new_tariff != tariff_plan')\n",
    "users_choosing_tariff.head()"
   ]
  },
  {
   "cell_type": "code",
   "execution_count": 51,
   "id": "4abc6fc4",
   "metadata": {
    "scrolled": true
   },
   "outputs": [
    {
     "data": {
      "text/html": [
       "<div>\n",
       "<style scoped>\n",
       "    .dataframe tbody tr th:only-of-type {\n",
       "        vertical-align: middle;\n",
       "    }\n",
       "\n",
       "    .dataframe tbody tr th {\n",
       "        vertical-align: top;\n",
       "    }\n",
       "\n",
       "    .dataframe thead th {\n",
       "        text-align: right;\n",
       "    }\n",
       "</style>\n",
       "<table border=\"1\" class=\"dataframe\">\n",
       "  <thead>\n",
       "    <tr style=\"text-align: right;\">\n",
       "      <th></th>\n",
       "      <th>user_id</th>\n",
       "      <th>tariff_plan</th>\n",
       "      <th>new_tariff</th>\n",
       "    </tr>\n",
       "  </thead>\n",
       "  <tbody>\n",
       "    <tr>\n",
       "      <th>0</th>\n",
       "      <td>166377</td>\n",
       "      <td>B</td>\n",
       "      <td>A</td>\n",
       "    </tr>\n",
       "    <tr>\n",
       "      <th>2</th>\n",
       "      <td>166392</td>\n",
       "      <td>C</td>\n",
       "      <td>B</td>\n",
       "    </tr>\n",
       "    <tr>\n",
       "      <th>4</th>\n",
       "      <td>166405</td>\n",
       "      <td>B</td>\n",
       "      <td>A</td>\n",
       "    </tr>\n",
       "    <tr>\n",
       "      <th>5</th>\n",
       "      <td>166406</td>\n",
       "      <td>B</td>\n",
       "      <td>A</td>\n",
       "    </tr>\n",
       "    <tr>\n",
       "      <th>7</th>\n",
       "      <td>166428</td>\n",
       "      <td>B</td>\n",
       "      <td>C</td>\n",
       "    </tr>\n",
       "  </tbody>\n",
       "</table>\n",
       "</div>"
      ],
      "text/plain": [
       "   user_id tariff_plan new_tariff\n",
       "0   166377           B          A\n",
       "2   166392           C          B\n",
       "4   166405           B          A\n",
       "5   166406           B          A\n",
       "7   166428           B          C"
      ]
     },
     "execution_count": 51,
     "metadata": {},
     "output_type": "execute_result"
    }
   ],
   "source": [
    "# Оставим только самые необходимые столбцы \n",
    "users_new_tariff = users_choosing_tariff[['user_id', 'tariff_plan', 'new_tariff']]\n",
    "\n",
    "users_new_tariff.head()"
   ]
  },
  {
   "cell_type": "markdown",
   "id": "955e4140",
   "metadata": {},
   "source": [
    "**Мы получили таблицу с изменением тарифа. Посмотим, какой тариф чаще выбирают пользователи самостоятельно, а какой был бы им более выгоден**"
   ]
  },
  {
   "cell_type": "code",
   "execution_count": 52,
   "id": "fed521ca",
   "metadata": {},
   "outputs": [],
   "source": [
    "tariff_A_B = users_new_tariff.query('tariff_plan == \"A\" & new_tariff == \"B\"')\n",
    "tariff_A_C = users_new_tariff.query('tariff_plan == \"A\" & new_tariff == \"C\"')\n",
    "tariff_B_A = users_new_tariff.query('tariff_plan == \"B\" & new_tariff == \"A\"')\n",
    "tariff_B_C = users_new_tariff.query('tariff_plan == \"B\" & new_tariff == \"C\"')\n",
    "tariff_C_A = users_new_tariff.query('tariff_plan == \"C\" & new_tariff == \"A\"')\n",
    "tariff_C_B = users_new_tariff.query('tariff_plan == \"C\" & new_tariff == \"B\"')"
   ]
  },
  {
   "cell_type": "code",
   "execution_count": 53,
   "id": "a05143cf",
   "metadata": {},
   "outputs": [
    {
     "data": {
      "text/html": [
       "<div>\n",
       "<style scoped>\n",
       "    .dataframe tbody tr th:only-of-type {\n",
       "        vertical-align: middle;\n",
       "    }\n",
       "\n",
       "    .dataframe tbody tr th {\n",
       "        vertical-align: top;\n",
       "    }\n",
       "\n",
       "    .dataframe thead th {\n",
       "        text-align: right;\n",
       "    }\n",
       "</style>\n",
       "<table border=\"1\" class=\"dataframe\">\n",
       "  <thead>\n",
       "    <tr style=\"text-align: right;\">\n",
       "      <th></th>\n",
       "      <th>tariff_plan</th>\n",
       "      <th>count</th>\n",
       "    </tr>\n",
       "  </thead>\n",
       "  <tbody>\n",
       "    <tr>\n",
       "      <th>3</th>\n",
       "      <td>B to C</td>\n",
       "      <td>45</td>\n",
       "    </tr>\n",
       "    <tr>\n",
       "      <th>4</th>\n",
       "      <td>C to A</td>\n",
       "      <td>42</td>\n",
       "    </tr>\n",
       "    <tr>\n",
       "      <th>2</th>\n",
       "      <td>B to A</td>\n",
       "      <td>35</td>\n",
       "    </tr>\n",
       "    <tr>\n",
       "      <th>5</th>\n",
       "      <td>C to A</td>\n",
       "      <td>29</td>\n",
       "    </tr>\n",
       "    <tr>\n",
       "      <th>1</th>\n",
       "      <td>A to C</td>\n",
       "      <td>9</td>\n",
       "    </tr>\n",
       "    <tr>\n",
       "      <th>0</th>\n",
       "      <td>A to B</td>\n",
       "      <td>5</td>\n",
       "    </tr>\n",
       "  </tbody>\n",
       "</table>\n",
       "</div>"
      ],
      "text/plain": [
       "  tariff_plan  count\n",
       "3      B to C     45\n",
       "4      C to A     42\n",
       "2      B to A     35\n",
       "5      C to A     29\n",
       "1      A to C      9\n",
       "0      A to B      5"
      ]
     },
     "execution_count": 53,
     "metadata": {},
     "output_type": "execute_result"
    }
   ],
   "source": [
    "tariff_change = pd.DataFrame({'tariff_plan': ['A to B', 'A to C', 'B to A', 'B to C', 'C to A', 'C to A'], \n",
    "                     'count': [len(tariff_A_B), len(tariff_A_C), len(tariff_B_A), len(tariff_B_C),\n",
    "                              len(tariff_C_A), len(tariff_C_B)]}).sort_values(by='count', ascending=False)\n",
    "tariff_change"
   ]
  },
  {
   "cell_type": "code",
   "execution_count": 54,
   "id": "c0e7b1fd",
   "metadata": {},
   "outputs": [
    {
     "data": {
      "image/png": "[encoded data removed]",
      "text/plain": [
       "<Figure size 432x288 with 1 Axes>"
      ]
     },
     "metadata": {
      "image/png": {
       "height": 286,
       "width": 385
      }
     },
     "output_type": "display_data"
    }
   ],
   "source": [
    "tariff_change.plot(kind='bar', x = 'tariff_plan', grid=True)\n",
    "plt.title('Изменение тарифов')\n",
    "plt.ylabel('Количество пользователей')\n",
    "plt.xlabel('Переход от старого тарифа к новому')\n",
    "plt.xticks(rotation=10)\n",
    "plt.show()"
   ]
  },
  {
   "cell_type": "markdown",
   "id": "cee3013e",
   "metadata": {},
   "source": [
    "**Таким образом, тройка самых популярный переходов: из тарифа В в С или А, а также из С в А. Меньшему количеству пользователей требуется переход из тарифа А.**"
   ]
  },
  {
   "cell_type": "markdown",
   "id": "b4b426d2",
   "metadata": {},
   "source": [
    "## Соотношение количества пользователей по тарифам изменения\n"
   ]
  },
  {
   "cell_type": "code",
   "execution_count": 55,
   "id": "b14b6182",
   "metadata": {},
   "outputs": [
    {
     "data": {
      "image/png": "[encoded data removed]",
      "text/plain": [
       "<Figure size 432x432 with 1 Axes>"
      ]
     },
     "metadata": {
      "image/png": {
       "height": 357,
       "width": 386
      }
     },
     "output_type": "display_data"
    }
   ],
   "source": [
    "# построим круговую диаграмму\n",
    "# сгруппируем data_tarrif по тарифам и посчитаем их количество\n",
    "# вид диаграммы - круговая, на самой диаграмме не будем указывать тариф, а добавим в легенду\n",
    "# а на диаграмме укажем долю autopct='%1.0f%%'\n",
    "# укажем название диаграммы и применим цветовую схему с помощью параметра cmap\n",
    "(users_new_tariff.groupby('new_tariff')['new_tariff'].agg('count')\n",
    " .plot(kind='pie', labels=None, label='', autopct='%1.0f%%', legend=True, figsize=(6, 6), \n",
    "       title='Соотношение пользователей по новым тарифам', cmap='Pastel1'))\n",
    "plt.show()"
   ]
  },
  {
   "cell_type": "markdown",
   "id": "4ebcc6c7",
   "metadata": {},
   "source": [
    "**Вывод: После изменения тарифа большинство пользовалось бы тарифом А (47%). Предпогаю, что пользователей пугает абонентская плата, при этом они считают, что разница в плате за дополнительные минуты не такая значимая, потому что эти цены указаны в копейках, а абонентская плата - в тысячах.**"
   ]
  },
  {
   "cell_type": "markdown",
   "id": "8a28a5ae",
   "metadata": {},
   "source": [
    "### Изменение в выручке для заказчика при изменении тарифа"
   ]
  },
  {
   "cell_type": "code",
   "execution_count": 56,
   "id": "c67b796b",
   "metadata": {},
   "outputs": [
    {
     "data": {
      "text/html": [
       "<div>\n",
       "<style scoped>\n",
       "    .dataframe tbody tr th:only-of-type {\n",
       "        vertical-align: middle;\n",
       "    }\n",
       "\n",
       "    .dataframe tbody tr th {\n",
       "        vertical-align: top;\n",
       "    }\n",
       "\n",
       "    .dataframe thead th {\n",
       "        text-align: right;\n",
       "    }\n",
       "</style>\n",
       "<table border=\"1\" class=\"dataframe\">\n",
       "  <thead>\n",
       "    <tr style=\"text-align: right;\">\n",
       "      <th></th>\n",
       "      <th>user_id</th>\n",
       "      <th>month</th>\n",
       "      <th>operators_nmb</th>\n",
       "      <th>call_duration_int</th>\n",
       "      <th>call_duration_ext</th>\n",
       "      <th>A</th>\n",
       "      <th>B</th>\n",
       "      <th>C</th>\n",
       "    </tr>\n",
       "  </thead>\n",
       "  <tbody>\n",
       "    <tr>\n",
       "      <th>0</th>\n",
       "      <td>166377</td>\n",
       "      <td>Ноябрь</td>\n",
       "      <td>5</td>\n",
       "      <td>127.0</td>\n",
       "      <td>18054</td>\n",
       "      <td>9478.9</td>\n",
       "      <td>11721.05</td>\n",
       "      <td>15175.9</td>\n",
       "    </tr>\n",
       "    <tr>\n",
       "      <th>1</th>\n",
       "      <td>166377</td>\n",
       "      <td>Октябрь</td>\n",
       "      <td>6</td>\n",
       "      <td>5.0</td>\n",
       "      <td>19328</td>\n",
       "      <td>9898.9</td>\n",
       "      <td>12489.75</td>\n",
       "      <td>16331.1</td>\n",
       "    </tr>\n",
       "    <tr>\n",
       "      <th>2</th>\n",
       "      <td>166377</td>\n",
       "      <td>Сентябрь</td>\n",
       "      <td>5</td>\n",
       "      <td>9.0</td>\n",
       "      <td>20993</td>\n",
       "      <td>10348.8</td>\n",
       "      <td>13172.85</td>\n",
       "      <td>17197.8</td>\n",
       "    </tr>\n",
       "    <tr>\n",
       "      <th>3</th>\n",
       "      <td>166391</td>\n",
       "      <td>Ноябрь</td>\n",
       "      <td>2</td>\n",
       "      <td>0.0</td>\n",
       "      <td>85</td>\n",
       "      <td>3925.5</td>\n",
       "      <td>2267.50</td>\n",
       "      <td>1659.5</td>\n",
       "    </tr>\n",
       "    <tr>\n",
       "      <th>4</th>\n",
       "      <td>166391</td>\n",
       "      <td>Октябрь</td>\n",
       "      <td>1</td>\n",
       "      <td>0.0</td>\n",
       "      <td>2</td>\n",
       "      <td>3850.6</td>\n",
       "      <td>2076.00</td>\n",
       "      <td>1301.4</td>\n",
       "    </tr>\n",
       "  </tbody>\n",
       "</table>\n",
       "</div>"
      ],
      "text/plain": [
       "   user_id     month  operators_nmb  call_duration_int  call_duration_ext  \\\n",
       "0   166377    Ноябрь              5              127.0              18054   \n",
       "1   166377   Октябрь              6                5.0              19328   \n",
       "2   166377  Сентябрь              5                9.0              20993   \n",
       "3   166391    Ноябрь              2                0.0                 85   \n",
       "4   166391   Октябрь              1                0.0                  2   \n",
       "\n",
       "         A         B        C  \n",
       "0   9478.9  11721.05  15175.9  \n",
       "1   9898.9  12489.75  16331.1  \n",
       "2  10348.8  13172.85  17197.8  \n",
       "3   3925.5   2267.50   1659.5  \n",
       "4   3850.6   2076.00   1301.4  "
      ]
     },
     "execution_count": 56,
     "metadata": {},
     "output_type": "execute_result"
    }
   ],
   "source": [
    "exps_by_tariff.head()"
   ]
  },
  {
   "cell_type": "code",
   "execution_count": 57,
   "id": "114b4801",
   "metadata": {},
   "outputs": [
    {
     "data": {
      "text/html": [
       "<div>\n",
       "<style scoped>\n",
       "    .dataframe tbody tr th:only-of-type {\n",
       "        vertical-align: middle;\n",
       "    }\n",
       "\n",
       "    .dataframe tbody tr th {\n",
       "        vertical-align: top;\n",
       "    }\n",
       "\n",
       "    .dataframe thead th {\n",
       "        text-align: right;\n",
       "    }\n",
       "</style>\n",
       "<table border=\"1\" class=\"dataframe\">\n",
       "  <thead>\n",
       "    <tr style=\"text-align: right;\">\n",
       "      <th></th>\n",
       "      <th>user_id</th>\n",
       "      <th>new_tariff</th>\n",
       "      <th>tariff_plan</th>\n",
       "    </tr>\n",
       "  </thead>\n",
       "  <tbody>\n",
       "    <tr>\n",
       "      <th>0</th>\n",
       "      <td>166377</td>\n",
       "      <td>A</td>\n",
       "      <td>B</td>\n",
       "    </tr>\n",
       "    <tr>\n",
       "      <th>1</th>\n",
       "      <td>166391</td>\n",
       "      <td>C</td>\n",
       "      <td>C</td>\n",
       "    </tr>\n",
       "    <tr>\n",
       "      <th>2</th>\n",
       "      <td>166392</td>\n",
       "      <td>B</td>\n",
       "      <td>C</td>\n",
       "    </tr>\n",
       "    <tr>\n",
       "      <th>3</th>\n",
       "      <td>166399</td>\n",
       "      <td>C</td>\n",
       "      <td>C</td>\n",
       "    </tr>\n",
       "    <tr>\n",
       "      <th>4</th>\n",
       "      <td>166405</td>\n",
       "      <td>A</td>\n",
       "      <td>B</td>\n",
       "    </tr>\n",
       "  </tbody>\n",
       "</table>\n",
       "</div>"
      ],
      "text/plain": [
       "   user_id new_tariff tariff_plan\n",
       "0   166377          A           B\n",
       "1   166391          C           C\n",
       "2   166392          B           C\n",
       "3   166399          C           C\n",
       "4   166405          A           B"
      ]
     },
     "execution_count": 57,
     "metadata": {},
     "output_type": "execute_result"
    }
   ],
   "source": [
    "users_new_tar = users_new_t[['user_id', 'new_tariff', 'tariff_plan']]\n",
    "users_new_tar.head()"
   ]
  },
  {
   "cell_type": "code",
   "execution_count": 58,
   "id": "3cb7295b",
   "metadata": {},
   "outputs": [
    {
     "data": {
      "text/html": [
       "<div>\n",
       "<style scoped>\n",
       "    .dataframe tbody tr th:only-of-type {\n",
       "        vertical-align: middle;\n",
       "    }\n",
       "\n",
       "    .dataframe tbody tr th {\n",
       "        vertical-align: top;\n",
       "    }\n",
       "\n",
       "    .dataframe thead th {\n",
       "        text-align: right;\n",
       "    }\n",
       "</style>\n",
       "<table border=\"1\" class=\"dataframe\">\n",
       "  <thead>\n",
       "    <tr style=\"text-align: right;\">\n",
       "      <th></th>\n",
       "      <th>user_id</th>\n",
       "      <th>month</th>\n",
       "      <th>operators_nmb</th>\n",
       "      <th>call_duration_int</th>\n",
       "      <th>call_duration_ext</th>\n",
       "      <th>A</th>\n",
       "      <th>B</th>\n",
       "      <th>C</th>\n",
       "      <th>new_tariff</th>\n",
       "      <th>tariff_plan</th>\n",
       "    </tr>\n",
       "  </thead>\n",
       "  <tbody>\n",
       "    <tr>\n",
       "      <th>0</th>\n",
       "      <td>166377</td>\n",
       "      <td>Ноябрь</td>\n",
       "      <td>5</td>\n",
       "      <td>127.0</td>\n",
       "      <td>18054</td>\n",
       "      <td>9478.9</td>\n",
       "      <td>11721.05</td>\n",
       "      <td>15175.9</td>\n",
       "      <td>A</td>\n",
       "      <td>B</td>\n",
       "    </tr>\n",
       "    <tr>\n",
       "      <th>1</th>\n",
       "      <td>166377</td>\n",
       "      <td>Октябрь</td>\n",
       "      <td>6</td>\n",
       "      <td>5.0</td>\n",
       "      <td>19328</td>\n",
       "      <td>9898.9</td>\n",
       "      <td>12489.75</td>\n",
       "      <td>16331.1</td>\n",
       "      <td>A</td>\n",
       "      <td>B</td>\n",
       "    </tr>\n",
       "    <tr>\n",
       "      <th>2</th>\n",
       "      <td>166377</td>\n",
       "      <td>Сентябрь</td>\n",
       "      <td>5</td>\n",
       "      <td>9.0</td>\n",
       "      <td>20993</td>\n",
       "      <td>10348.8</td>\n",
       "      <td>13172.85</td>\n",
       "      <td>17197.8</td>\n",
       "      <td>A</td>\n",
       "      <td>B</td>\n",
       "    </tr>\n",
       "    <tr>\n",
       "      <th>3</th>\n",
       "      <td>166391</td>\n",
       "      <td>Ноябрь</td>\n",
       "      <td>2</td>\n",
       "      <td>0.0</td>\n",
       "      <td>85</td>\n",
       "      <td>3925.5</td>\n",
       "      <td>2267.50</td>\n",
       "      <td>1659.5</td>\n",
       "      <td>C</td>\n",
       "      <td>C</td>\n",
       "    </tr>\n",
       "    <tr>\n",
       "      <th>4</th>\n",
       "      <td>166391</td>\n",
       "      <td>Октябрь</td>\n",
       "      <td>1</td>\n",
       "      <td>0.0</td>\n",
       "      <td>2</td>\n",
       "      <td>3850.6</td>\n",
       "      <td>2076.00</td>\n",
       "      <td>1301.4</td>\n",
       "      <td>C</td>\n",
       "      <td>C</td>\n",
       "    </tr>\n",
       "  </tbody>\n",
       "</table>\n",
       "</div>"
      ],
      "text/plain": [
       "   user_id     month  operators_nmb  call_duration_int  call_duration_ext  \\\n",
       "0   166377    Ноябрь              5              127.0              18054   \n",
       "1   166377   Октябрь              6                5.0              19328   \n",
       "2   166377  Сентябрь              5                9.0              20993   \n",
       "3   166391    Ноябрь              2                0.0                 85   \n",
       "4   166391   Октябрь              1                0.0                  2   \n",
       "\n",
       "         A         B        C new_tariff tariff_plan  \n",
       "0   9478.9  11721.05  15175.9          A           B  \n",
       "1   9898.9  12489.75  16331.1          A           B  \n",
       "2  10348.8  13172.85  17197.8          A           B  \n",
       "3   3925.5   2267.50   1659.5          C           C  \n",
       "4   3850.6   2076.00   1301.4          C           C  "
      ]
     },
     "execution_count": 58,
     "metadata": {},
     "output_type": "execute_result"
    }
   ],
   "source": [
    "total_exps = exps_by_tariff.merge(users_new_tar, on='user_id', how='left')\n",
    "total_exps.head()"
   ]
  },
  {
   "cell_type": "code",
   "execution_count": 59,
   "id": "27488ee7",
   "metadata": {},
   "outputs": [
    {
     "data": {
      "text/plain": [
       "(5314962.65, 4248276.95)"
      ]
     },
     "execution_count": 59,
     "metadata": {},
     "output_type": "execute_result"
    }
   ],
   "source": [
    "total_revenue = (\n",
    "    total_exps.query('tariff_plan == \"A\"')['A'].sum() + \n",
    "    total_exps.query('tariff_plan == \"B\"')['B'].sum() +\n",
    "    total_exps.query('tariff_plan == \"C\"')['C'].sum()\n",
    ")\n",
    "total_new_revenue = (\n",
    "    total_exps.query('new_tariff == \"A\"')['A'].sum() + \n",
    "    total_exps.query('new_tariff == \"B\"')['B'].sum() +\n",
    "    total_exps.query('new_tariff == \"C\"')['C'].sum()\n",
    ")\n",
    "total_revenue, total_new_revenue"
   ]
  },
  {
   "cell_type": "markdown",
   "id": "ffc1d0d5",
   "metadata": {},
   "source": [
    "Рассчитаем, на сколько процентов упадет выручка после предложения всем пользователям более удобный тариф"
   ]
  },
  {
   "cell_type": "code",
   "execution_count": 60,
   "id": "f4ba2091",
   "metadata": {
    "scrolled": true
   },
   "outputs": [
    {
     "data": {
      "text/plain": [
       "20"
      ]
     },
     "execution_count": 60,
     "metadata": {},
     "output_type": "execute_result"
    }
   ],
   "source": [
    "round((total_revenue - total_new_revenue)/total_revenue * 100)"
   ]
  },
  {
   "cell_type": "markdown",
   "id": "d341a38e",
   "metadata": {},
   "source": [
    "**При изменении тарифов на более удобные оператор потеряем максимум 20% дохода, зато он сохранит этих клиентов и их лояльность, а также возможно порекомендует и оставит хороший отзыв, что в дальнейшем может привести к учеличению количества клиентов.**"
   ]
  },
  {
   "cell_type": "markdown",
   "id": "e13e051c",
   "metadata": {},
   "source": [
    "## Проверка гипотез\n",
    "\n",
    "### Гипотеза о различиях доходов на тарифах А и В"
   ]
  },
  {
   "cell_type": "markdown",
   "id": "7df65b23",
   "metadata": {},
   "source": [
    "Проверим гипотезу о том, будут ли помесячные расходы у пользователей на тарифах А и В равны. \n",
    "\n",
    "Нулевая гипотеза: средние значения помесячной выручки пользователей на двух тарифах равны.\n",
    "\n",
    "Альтернативная гипотеза: среднее значение помесячной выручки пользователей на тарифе B больше, чем среднее значение помесячной выручки пользователей на тарифе В.\n",
    "\n",
    "В случае, когда в данных есть большие (по сравнению с нормальным распределением) выбросы, алгебраические метрики работают плохо: одно выбивающееся значение существенно влияет на результат, поэтому в этом случае следует рассмотреть тест, основанный на структурном подходе, поэтому для этого исследования применим тест Манна-Уитни\n",
    "\n",
    "Чтобы проверить такую гипотезу, нужно передать в метод `st.mannwhitneyu()`."
   ]
  },
  {
   "cell_type": "code",
   "execution_count": 61,
   "id": "9c2b5b33",
   "metadata": {},
   "outputs": [],
   "source": [
    "# значения помесячных расходов для пользователей с тарифом В\n",
    "data_В = users_choosing_tariff['B']\n",
    "# значения помесячных расходов для пользователей с тарифом А\n",
    "data_А = users_choosing_tariff['A']"
   ]
  },
  {
   "cell_type": "code",
   "execution_count": 62,
   "id": "39f5e422",
   "metadata": {},
   "outputs": [
    {
     "name": "stdout",
     "output_type": "stream",
     "text": [
      "P-value: 0.935\n"
     ]
    }
   ],
   "source": [
    "alpha = 0.05 # уровень статистической значимости\n",
    "results_exps = st.mannwhitneyu(data_В, data_А, True, 'greater')\n",
    "print('P-value: {0:.3f}'.format(results_exps.pvalue))"
   ]
  },
  {
   "cell_type": "code",
   "execution_count": 63,
   "id": "44e2b1c1",
   "metadata": {},
   "outputs": [
    {
     "name": "stdout",
     "output_type": "stream",
     "text": [
      "Не получилось отвергнуть нулевую гипотезу\n"
     ]
    }
   ],
   "source": [
    "if results_exps.pvalue < alpha:\n",
    "    print('Отвергаем нулевую гипотезу')\n",
    "else:\n",
    "    print('Не получилось отвергнуть нулевую гипотезу')"
   ]
  },
  {
   "cell_type": "markdown",
   "id": "93cb6833",
   "metadata": {},
   "source": [
    "**Вывод: не получилось отвергнуть нулевую гипотезу, значит, статистической значимости в средних значениях выручки от тарифов А и В нет.**"
   ]
  },
  {
   "cell_type": "markdown",
   "id": "83618f36",
   "metadata": {},
   "source": [
    "### Гипотеза о продолжительности исходящих звонков вне сети\n",
    "\n",
    "Проверим гипотезу о том, что средняя продолжительность исходящих звонков вне сети у тарифа С больше, чем у тарифа В.\n",
    "\n",
    "Нулевая гипотеза: средняя продолжительность исходящих звонков на тарифах В и С равны.\n",
    "\n",
    "Альтернативная гипотеза: средняя продолжительность исходящих звонков на тарифе С, больше, чем на тарифе В.\n",
    "\n",
    "Чтобы проверить такую гипотезу, нужно передать в метод st.mannwhitneyu()."
   ]
  },
  {
   "cell_type": "code",
   "execution_count": 64,
   "id": "c377056b",
   "metadata": {},
   "outputs": [],
   "source": [
    "# значения продолжительности исходящих звонков вне сети в тарифе С\n",
    "data_ext_C = total_exps.query('tariff_plan == \"C\"')['call_duration_ext']\n",
    "# значения продолжительности исходящих звонков вне сети в тарифе B\n",
    "data_ext_B = total_exps.query('tariff_plan == \"B\"')['call_duration_ext']"
   ]
  },
  {
   "cell_type": "code",
   "execution_count": 65,
   "id": "702a40ca",
   "metadata": {},
   "outputs": [
    {
     "name": "stdout",
     "output_type": "stream",
     "text": [
      "P-value: 0.99136\n"
     ]
    }
   ],
   "source": [
    "results_ext = st.mannwhitneyu(data_ext_C, data_ext_B, True, 'greater')\n",
    "print('P-value: {0:.5f}'.format(results_ext.pvalue))"
   ]
  },
  {
   "cell_type": "code",
   "execution_count": 66,
   "id": "8186c1bc",
   "metadata": {},
   "outputs": [
    {
     "name": "stdout",
     "output_type": "stream",
     "text": [
      "Не получилось отвергнуть нулевую гипотезу\n"
     ]
    }
   ],
   "source": [
    "if results_ext.pvalue < alpha:\n",
    "    print('Отвергаем нулевую гипотезу')\n",
    "else:\n",
    "    print('Не получилось отвергнуть нулевую гипотезу')"
   ]
  },
  {
   "cell_type": "markdown",
   "id": "49eef683",
   "metadata": {},
   "source": [
    "**Вывод: нулевая гипотеза о равенстве средней продолжительности исходящих звонков на тарифах В и С не отвергнута, значит, пользователи в среднем на обоих тарифах тратят одинаковое время, при этом разница в стоимости на эти звонки существует.**"
   ]
  },
  {
   "cell_type": "markdown",
   "id": "d681a2af",
   "metadata": {},
   "source": [
    "**Общий вывод:**\n",
    "\n",
    "Вывод по качеству данных: \n",
    "- В предоставленном датафрейме с данными было выявлено 9% дубликатов, \n",
    "- не все данные заполнены в колонках operator_id и маркер внутренних и внешних вызовов;\n",
    "- часть данных в столбце продолжительности звонков указаны в минутах, а другие - в секундах.\n",
    "\n",
    "Вывод по исследовательскому анализу:\n",
    "- Мы располагаем данными за период с 2019-08-02 по 2019-11-28, но наиболее полные данные за октябрь и ноябрь, поэтому данные за август и сентябрь не учитывался в анализе;\n",
    "- В октябре, ноябрe 2019 года услугами провайдера пользовались 295 пользователей.\n",
    "- По напралению вызовов преобладают исходящий звонки, а значит, платные, но не большинство, немного больше половины (58%).\n",
    "- Среди трех тарифов преобладает тариф С (53%), а такиф А оказался самым непопулярным и его выбирают только 12% пользователей, похоже, всех пугает высокая ежемесячная плата.\n",
    "\n",
    "Вывод по итогам изучения общей прибыли по каждому тарифу:\n",
    " - Каждый из тарифов приносит прибыль больше с каждым месяцем, при этом самый выгодный для пользователей тариф А, он помогает сэкономить, а для операторов - тариф С, хоть у него и нет абонентской платы, но вцелом он обходится дороже за счет более высоких стоимости минут и операторов.\n",
    "\n",
    "Мы получили таблицу за два месяца с изменением тарифа. Тройка самых популярный переходов: из тарифа В в С или А, а также из С в А. Меньшему количеству пользователей требуется переход из тарифа А.\n",
    "\n",
    "При изменении тарифов на более удобные оператор потеряем максимум 20% дохода, зато он сохранит этих клиентов и их лояльность, а также возможно порекомендует и оставит хороший отзыв, что в дальнейшем может привести к учеличению количества клиентов.\n",
    "\n",
    "После изменения тарифа большинство пользовалось бы тарифом А (47%). Предпогаю, что пользователей пугает абонентская плата, при этом они считают, что разница в плате за дополнительные минуты не такая значимая, потому что эти цены указаны в копейках, а абонентская плата - в тысячах.\n",
    "\n",
    "Проверка гипотез:\n",
    "- не получилось отвергнуть нулевую гипотезу, значит, статистической значимости в средних значениях выручки от тарифов А и В нет.\n",
    "- нулевая гипотеза о равенстве средней продолжительности исходящих звонков на тарифах В и С не отвергнута, значит, пользователи в среднем на обоих тарифах тратят одинаковое время, при этом разница в стоимости на эти звонки существует."
   ]
  },
  {
   "cell_type": "code",
   "execution_count": null,
   "id": "5966671e",
   "metadata": {},
   "outputs": [],
   "source": []
  }
 ],
 "metadata": {
  "ExecuteTimeLog": [
   {
    "duration": 44,
    "start_time": "2024-09-29T14:30:12.699Z"
   },
   {
    "duration": 1205,
    "start_time": "2024-09-29T14:30:21.604Z"
   },
   {
    "duration": 481,
    "start_time": "2024-09-29T14:30:22.811Z"
   },
   {
    "duration": 26,
    "start_time": "2024-09-29T14:30:23.293Z"
   },
   {
    "duration": 11,
    "start_time": "2024-09-29T14:30:23.320Z"
   },
   {
    "duration": 2,
    "start_time": "2024-09-29T14:30:23.333Z"
   },
   {
    "duration": 13,
    "start_time": "2024-09-29T14:30:23.337Z"
   },
   {
    "duration": 21,
    "start_time": "2024-09-29T14:30:23.352Z"
   },
   {
    "duration": 20,
    "start_time": "2024-09-29T14:30:23.375Z"
   },
   {
    "duration": 20,
    "start_time": "2024-09-29T14:30:23.396Z"
   },
   {
    "duration": 35,
    "start_time": "2024-09-29T14:30:23.417Z"
   },
   {
    "duration": 26,
    "start_time": "2024-09-29T14:30:23.454Z"
   },
   {
    "duration": 17,
    "start_time": "2024-09-29T14:30:23.482Z"
   },
   {
    "duration": 12,
    "start_time": "2024-09-29T14:30:23.501Z"
   },
   {
    "duration": 304,
    "start_time": "2024-09-29T14:30:23.516Z"
   },
   {
    "duration": 8,
    "start_time": "2024-09-29T14:30:23.822Z"
   },
   {
    "duration": 13,
    "start_time": "2024-09-29T14:30:23.832Z"
   },
   {
    "duration": 13,
    "start_time": "2024-09-29T14:30:23.846Z"
   },
   {
    "duration": 204,
    "start_time": "2024-09-29T14:30:23.861Z"
   },
   {
    "duration": 366,
    "start_time": "2024-09-29T14:30:24.067Z"
   },
   {
    "duration": 3,
    "start_time": "2024-09-29T14:30:24.435Z"
   },
   {
    "duration": 168,
    "start_time": "2024-09-29T14:30:24.440Z"
   },
   {
    "duration": 157,
    "start_time": "2024-09-29T14:30:24.609Z"
   },
   {
    "duration": 6,
    "start_time": "2024-09-29T14:30:24.768Z"
   },
   {
    "duration": 183,
    "start_time": "2024-09-29T14:30:24.775Z"
   },
   {
    "duration": 177,
    "start_time": "2024-09-29T14:30:24.959Z"
   },
   {
    "duration": 16,
    "start_time": "2024-09-29T14:30:25.137Z"
   },
   {
    "duration": 176,
    "start_time": "2024-09-29T14:30:25.155Z"
   },
   {
    "duration": 9,
    "start_time": "2024-09-29T14:30:25.332Z"
   },
   {
    "duration": 4,
    "start_time": "2024-09-29T14:30:25.352Z"
   },
   {
    "duration": 264,
    "start_time": "2024-09-29T14:30:25.357Z"
   },
   {
    "duration": 4,
    "start_time": "2024-09-29T14:30:25.623Z"
   },
   {
    "duration": 24,
    "start_time": "2024-09-29T14:30:25.628Z"
   },
   {
    "duration": 167,
    "start_time": "2024-09-29T14:30:25.654Z"
   },
   {
    "duration": 9,
    "start_time": "2024-09-29T14:30:25.822Z"
   },
   {
    "duration": 21,
    "start_time": "2024-09-29T14:30:25.832Z"
   },
   {
    "duration": 11,
    "start_time": "2024-09-29T14:30:25.854Z"
   },
   {
    "duration": 12,
    "start_time": "2024-09-29T14:30:25.866Z"
   },
   {
    "duration": 15,
    "start_time": "2024-09-29T14:30:25.879Z"
   },
   {
    "duration": 9,
    "start_time": "2024-09-29T14:30:25.895Z"
   },
   {
    "duration": 5,
    "start_time": "2024-09-29T14:30:25.906Z"
   },
   {
    "duration": 364,
    "start_time": "2024-09-29T14:30:25.915Z"
   },
   {
    "duration": 10,
    "start_time": "2024-09-29T14:30:26.281Z"
   },
   {
    "duration": 184,
    "start_time": "2024-09-29T14:30:26.292Z"
   },
   {
    "duration": 17,
    "start_time": "2024-09-29T14:30:26.478Z"
   },
   {
    "duration": 15,
    "start_time": "2024-09-29T14:30:26.496Z"
   },
   {
    "duration": 14,
    "start_time": "2024-09-29T14:30:26.512Z"
   },
   {
    "duration": 31,
    "start_time": "2024-09-29T14:30:26.527Z"
   },
   {
    "duration": 63,
    "start_time": "2024-09-29T14:30:26.559Z"
   },
   {
    "duration": 8,
    "start_time": "2024-09-29T14:30:26.623Z"
   },
   {
    "duration": 180,
    "start_time": "2024-09-29T14:30:26.632Z"
   },
   {
    "duration": 194,
    "start_time": "2024-09-29T14:30:26.814Z"
   },
   {
    "duration": 194,
    "start_time": "2024-09-29T14:30:27.010Z"
   },
   {
    "duration": 15,
    "start_time": "2024-09-29T14:30:27.205Z"
   },
   {
    "duration": 3,
    "start_time": "2024-09-29T14:30:27.222Z"
   },
   {
    "duration": 8,
    "start_time": "2024-09-29T14:30:27.226Z"
   },
   {
    "duration": 17,
    "start_time": "2024-09-29T14:30:27.235Z"
   },
   {
    "duration": 59,
    "start_time": "2024-09-29T14:30:27.253Z"
   },
   {
    "duration": 8,
    "start_time": "2024-09-29T14:30:27.313Z"
   },
   {
    "duration": 5,
    "start_time": "2024-09-29T14:30:27.322Z"
   },
   {
    "duration": 4,
    "start_time": "2024-09-29T14:30:27.328Z"
   },
   {
    "duration": 8,
    "start_time": "2024-09-29T14:32:05.525Z"
   },
   {
    "duration": 4,
    "start_time": "2024-09-29T14:34:40.919Z"
   },
   {
    "duration": 13,
    "start_time": "2024-09-29T14:38:51.954Z"
   },
   {
    "duration": 12,
    "start_time": "2024-09-29T14:39:03.439Z"
   },
   {
    "duration": 14,
    "start_time": "2024-09-29T14:39:14.125Z"
   },
   {
    "duration": 14,
    "start_time": "2024-09-29T14:39:29.355Z"
   },
   {
    "duration": 11,
    "start_time": "2024-09-29T14:39:38.422Z"
   },
   {
    "duration": 104,
    "start_time": "2024-09-29T14:50:03.710Z"
   },
   {
    "duration": 883,
    "start_time": "2024-09-29T14:51:12.141Z"
   },
   {
    "duration": 18,
    "start_time": "2024-09-29T14:51:29.201Z"
   },
   {
    "duration": 10,
    "start_time": "2024-09-29T14:52:08.813Z"
   },
   {
    "duration": 19,
    "start_time": "2024-09-29T14:53:11.711Z"
   },
   {
    "duration": 1091,
    "start_time": "2024-09-29T14:53:22.786Z"
   },
   {
    "duration": 135,
    "start_time": "2024-09-29T14:53:23.879Z"
   },
   {
    "duration": 25,
    "start_time": "2024-09-29T14:53:24.015Z"
   },
   {
    "duration": 11,
    "start_time": "2024-09-29T14:53:24.042Z"
   },
   {
    "duration": 7,
    "start_time": "2024-09-29T14:53:24.055Z"
   },
   {
    "duration": 9,
    "start_time": "2024-09-29T14:53:24.064Z"
   },
   {
    "duration": 72,
    "start_time": "2024-09-29T14:53:24.074Z"
   },
   {
    "duration": 25,
    "start_time": "2024-09-29T14:53:24.148Z"
   },
   {
    "duration": 52,
    "start_time": "2024-09-29T14:53:24.174Z"
   },
   {
    "duration": 21,
    "start_time": "2024-09-29T14:53:24.228Z"
   },
   {
    "duration": 25,
    "start_time": "2024-09-29T14:53:24.250Z"
   },
   {
    "duration": 51,
    "start_time": "2024-09-29T14:53:24.277Z"
   },
   {
    "duration": 12,
    "start_time": "2024-09-29T14:53:24.330Z"
   },
   {
    "duration": 288,
    "start_time": "2024-09-29T14:53:24.344Z"
   },
   {
    "duration": 10,
    "start_time": "2024-09-29T14:53:24.633Z"
   },
   {
    "duration": 28,
    "start_time": "2024-09-29T14:53:24.652Z"
   },
   {
    "duration": 9,
    "start_time": "2024-09-29T14:53:24.682Z"
   },
   {
    "duration": 176,
    "start_time": "2024-09-29T14:53:24.692Z"
   },
   {
    "duration": 9,
    "start_time": "2024-09-29T14:53:24.870Z"
   },
   {
    "duration": 375,
    "start_time": "2024-09-29T14:53:24.880Z"
   },
   {
    "duration": 4,
    "start_time": "2024-09-29T14:53:25.257Z"
   },
   {
    "duration": 175,
    "start_time": "2024-09-29T14:53:25.262Z"
   },
   {
    "duration": 167,
    "start_time": "2024-09-29T14:53:25.439Z"
   },
   {
    "duration": 8,
    "start_time": "2024-09-29T14:53:25.608Z"
   },
   {
    "duration": 188,
    "start_time": "2024-09-29T14:53:25.617Z"
   },
   {
    "duration": 180,
    "start_time": "2024-09-29T14:53:25.806Z"
   },
   {
    "duration": 16,
    "start_time": "2024-09-29T14:53:25.987Z"
   },
   {
    "duration": 200,
    "start_time": "2024-09-29T14:53:26.005Z"
   },
   {
    "duration": 9,
    "start_time": "2024-09-29T14:53:26.207Z"
   },
   {
    "duration": 4,
    "start_time": "2024-09-29T14:53:26.217Z"
   },
   {
    "duration": 4,
    "start_time": "2024-09-29T14:53:26.222Z"
   },
   {
    "duration": 292,
    "start_time": "2024-09-29T14:53:26.227Z"
   },
   {
    "duration": 4,
    "start_time": "2024-09-29T14:53:26.521Z"
   },
   {
    "duration": 14,
    "start_time": "2024-09-29T14:53:26.526Z"
   },
   {
    "duration": 172,
    "start_time": "2024-09-29T14:53:26.552Z"
   },
   {
    "duration": 12,
    "start_time": "2024-09-29T14:53:26.726Z"
   },
   {
    "duration": 23,
    "start_time": "2024-09-29T14:53:26.739Z"
   },
   {
    "duration": 13,
    "start_time": "2024-09-29T14:53:26.764Z"
   },
   {
    "duration": 78,
    "start_time": "2024-09-29T14:53:26.779Z"
   },
   {
    "duration": 27,
    "start_time": "2024-09-29T14:53:26.858Z"
   },
   {
    "duration": 12,
    "start_time": "2024-09-29T14:53:26.889Z"
   },
   {
    "duration": 472,
    "start_time": "2024-09-29T14:53:26.903Z"
   },
   {
    "duration": 10,
    "start_time": "2024-09-29T14:53:27.376Z"
   },
   {
    "duration": 173,
    "start_time": "2024-09-29T14:53:27.387Z"
   },
   {
    "duration": 18,
    "start_time": "2024-09-29T14:53:27.562Z"
   },
   {
    "duration": 13,
    "start_time": "2024-09-29T14:53:27.581Z"
   },
   {
    "duration": 13,
    "start_time": "2024-09-29T14:53:27.596Z"
   },
   {
    "duration": 8,
    "start_time": "2024-09-29T14:53:27.610Z"
   },
   {
    "duration": 44,
    "start_time": "2024-09-29T14:53:27.620Z"
   },
   {
    "duration": 8,
    "start_time": "2024-09-29T14:53:27.666Z"
   },
   {
    "duration": 186,
    "start_time": "2024-09-29T14:53:27.676Z"
   },
   {
    "duration": 200,
    "start_time": "2024-09-29T14:53:27.863Z"
   },
   {
    "duration": 213,
    "start_time": "2024-09-29T14:53:28.064Z"
   },
   {
    "duration": 16,
    "start_time": "2024-09-29T14:53:28.278Z"
   },
   {
    "duration": 26,
    "start_time": "2024-09-29T14:53:28.295Z"
   },
   {
    "duration": 4,
    "start_time": "2024-09-29T14:53:28.322Z"
   },
   {
    "duration": 10,
    "start_time": "2024-09-29T14:53:28.327Z"
   },
   {
    "duration": 3,
    "start_time": "2024-09-29T14:53:28.339Z"
   },
   {
    "duration": 7,
    "start_time": "2024-09-29T14:53:28.343Z"
   },
   {
    "duration": 7,
    "start_time": "2024-09-29T14:53:28.352Z"
   },
   {
    "duration": 5,
    "start_time": "2024-09-29T14:53:28.360Z"
   },
   {
    "duration": 49,
    "start_time": "2024-09-29T14:54:39.779Z"
   },
   {
    "duration": 1095,
    "start_time": "2024-09-29T15:58:03.252Z"
   },
   {
    "duration": 144,
    "start_time": "2024-09-29T15:58:04.348Z"
   },
   {
    "duration": 26,
    "start_time": "2024-09-29T15:58:04.494Z"
   },
   {
    "duration": 11,
    "start_time": "2024-09-29T15:58:04.522Z"
   },
   {
    "duration": 4,
    "start_time": "2024-09-29T15:58:04.552Z"
   },
   {
    "duration": 8,
    "start_time": "2024-09-29T15:58:04.557Z"
   },
   {
    "duration": 12,
    "start_time": "2024-09-29T15:58:04.567Z"
   },
   {
    "duration": 26,
    "start_time": "2024-09-29T15:58:04.580Z"
   },
   {
    "duration": 19,
    "start_time": "2024-09-29T15:58:04.607Z"
   },
   {
    "duration": 42,
    "start_time": "2024-09-29T15:58:04.628Z"
   },
   {
    "duration": 26,
    "start_time": "2024-09-29T15:58:04.672Z"
   },
   {
    "duration": 17,
    "start_time": "2024-09-29T15:58:04.699Z"
   },
   {
    "duration": 16,
    "start_time": "2024-09-29T15:58:04.717Z"
   },
   {
    "duration": 302,
    "start_time": "2024-09-29T15:58:04.751Z"
   },
   {
    "duration": 9,
    "start_time": "2024-09-29T15:58:05.054Z"
   },
   {
    "duration": 8,
    "start_time": "2024-09-29T15:58:05.065Z"
   },
   {
    "duration": 10,
    "start_time": "2024-09-29T15:58:05.075Z"
   },
   {
    "duration": 186,
    "start_time": "2024-09-29T15:58:05.086Z"
   },
   {
    "duration": 11,
    "start_time": "2024-09-29T15:58:05.274Z"
   },
   {
    "duration": 390,
    "start_time": "2024-09-29T15:58:05.287Z"
   },
   {
    "duration": 4,
    "start_time": "2024-09-29T15:58:05.678Z"
   },
   {
    "duration": 200,
    "start_time": "2024-09-29T15:58:05.683Z"
   },
   {
    "duration": 168,
    "start_time": "2024-09-29T15:58:05.884Z"
   },
   {
    "duration": 7,
    "start_time": "2024-09-29T15:58:06.053Z"
   },
   {
    "duration": 189,
    "start_time": "2024-09-29T15:58:06.061Z"
   },
   {
    "duration": 172,
    "start_time": "2024-09-29T15:58:06.251Z"
   },
   {
    "duration": 29,
    "start_time": "2024-09-29T15:58:06.425Z"
   },
   {
    "duration": 210,
    "start_time": "2024-09-29T15:58:06.458Z"
   },
   {
    "duration": 9,
    "start_time": "2024-09-29T15:58:06.670Z"
   },
   {
    "duration": 4,
    "start_time": "2024-09-29T15:58:06.681Z"
   },
   {
    "duration": 25,
    "start_time": "2024-09-29T15:58:06.687Z"
   },
   {
    "duration": 268,
    "start_time": "2024-09-29T15:58:06.714Z"
   },
   {
    "duration": 4,
    "start_time": "2024-09-29T15:58:06.984Z"
   },
   {
    "duration": 10,
    "start_time": "2024-09-29T15:58:06.989Z"
   },
   {
    "duration": 180,
    "start_time": "2024-09-29T15:58:07.001Z"
   },
   {
    "duration": 12,
    "start_time": "2024-09-29T15:58:07.182Z"
   },
   {
    "duration": 25,
    "start_time": "2024-09-29T15:58:07.195Z"
   },
   {
    "duration": 18,
    "start_time": "2024-09-29T15:58:07.221Z"
   },
   {
    "duration": 16,
    "start_time": "2024-09-29T15:58:07.240Z"
   },
   {
    "duration": 8,
    "start_time": "2024-09-29T15:58:07.257Z"
   },
   {
    "duration": 4,
    "start_time": "2024-09-29T15:58:07.267Z"
   },
   {
    "duration": 560,
    "start_time": "2024-09-29T15:58:07.272Z"
   },
   {
    "duration": 10,
    "start_time": "2024-09-29T15:58:07.833Z"
   },
   {
    "duration": 166,
    "start_time": "2024-09-29T15:58:07.852Z"
   },
   {
    "duration": 17,
    "start_time": "2024-09-29T15:58:08.020Z"
   },
   {
    "duration": 25,
    "start_time": "2024-09-29T15:58:08.039Z"
   },
   {
    "duration": 15,
    "start_time": "2024-09-29T15:58:08.065Z"
   },
   {
    "duration": 8,
    "start_time": "2024-09-29T15:58:08.081Z"
   },
   {
    "duration": 15,
    "start_time": "2024-09-29T15:58:08.090Z"
   },
   {
    "duration": 7,
    "start_time": "2024-09-29T15:58:08.107Z"
   },
   {
    "duration": 203,
    "start_time": "2024-09-29T15:58:08.115Z"
   },
   {
    "duration": 199,
    "start_time": "2024-09-29T15:58:08.319Z"
   },
   {
    "duration": 221,
    "start_time": "2024-09-29T15:58:08.519Z"
   },
   {
    "duration": 25,
    "start_time": "2024-09-29T15:58:08.741Z"
   },
   {
    "duration": 3,
    "start_time": "2024-09-29T15:58:08.767Z"
   },
   {
    "duration": 2,
    "start_time": "2024-09-29T15:58:08.772Z"
   },
   {
    "duration": 106,
    "start_time": "2024-09-29T15:58:08.775Z"
   },
   {
    "duration": 0,
    "start_time": "2024-09-29T15:58:08.883Z"
   },
   {
    "duration": 0,
    "start_time": "2024-09-29T15:58:08.884Z"
   },
   {
    "duration": 0,
    "start_time": "2024-09-29T15:58:08.885Z"
   },
   {
    "duration": 0,
    "start_time": "2024-09-29T15:58:08.886Z"
   },
   {
    "duration": 5,
    "start_time": "2024-09-29T15:59:07.511Z"
   },
   {
    "duration": 3,
    "start_time": "2024-09-29T15:59:12.585Z"
   },
   {
    "duration": 4,
    "start_time": "2024-09-29T16:00:24.577Z"
   },
   {
    "duration": 7,
    "start_time": "2024-09-29T16:00:26.732Z"
   },
   {
    "duration": 5,
    "start_time": "2024-09-29T16:00:27.983Z"
   },
   {
    "duration": 3,
    "start_time": "2024-09-29T16:00:30.540Z"
   },
   {
    "duration": 5,
    "start_time": "2024-09-29T16:01:03.442Z"
   },
   {
    "duration": 1300,
    "start_time": "2024-09-30T08:07:46.926Z"
   },
   {
    "duration": 453,
    "start_time": "2024-09-30T08:07:48.228Z"
   },
   {
    "duration": 26,
    "start_time": "2024-09-30T08:07:48.683Z"
   },
   {
    "duration": 75,
    "start_time": "2024-09-30T08:07:48.711Z"
   },
   {
    "duration": 4,
    "start_time": "2024-09-30T08:07:48.788Z"
   },
   {
    "duration": 10,
    "start_time": "2024-09-30T08:07:48.793Z"
   },
   {
    "duration": 18,
    "start_time": "2024-09-30T08:07:48.805Z"
   },
   {
    "duration": 23,
    "start_time": "2024-09-30T08:07:48.825Z"
   },
   {
    "duration": 21,
    "start_time": "2024-09-30T08:07:48.849Z"
   },
   {
    "duration": 21,
    "start_time": "2024-09-30T08:07:48.890Z"
   },
   {
    "duration": 26,
    "start_time": "2024-09-30T08:07:48.912Z"
   },
   {
    "duration": 17,
    "start_time": "2024-09-30T08:07:48.940Z"
   },
   {
    "duration": 32,
    "start_time": "2024-09-30T08:07:48.958Z"
   },
   {
    "duration": 313,
    "start_time": "2024-09-30T08:07:48.994Z"
   },
   {
    "duration": 10,
    "start_time": "2024-09-30T08:07:49.309Z"
   },
   {
    "duration": 52,
    "start_time": "2024-09-30T08:07:49.321Z"
   },
   {
    "duration": 10,
    "start_time": "2024-09-30T08:07:49.374Z"
   },
   {
    "duration": 190,
    "start_time": "2024-09-30T08:07:49.385Z"
   },
   {
    "duration": 14,
    "start_time": "2024-09-30T08:07:49.577Z"
   },
   {
    "duration": 393,
    "start_time": "2024-09-30T08:07:49.593Z"
   },
   {
    "duration": 5,
    "start_time": "2024-09-30T08:07:49.990Z"
   },
   {
    "duration": 184,
    "start_time": "2024-09-30T08:07:49.996Z"
   },
   {
    "duration": 194,
    "start_time": "2024-09-30T08:07:50.181Z"
   },
   {
    "duration": 16,
    "start_time": "2024-09-30T08:07:50.376Z"
   },
   {
    "duration": 184,
    "start_time": "2024-09-30T08:07:50.394Z"
   },
   {
    "duration": 196,
    "start_time": "2024-09-30T08:07:50.580Z"
   },
   {
    "duration": 21,
    "start_time": "2024-09-30T08:07:50.778Z"
   },
   {
    "duration": 199,
    "start_time": "2024-09-30T08:07:50.801Z"
   },
   {
    "duration": 10,
    "start_time": "2024-09-30T08:07:51.002Z"
   },
   {
    "duration": 4,
    "start_time": "2024-09-30T08:07:51.014Z"
   },
   {
    "duration": 4,
    "start_time": "2024-09-30T08:07:51.020Z"
   },
   {
    "duration": 306,
    "start_time": "2024-09-30T08:07:51.026Z"
   },
   {
    "duration": 4,
    "start_time": "2024-09-30T08:07:51.335Z"
   },
   {
    "duration": 51,
    "start_time": "2024-09-30T08:07:51.341Z"
   },
   {
    "duration": 181,
    "start_time": "2024-09-30T08:07:51.394Z"
   },
   {
    "duration": 21,
    "start_time": "2024-09-30T08:07:51.577Z"
   },
   {
    "duration": 13,
    "start_time": "2024-09-30T08:07:51.600Z"
   },
   {
    "duration": 19,
    "start_time": "2024-09-30T08:07:51.615Z"
   },
   {
    "duration": 23,
    "start_time": "2024-09-30T08:07:51.636Z"
   },
   {
    "duration": 30,
    "start_time": "2024-09-30T08:07:51.660Z"
   },
   {
    "duration": 4,
    "start_time": "2024-09-30T08:07:51.695Z"
   },
   {
    "duration": 548,
    "start_time": "2024-09-30T08:07:51.700Z"
   },
   {
    "duration": 10,
    "start_time": "2024-09-30T08:07:52.249Z"
   },
   {
    "duration": 181,
    "start_time": "2024-09-30T08:07:52.261Z"
   },
   {
    "duration": 18,
    "start_time": "2024-09-30T08:07:52.444Z"
   },
   {
    "duration": 25,
    "start_time": "2024-09-30T08:07:52.464Z"
   },
   {
    "duration": 22,
    "start_time": "2024-09-30T08:07:52.491Z"
   },
   {
    "duration": 11,
    "start_time": "2024-09-30T08:07:52.514Z"
   },
   {
    "duration": 17,
    "start_time": "2024-09-30T08:07:52.527Z"
   },
   {
    "duration": 20,
    "start_time": "2024-09-30T08:07:52.546Z"
   },
   {
    "duration": 191,
    "start_time": "2024-09-30T08:07:52.567Z"
   },
   {
    "duration": 219,
    "start_time": "2024-09-30T08:07:52.760Z"
   },
   {
    "duration": 230,
    "start_time": "2024-09-30T08:07:52.981Z"
   },
   {
    "duration": 24,
    "start_time": "2024-09-30T08:07:53.213Z"
   },
   {
    "duration": 5,
    "start_time": "2024-09-30T08:07:53.238Z"
   },
   {
    "duration": 3,
    "start_time": "2024-09-30T08:07:53.244Z"
   },
   {
    "duration": 16,
    "start_time": "2024-09-30T08:07:53.249Z"
   },
   {
    "duration": 12,
    "start_time": "2024-09-30T08:07:53.267Z"
   },
   {
    "duration": 6,
    "start_time": "2024-09-30T08:07:53.290Z"
   },
   {
    "duration": 4,
    "start_time": "2024-09-30T08:07:53.298Z"
   },
   {
    "duration": 70,
    "start_time": "2024-09-30T08:07:53.304Z"
   },
   {
    "duration": 9,
    "start_time": "2024-09-30T08:11:17.453Z"
   },
   {
    "duration": 334,
    "start_time": "2024-09-30T08:15:55.409Z"
   },
   {
    "duration": 376,
    "start_time": "2024-09-30T08:17:37.369Z"
   },
   {
    "duration": 469,
    "start_time": "2024-09-30T08:18:46.903Z"
   },
   {
    "duration": 4,
    "start_time": "2024-09-30T08:24:24.203Z"
   },
   {
    "duration": 5,
    "start_time": "2024-09-30T08:24:40.476Z"
   },
   {
    "duration": 181,
    "start_time": "2024-09-30T08:24:57.190Z"
   },
   {
    "duration": 156,
    "start_time": "2024-09-30T08:25:04.114Z"
   },
   {
    "duration": 1096,
    "start_time": "2024-09-30T08:30:24.793Z"
   },
   {
    "duration": 128,
    "start_time": "2024-09-30T08:30:25.891Z"
   },
   {
    "duration": 29,
    "start_time": "2024-09-30T08:30:26.020Z"
   },
   {
    "duration": 12,
    "start_time": "2024-09-30T08:30:26.051Z"
   },
   {
    "duration": 3,
    "start_time": "2024-09-30T08:30:26.065Z"
   },
   {
    "duration": 9,
    "start_time": "2024-09-30T08:30:26.090Z"
   },
   {
    "duration": 17,
    "start_time": "2024-09-30T08:30:26.100Z"
   },
   {
    "duration": 21,
    "start_time": "2024-09-30T08:30:26.118Z"
   },
   {
    "duration": 19,
    "start_time": "2024-09-30T08:30:26.140Z"
   },
   {
    "duration": 38,
    "start_time": "2024-09-30T08:30:26.160Z"
   },
   {
    "duration": 25,
    "start_time": "2024-09-30T08:30:26.199Z"
   },
   {
    "duration": 16,
    "start_time": "2024-09-30T08:30:26.225Z"
   },
   {
    "duration": 11,
    "start_time": "2024-09-30T08:30:26.243Z"
   },
   {
    "duration": 319,
    "start_time": "2024-09-30T08:30:26.257Z"
   },
   {
    "duration": 13,
    "start_time": "2024-09-30T08:30:26.578Z"
   },
   {
    "duration": 5,
    "start_time": "2024-09-30T08:30:26.592Z"
   },
   {
    "duration": 11,
    "start_time": "2024-09-30T08:30:26.599Z"
   },
   {
    "duration": 194,
    "start_time": "2024-09-30T08:30:26.611Z"
   },
   {
    "duration": 10,
    "start_time": "2024-09-30T08:30:26.806Z"
   },
   {
    "duration": 9,
    "start_time": "2024-09-30T08:30:26.817Z"
   },
   {
    "duration": 458,
    "start_time": "2024-09-30T08:30:26.827Z"
   },
   {
    "duration": 5,
    "start_time": "2024-09-30T08:30:27.290Z"
   },
   {
    "duration": 190,
    "start_time": "2024-09-30T08:30:27.296Z"
   },
   {
    "duration": 172,
    "start_time": "2024-09-30T08:30:27.489Z"
   },
   {
    "duration": 8,
    "start_time": "2024-09-30T08:30:27.663Z"
   },
   {
    "duration": 203,
    "start_time": "2024-09-30T08:30:27.673Z"
   },
   {
    "duration": 184,
    "start_time": "2024-09-30T08:30:27.879Z"
   },
   {
    "duration": 27,
    "start_time": "2024-09-30T08:30:28.065Z"
   },
   {
    "duration": 277,
    "start_time": "2024-09-30T08:30:28.093Z"
   },
   {
    "duration": 9,
    "start_time": "2024-09-30T08:30:28.371Z"
   },
   {
    "duration": 10,
    "start_time": "2024-09-30T08:30:28.381Z"
   },
   {
    "duration": 25,
    "start_time": "2024-09-30T08:30:28.393Z"
   },
   {
    "duration": 207,
    "start_time": "2024-09-30T08:30:28.420Z"
   },
   {
    "duration": 4,
    "start_time": "2024-09-30T08:30:28.629Z"
   },
   {
    "duration": 11,
    "start_time": "2024-09-30T08:30:28.634Z"
   },
   {
    "duration": 198,
    "start_time": "2024-09-30T08:30:28.646Z"
   },
   {
    "duration": 12,
    "start_time": "2024-09-30T08:30:28.846Z"
   },
   {
    "duration": 19,
    "start_time": "2024-09-30T08:30:28.860Z"
   },
   {
    "duration": 23,
    "start_time": "2024-09-30T08:30:28.880Z"
   },
   {
    "duration": 16,
    "start_time": "2024-09-30T08:30:28.904Z"
   },
   {
    "duration": 10,
    "start_time": "2024-09-30T08:30:28.924Z"
   },
   {
    "duration": 4,
    "start_time": "2024-09-30T08:30:28.935Z"
   },
   {
    "duration": 701,
    "start_time": "2024-09-30T08:30:28.941Z"
   },
   {
    "duration": 10,
    "start_time": "2024-09-30T08:30:29.643Z"
   },
   {
    "duration": 185,
    "start_time": "2024-09-30T08:30:29.655Z"
   },
   {
    "duration": 19,
    "start_time": "2024-09-30T08:30:29.842Z"
   },
   {
    "duration": 87,
    "start_time": "2024-09-30T08:30:29.863Z"
   },
   {
    "duration": 14,
    "start_time": "2024-09-30T08:30:29.951Z"
   },
   {
    "duration": 7,
    "start_time": "2024-09-30T08:30:29.966Z"
   },
   {
    "duration": 15,
    "start_time": "2024-09-30T08:30:29.975Z"
   },
   {
    "duration": 12,
    "start_time": "2024-09-30T08:30:29.991Z"
   },
   {
    "duration": 209,
    "start_time": "2024-09-30T08:30:30.004Z"
   },
   {
    "duration": 236,
    "start_time": "2024-09-30T08:30:30.216Z"
   },
   {
    "duration": 218,
    "start_time": "2024-09-30T08:30:30.453Z"
   },
   {
    "duration": 27,
    "start_time": "2024-09-30T08:30:30.672Z"
   },
   {
    "duration": 13,
    "start_time": "2024-09-30T08:30:30.700Z"
   },
   {
    "duration": 37,
    "start_time": "2024-09-30T08:30:30.715Z"
   },
   {
    "duration": 7,
    "start_time": "2024-09-30T08:30:30.753Z"
   },
   {
    "duration": 90,
    "start_time": "2024-09-30T08:30:30.762Z"
   },
   {
    "duration": 15,
    "start_time": "2024-09-30T08:30:30.853Z"
   },
   {
    "duration": 6,
    "start_time": "2024-09-30T08:30:30.870Z"
   },
   {
    "duration": 50,
    "start_time": "2024-09-30T08:30:30.877Z"
   },
   {
    "duration": 4,
    "start_time": "2024-09-30T08:32:33.013Z"
   },
   {
    "duration": 5,
    "start_time": "2024-09-30T08:32:51.055Z"
   },
   {
    "duration": 4,
    "start_time": "2024-09-30T08:32:56.888Z"
   },
   {
    "duration": 184,
    "start_time": "2024-09-30T08:34:14.242Z"
   },
   {
    "duration": 196,
    "start_time": "2024-09-30T08:35:12.884Z"
   },
   {
    "duration": 16,
    "start_time": "2024-09-30T08:35:56.897Z"
   },
   {
    "duration": 173,
    "start_time": "2024-09-30T08:36:15.245Z"
   },
   {
    "duration": 186,
    "start_time": "2024-09-30T08:36:21.893Z"
   },
   {
    "duration": 274,
    "start_time": "2024-09-30T08:36:43.074Z"
   },
   {
    "duration": 8,
    "start_time": "2024-09-30T08:43:22.603Z"
   },
   {
    "duration": 4,
    "start_time": "2024-09-30T08:43:43.668Z"
   },
   {
    "duration": 7,
    "start_time": "2024-09-30T08:43:49.065Z"
   },
   {
    "duration": 4,
    "start_time": "2024-09-30T08:43:50.758Z"
   },
   {
    "duration": 194,
    "start_time": "2024-09-30T08:45:15.154Z"
   },
   {
    "duration": 188,
    "start_time": "2024-09-30T08:45:24.542Z"
   },
   {
    "duration": 20,
    "start_time": "2024-09-30T08:46:01.861Z"
   },
   {
    "duration": 173,
    "start_time": "2024-09-30T08:46:11.404Z"
   },
   {
    "duration": 181,
    "start_time": "2024-09-30T08:46:23.803Z"
   },
   {
    "duration": 11,
    "start_time": "2024-09-30T08:46:57.435Z"
   },
   {
    "duration": 8,
    "start_time": "2024-09-30T08:47:44.032Z"
   },
   {
    "duration": 3,
    "start_time": "2024-09-30T08:47:59.506Z"
   },
   {
    "duration": 1094,
    "start_time": "2024-09-30T08:48:21.390Z"
   },
   {
    "duration": 132,
    "start_time": "2024-09-30T08:48:22.486Z"
   },
   {
    "duration": 28,
    "start_time": "2024-09-30T08:48:22.620Z"
   },
   {
    "duration": 11,
    "start_time": "2024-09-30T08:48:22.650Z"
   },
   {
    "duration": 4,
    "start_time": "2024-09-30T08:48:22.663Z"
   },
   {
    "duration": 29,
    "start_time": "2024-09-30T08:48:22.668Z"
   },
   {
    "duration": 13,
    "start_time": "2024-09-30T08:48:22.698Z"
   },
   {
    "duration": 21,
    "start_time": "2024-09-30T08:48:22.713Z"
   },
   {
    "duration": 20,
    "start_time": "2024-09-30T08:48:22.736Z"
   },
   {
    "duration": 47,
    "start_time": "2024-09-30T08:48:22.758Z"
   },
   {
    "duration": 27,
    "start_time": "2024-09-30T08:48:22.807Z"
   },
   {
    "duration": 19,
    "start_time": "2024-09-30T08:48:22.836Z"
   },
   {
    "duration": 34,
    "start_time": "2024-09-30T08:48:22.856Z"
   },
   {
    "duration": 311,
    "start_time": "2024-09-30T08:48:22.894Z"
   },
   {
    "duration": 10,
    "start_time": "2024-09-30T08:48:23.207Z"
   },
   {
    "duration": 6,
    "start_time": "2024-09-30T08:48:23.219Z"
   },
   {
    "duration": 11,
    "start_time": "2024-09-30T08:48:23.227Z"
   },
   {
    "duration": 207,
    "start_time": "2024-09-30T08:48:23.240Z"
   },
   {
    "duration": 10,
    "start_time": "2024-09-30T08:48:23.449Z"
   },
   {
    "duration": 10,
    "start_time": "2024-09-30T08:48:23.460Z"
   },
   {
    "duration": 457,
    "start_time": "2024-09-30T08:48:23.472Z"
   },
   {
    "duration": 5,
    "start_time": "2024-09-30T08:48:23.931Z"
   },
   {
    "duration": 182,
    "start_time": "2024-09-30T08:48:23.938Z"
   },
   {
    "duration": 173,
    "start_time": "2024-09-30T08:48:24.122Z"
   },
   {
    "duration": 8,
    "start_time": "2024-09-30T08:48:24.297Z"
   },
   {
    "duration": 9,
    "start_time": "2024-09-30T08:48:24.306Z"
   },
   {
    "duration": 207,
    "start_time": "2024-09-30T08:48:24.316Z"
   },
   {
    "duration": 201,
    "start_time": "2024-09-30T08:48:24.525Z"
   },
   {
    "duration": 20,
    "start_time": "2024-09-30T08:48:24.728Z"
   },
   {
    "duration": 267,
    "start_time": "2024-09-30T08:48:24.750Z"
   },
   {
    "duration": 9,
    "start_time": "2024-09-30T08:48:25.019Z"
   },
   {
    "duration": 4,
    "start_time": "2024-09-30T08:48:25.030Z"
   },
   {
    "duration": 5,
    "start_time": "2024-09-30T08:48:25.035Z"
   },
   {
    "duration": 4,
    "start_time": "2024-09-30T08:48:25.041Z"
   },
   {
    "duration": 237,
    "start_time": "2024-09-30T08:48:25.046Z"
   },
   {
    "duration": 8,
    "start_time": "2024-09-30T08:48:25.284Z"
   },
   {
    "duration": 19,
    "start_time": "2024-09-30T08:48:25.293Z"
   },
   {
    "duration": 223,
    "start_time": "2024-09-30T08:48:25.313Z"
   },
   {
    "duration": 13,
    "start_time": "2024-09-30T08:48:25.537Z"
   },
   {
    "duration": 12,
    "start_time": "2024-09-30T08:48:25.552Z"
   },
   {
    "duration": 33,
    "start_time": "2024-09-30T08:48:25.568Z"
   },
   {
    "duration": 15,
    "start_time": "2024-09-30T08:48:25.602Z"
   },
   {
    "duration": 9,
    "start_time": "2024-09-30T08:48:25.618Z"
   },
   {
    "duration": 5,
    "start_time": "2024-09-30T08:48:25.628Z"
   },
   {
    "duration": 737,
    "start_time": "2024-09-30T08:48:25.634Z"
   },
   {
    "duration": 19,
    "start_time": "2024-09-30T08:48:26.373Z"
   },
   {
    "duration": 178,
    "start_time": "2024-09-30T08:48:26.394Z"
   },
   {
    "duration": 22,
    "start_time": "2024-09-30T08:48:26.574Z"
   },
   {
    "duration": 14,
    "start_time": "2024-09-30T08:48:26.598Z"
   },
   {
    "duration": 14,
    "start_time": "2024-09-30T08:48:26.613Z"
   },
   {
    "duration": 12,
    "start_time": "2024-09-30T08:48:26.628Z"
   },
   {
    "duration": 17,
    "start_time": "2024-09-30T08:48:26.641Z"
   },
   {
    "duration": 35,
    "start_time": "2024-09-30T08:48:26.659Z"
   },
   {
    "duration": 176,
    "start_time": "2024-09-30T08:48:26.695Z"
   },
   {
    "duration": 213,
    "start_time": "2024-09-30T08:48:26.873Z"
   },
   {
    "duration": 217,
    "start_time": "2024-09-30T08:48:27.088Z"
   },
   {
    "duration": 18,
    "start_time": "2024-09-30T08:48:27.306Z"
   },
   {
    "duration": 50,
    "start_time": "2024-09-30T08:48:27.326Z"
   },
   {
    "duration": 29,
    "start_time": "2024-09-30T08:48:27.377Z"
   },
   {
    "duration": 56,
    "start_time": "2024-09-30T08:48:27.408Z"
   },
   {
    "duration": 8,
    "start_time": "2024-09-30T08:48:27.465Z"
   },
   {
    "duration": 8,
    "start_time": "2024-09-30T08:48:27.474Z"
   },
   {
    "duration": 6,
    "start_time": "2024-09-30T08:48:27.483Z"
   },
   {
    "duration": 3,
    "start_time": "2024-09-30T08:48:27.490Z"
   },
   {
    "duration": 5,
    "start_time": "2024-09-30T08:50:01.019Z"
   },
   {
    "duration": 4,
    "start_time": "2024-09-30T08:50:28.618Z"
   },
   {
    "duration": 4,
    "start_time": "2024-09-30T08:50:36.304Z"
   },
   {
    "duration": 1040,
    "start_time": "2024-09-30T08:58:32.845Z"
   },
   {
    "duration": 133,
    "start_time": "2024-09-30T08:58:33.889Z"
   },
   {
    "duration": 27,
    "start_time": "2024-09-30T08:58:34.024Z"
   },
   {
    "duration": 13,
    "start_time": "2024-09-30T08:58:34.052Z"
   },
   {
    "duration": 13,
    "start_time": "2024-09-30T08:58:34.067Z"
   },
   {
    "duration": 13,
    "start_time": "2024-09-30T08:58:34.096Z"
   },
   {
    "duration": 35,
    "start_time": "2024-09-30T08:58:34.111Z"
   },
   {
    "duration": 22,
    "start_time": "2024-09-30T08:58:34.148Z"
   },
   {
    "duration": 22,
    "start_time": "2024-09-30T08:58:34.172Z"
   },
   {
    "duration": 22,
    "start_time": "2024-09-30T08:58:34.205Z"
   },
   {
    "duration": 26,
    "start_time": "2024-09-30T08:58:34.228Z"
   },
   {
    "duration": 16,
    "start_time": "2024-09-30T08:58:34.256Z"
   },
   {
    "duration": 26,
    "start_time": "2024-09-30T08:58:34.273Z"
   },
   {
    "duration": 329,
    "start_time": "2024-09-30T08:58:34.304Z"
   },
   {
    "duration": 9,
    "start_time": "2024-09-30T08:58:34.635Z"
   },
   {
    "duration": 15,
    "start_time": "2024-09-30T08:58:34.646Z"
   },
   {
    "duration": 15,
    "start_time": "2024-09-30T08:58:34.662Z"
   },
   {
    "duration": 200,
    "start_time": "2024-09-30T08:58:34.678Z"
   },
   {
    "duration": 21,
    "start_time": "2024-09-30T08:58:34.880Z"
   },
   {
    "duration": 9,
    "start_time": "2024-09-30T08:58:34.902Z"
   },
   {
    "duration": 544,
    "start_time": "2024-09-30T08:58:34.912Z"
   },
   {
    "duration": 4,
    "start_time": "2024-09-30T08:58:35.458Z"
   },
   {
    "duration": 266,
    "start_time": "2024-09-30T08:58:35.464Z"
   },
   {
    "duration": 191,
    "start_time": "2024-09-30T08:58:35.732Z"
   },
   {
    "duration": 6,
    "start_time": "2024-09-30T08:58:35.925Z"
   },
   {
    "duration": 21,
    "start_time": "2024-09-30T08:58:35.933Z"
   },
   {
    "duration": 275,
    "start_time": "2024-09-30T08:58:35.956Z"
   },
   {
    "duration": 229,
    "start_time": "2024-09-30T08:58:36.233Z"
   },
   {
    "duration": 33,
    "start_time": "2024-09-30T08:58:36.464Z"
   },
   {
    "duration": 279,
    "start_time": "2024-09-30T08:58:36.504Z"
   },
   {
    "duration": 23,
    "start_time": "2024-09-30T08:58:36.785Z"
   },
   {
    "duration": 13,
    "start_time": "2024-09-30T08:58:36.810Z"
   },
   {
    "duration": 7,
    "start_time": "2024-09-30T08:58:36.825Z"
   },
   {
    "duration": 232,
    "start_time": "2024-09-30T08:58:36.834Z"
   },
   {
    "duration": 6,
    "start_time": "2024-09-30T08:58:37.068Z"
   },
   {
    "duration": 16,
    "start_time": "2024-09-30T08:58:37.092Z"
   },
   {
    "duration": 201,
    "start_time": "2024-09-30T08:58:37.110Z"
   },
   {
    "duration": 13,
    "start_time": "2024-09-30T08:58:37.313Z"
   },
   {
    "duration": 65,
    "start_time": "2024-09-30T08:58:37.328Z"
   },
   {
    "duration": 123,
    "start_time": "2024-09-30T08:58:37.395Z"
   },
   {
    "duration": 15,
    "start_time": "2024-09-30T08:58:37.523Z"
   },
   {
    "duration": 11,
    "start_time": "2024-09-30T08:58:37.540Z"
   },
   {
    "duration": 21,
    "start_time": "2024-09-30T08:58:37.552Z"
   },
   {
    "duration": 734,
    "start_time": "2024-09-30T08:58:37.574Z"
   },
   {
    "duration": 15,
    "start_time": "2024-09-30T08:58:38.310Z"
   },
   {
    "duration": 230,
    "start_time": "2024-09-30T08:58:38.326Z"
   },
   {
    "duration": 45,
    "start_time": "2024-09-30T08:58:38.558Z"
   },
   {
    "duration": 24,
    "start_time": "2024-09-30T08:58:38.605Z"
   },
   {
    "duration": 22,
    "start_time": "2024-09-30T08:58:38.631Z"
   },
   {
    "duration": 13,
    "start_time": "2024-09-30T08:58:38.655Z"
   },
   {
    "duration": 35,
    "start_time": "2024-09-30T08:58:38.669Z"
   },
   {
    "duration": 10,
    "start_time": "2024-09-30T08:58:38.707Z"
   },
   {
    "duration": 281,
    "start_time": "2024-09-30T08:58:38.718Z"
   },
   {
    "duration": 301,
    "start_time": "2024-09-30T08:58:39.001Z"
   },
   {
    "duration": 230,
    "start_time": "2024-09-30T08:58:39.304Z"
   },
   {
    "duration": 17,
    "start_time": "2024-09-30T08:58:39.536Z"
   },
   {
    "duration": 13,
    "start_time": "2024-09-30T08:58:39.554Z"
   },
   {
    "duration": 3,
    "start_time": "2024-09-30T08:58:39.568Z"
   },
   {
    "duration": 28,
    "start_time": "2024-09-30T08:58:39.573Z"
   },
   {
    "duration": 4,
    "start_time": "2024-09-30T08:58:39.602Z"
   },
   {
    "duration": 9,
    "start_time": "2024-09-30T08:58:39.607Z"
   },
   {
    "duration": 24,
    "start_time": "2024-09-30T08:58:39.617Z"
   },
   {
    "duration": 32,
    "start_time": "2024-09-30T08:58:39.642Z"
   },
   {
    "duration": 64,
    "start_time": "2024-09-30T09:00:37.263Z"
   },
   {
    "duration": 27,
    "start_time": "2024-09-30T09:03:38.774Z"
   },
   {
    "duration": 14,
    "start_time": "2024-09-30T09:03:58.860Z"
   },
   {
    "duration": 17,
    "start_time": "2024-09-30T09:04:06.859Z"
   },
   {
    "duration": 16,
    "start_time": "2024-09-30T09:04:20.563Z"
   },
   {
    "duration": 4,
    "start_time": "2024-09-30T09:04:34.741Z"
   },
   {
    "duration": 693,
    "start_time": "2024-09-30T09:04:38.075Z"
   },
   {
    "duration": 16,
    "start_time": "2024-09-30T09:04:46.188Z"
   },
   {
    "duration": 198,
    "start_time": "2024-09-30T09:04:49.064Z"
   },
   {
    "duration": 18,
    "start_time": "2024-09-30T09:06:14.985Z"
   },
   {
    "duration": 17,
    "start_time": "2024-09-30T09:06:33.179Z"
   },
   {
    "duration": 13,
    "start_time": "2024-09-30T09:06:45.754Z"
   },
   {
    "duration": 192,
    "start_time": "2024-09-30T09:06:50.415Z"
   },
   {
    "duration": 202,
    "start_time": "2024-09-30T09:07:22.480Z"
   },
   {
    "duration": 189,
    "start_time": "2024-09-30T09:07:47.474Z"
   },
   {
    "duration": 271,
    "start_time": "2024-09-30T09:07:52.630Z"
   },
   {
    "duration": 14,
    "start_time": "2024-09-30T09:08:18.218Z"
   },
   {
    "duration": 195,
    "start_time": "2024-09-30T09:08:19.603Z"
   },
   {
    "duration": 13,
    "start_time": "2024-09-30T09:08:26.305Z"
   },
   {
    "duration": 197,
    "start_time": "2024-09-30T09:08:47.018Z"
   },
   {
    "duration": 25,
    "start_time": "2024-09-30T09:10:39.588Z"
   },
   {
    "duration": 16,
    "start_time": "2024-09-30T09:11:24.368Z"
   },
   {
    "duration": 15,
    "start_time": "2024-09-30T09:11:25.299Z"
   },
   {
    "duration": 9,
    "start_time": "2024-09-30T09:11:26.220Z"
   },
   {
    "duration": 236,
    "start_time": "2024-09-30T09:20:42.068Z"
   },
   {
    "duration": 10,
    "start_time": "2024-09-30T09:21:39.434Z"
   },
   {
    "duration": 10,
    "start_time": "2024-09-30T09:21:53.202Z"
   },
   {
    "duration": 228,
    "start_time": "2024-09-30T09:22:17.154Z"
   },
   {
    "duration": 228,
    "start_time": "2024-09-30T09:22:25.439Z"
   },
   {
    "duration": 53,
    "start_time": "2024-09-30T09:28:53.277Z"
   },
   {
    "duration": 58,
    "start_time": "2024-09-30T09:41:13.494Z"
   },
   {
    "duration": 1276,
    "start_time": "2024-09-30T12:39:57.681Z"
   },
   {
    "duration": 364,
    "start_time": "2024-09-30T12:39:58.959Z"
   },
   {
    "duration": 29,
    "start_time": "2024-09-30T12:39:59.324Z"
   },
   {
    "duration": 12,
    "start_time": "2024-09-30T12:39:59.355Z"
   },
   {
    "duration": 23,
    "start_time": "2024-09-30T12:39:59.369Z"
   },
   {
    "duration": 66,
    "start_time": "2024-09-30T12:39:59.393Z"
   },
   {
    "duration": 26,
    "start_time": "2024-09-30T12:39:59.461Z"
   },
   {
    "duration": 23,
    "start_time": "2024-09-30T12:39:59.489Z"
   },
   {
    "duration": 21,
    "start_time": "2024-09-30T12:39:59.514Z"
   },
   {
    "duration": 24,
    "start_time": "2024-09-30T12:39:59.537Z"
   },
   {
    "duration": 28,
    "start_time": "2024-09-30T12:39:59.563Z"
   },
   {
    "duration": 19,
    "start_time": "2024-09-30T12:39:59.593Z"
   },
   {
    "duration": 33,
    "start_time": "2024-09-30T12:39:59.613Z"
   },
   {
    "duration": 343,
    "start_time": "2024-09-30T12:39:59.649Z"
   },
   {
    "duration": 12,
    "start_time": "2024-09-30T12:39:59.994Z"
   },
   {
    "duration": 97,
    "start_time": "2024-09-30T12:40:00.008Z"
   },
   {
    "duration": 121,
    "start_time": "2024-09-30T12:40:00.107Z"
   },
   {
    "duration": 224,
    "start_time": "2024-09-30T12:40:00.229Z"
   },
   {
    "duration": 10,
    "start_time": "2024-09-30T12:40:00.455Z"
   },
   {
    "duration": 31,
    "start_time": "2024-09-30T12:40:00.467Z"
   },
   {
    "duration": 476,
    "start_time": "2024-09-30T12:40:00.499Z"
   },
   {
    "duration": 7,
    "start_time": "2024-09-30T12:40:00.976Z"
   },
   {
    "duration": 197,
    "start_time": "2024-09-30T12:40:00.984Z"
   },
   {
    "duration": 181,
    "start_time": "2024-09-30T12:40:01.183Z"
   },
   {
    "duration": 7,
    "start_time": "2024-09-30T12:40:01.366Z"
   },
   {
    "duration": 17,
    "start_time": "2024-09-30T12:40:01.374Z"
   },
   {
    "duration": 216,
    "start_time": "2024-09-30T12:40:01.392Z"
   },
   {
    "duration": 204,
    "start_time": "2024-09-30T12:40:01.610Z"
   },
   {
    "duration": 29,
    "start_time": "2024-09-30T12:40:01.816Z"
   },
   {
    "duration": 265,
    "start_time": "2024-09-30T12:40:01.846Z"
   },
   {
    "duration": 9,
    "start_time": "2024-09-30T12:40:02.113Z"
   },
   {
    "duration": 88,
    "start_time": "2024-09-30T12:40:02.123Z"
   },
   {
    "duration": 16,
    "start_time": "2024-09-30T12:40:02.213Z"
   },
   {
    "duration": 233,
    "start_time": "2024-09-30T12:40:02.231Z"
   },
   {
    "duration": 4,
    "start_time": "2024-09-30T12:40:02.466Z"
   },
   {
    "duration": 28,
    "start_time": "2024-09-30T12:40:02.472Z"
   },
   {
    "duration": 192,
    "start_time": "2024-09-30T12:40:02.501Z"
   },
   {
    "duration": 16,
    "start_time": "2024-09-30T12:40:02.695Z"
   },
   {
    "duration": 18,
    "start_time": "2024-09-30T12:40:02.712Z"
   },
   {
    "duration": 24,
    "start_time": "2024-09-30T12:40:02.743Z"
   },
   {
    "duration": 94,
    "start_time": "2024-09-30T12:40:02.771Z"
   },
   {
    "duration": 16,
    "start_time": "2024-09-30T12:40:02.867Z"
   },
   {
    "duration": 15,
    "start_time": "2024-09-30T12:40:02.884Z"
   },
   {
    "duration": 699,
    "start_time": "2024-09-30T12:40:02.901Z"
   },
   {
    "duration": 13,
    "start_time": "2024-09-30T12:40:03.601Z"
   },
   {
    "duration": 226,
    "start_time": "2024-09-30T12:40:03.616Z"
   },
   {
    "duration": 22,
    "start_time": "2024-09-30T12:40:03.844Z"
   },
   {
    "duration": 16,
    "start_time": "2024-09-30T12:40:03.868Z"
   },
   {
    "duration": 45,
    "start_time": "2024-09-30T12:40:03.885Z"
   },
   {
    "duration": 27,
    "start_time": "2024-09-30T12:40:03.932Z"
   },
   {
    "duration": 122,
    "start_time": "2024-09-30T12:40:03.961Z"
   },
   {
    "duration": 0,
    "start_time": "2024-09-30T12:40:04.084Z"
   },
   {
    "duration": 0,
    "start_time": "2024-09-30T12:40:04.086Z"
   },
   {
    "duration": 0,
    "start_time": "2024-09-30T12:40:04.087Z"
   },
   {
    "duration": 0,
    "start_time": "2024-09-30T12:40:04.089Z"
   },
   {
    "duration": 0,
    "start_time": "2024-09-30T12:40:04.091Z"
   },
   {
    "duration": 0,
    "start_time": "2024-09-30T12:40:04.092Z"
   },
   {
    "duration": 1,
    "start_time": "2024-09-30T12:40:04.093Z"
   },
   {
    "duration": 0,
    "start_time": "2024-09-30T12:40:04.095Z"
   },
   {
    "duration": 0,
    "start_time": "2024-09-30T12:40:04.096Z"
   },
   {
    "duration": 0,
    "start_time": "2024-09-30T12:40:04.098Z"
   },
   {
    "duration": 0,
    "start_time": "2024-09-30T12:40:04.099Z"
   },
   {
    "duration": 0,
    "start_time": "2024-09-30T12:40:04.100Z"
   },
   {
    "duration": 0,
    "start_time": "2024-09-30T12:40:04.102Z"
   },
   {
    "duration": 17,
    "start_time": "2024-09-30T12:41:54.391Z"
   },
   {
    "duration": 16,
    "start_time": "2024-09-30T12:52:54.987Z"
   },
   {
    "duration": 14,
    "start_time": "2024-09-30T12:54:10.485Z"
   },
   {
    "duration": 12,
    "start_time": "2024-09-30T12:55:16.692Z"
   },
   {
    "duration": 11,
    "start_time": "2024-09-30T12:55:38.398Z"
   },
   {
    "duration": 12,
    "start_time": "2024-09-30T12:56:56.630Z"
   },
   {
    "duration": 13,
    "start_time": "2024-09-30T12:57:19.383Z"
   },
   {
    "duration": 12,
    "start_time": "2024-09-30T12:57:25.421Z"
   },
   {
    "duration": 14,
    "start_time": "2024-09-30T13:00:27.522Z"
   },
   {
    "duration": 1170,
    "start_time": "2024-09-30T13:06:22.591Z"
   },
   {
    "duration": 144,
    "start_time": "2024-09-30T13:06:23.763Z"
   },
   {
    "duration": 28,
    "start_time": "2024-09-30T13:06:23.909Z"
   },
   {
    "duration": 13,
    "start_time": "2024-09-30T13:06:23.939Z"
   },
   {
    "duration": 4,
    "start_time": "2024-09-30T13:06:23.954Z"
   },
   {
    "duration": 19,
    "start_time": "2024-09-30T13:06:23.960Z"
   },
   {
    "duration": 13,
    "start_time": "2024-09-30T13:06:23.981Z"
   },
   {
    "duration": 48,
    "start_time": "2024-09-30T13:06:23.995Z"
   },
   {
    "duration": 22,
    "start_time": "2024-09-30T13:06:24.045Z"
   },
   {
    "duration": 24,
    "start_time": "2024-09-30T13:06:24.071Z"
   },
   {
    "duration": 50,
    "start_time": "2024-09-30T13:06:24.097Z"
   },
   {
    "duration": 20,
    "start_time": "2024-09-30T13:06:24.149Z"
   },
   {
    "duration": 14,
    "start_time": "2024-09-30T13:06:24.171Z"
   },
   {
    "duration": 348,
    "start_time": "2024-09-30T13:06:24.187Z"
   },
   {
    "duration": 11,
    "start_time": "2024-09-30T13:06:24.537Z"
   },
   {
    "duration": 14,
    "start_time": "2024-09-30T13:06:24.550Z"
   },
   {
    "duration": 13,
    "start_time": "2024-09-30T13:06:24.566Z"
   },
   {
    "duration": 223,
    "start_time": "2024-09-30T13:06:24.581Z"
   },
   {
    "duration": 11,
    "start_time": "2024-09-30T13:06:24.806Z"
   },
   {
    "duration": 27,
    "start_time": "2024-09-30T13:06:24.819Z"
   },
   {
    "duration": 514,
    "start_time": "2024-09-30T13:06:24.848Z"
   },
   {
    "duration": 5,
    "start_time": "2024-09-30T13:06:25.363Z"
   },
   {
    "duration": 192,
    "start_time": "2024-09-30T13:06:25.369Z"
   },
   {
    "duration": 184,
    "start_time": "2024-09-30T13:06:25.562Z"
   },
   {
    "duration": 8,
    "start_time": "2024-09-30T13:06:25.747Z"
   },
   {
    "duration": 27,
    "start_time": "2024-09-30T13:06:25.756Z"
   },
   {
    "duration": 212,
    "start_time": "2024-09-30T13:06:25.785Z"
   },
   {
    "duration": 216,
    "start_time": "2024-09-30T13:06:26.001Z"
   },
   {
    "duration": 25,
    "start_time": "2024-09-30T13:06:26.218Z"
   },
   {
    "duration": 272,
    "start_time": "2024-09-30T13:06:26.244Z"
   },
   {
    "duration": 9,
    "start_time": "2024-09-30T13:06:26.517Z"
   },
   {
    "duration": 18,
    "start_time": "2024-09-30T13:06:26.527Z"
   },
   {
    "duration": 4,
    "start_time": "2024-09-30T13:06:26.547Z"
   },
   {
    "duration": 221,
    "start_time": "2024-09-30T13:06:26.553Z"
   },
   {
    "duration": 5,
    "start_time": "2024-09-30T13:06:26.776Z"
   },
   {
    "duration": 15,
    "start_time": "2024-09-30T13:06:26.783Z"
   },
   {
    "duration": 196,
    "start_time": "2024-09-30T13:06:26.799Z"
   },
   {
    "duration": 16,
    "start_time": "2024-09-30T13:06:26.997Z"
   },
   {
    "duration": 31,
    "start_time": "2024-09-30T13:06:27.015Z"
   },
   {
    "duration": 18,
    "start_time": "2024-09-30T13:06:27.048Z"
   },
   {
    "duration": 18,
    "start_time": "2024-09-30T13:06:27.067Z"
   },
   {
    "duration": 10,
    "start_time": "2024-09-30T13:06:27.087Z"
   },
   {
    "duration": 9,
    "start_time": "2024-09-30T13:06:27.098Z"
   },
   {
    "duration": 722,
    "start_time": "2024-09-30T13:06:27.109Z"
   },
   {
    "duration": 21,
    "start_time": "2024-09-30T13:06:27.832Z"
   },
   {
    "duration": 199,
    "start_time": "2024-09-30T13:06:27.855Z"
   },
   {
    "duration": 12,
    "start_time": "2024-09-30T13:06:28.056Z"
   },
   {
    "duration": 13,
    "start_time": "2024-09-30T13:06:28.069Z"
   },
   {
    "duration": 14,
    "start_time": "2024-09-30T13:06:28.084Z"
   },
   {
    "duration": 143,
    "start_time": "2024-09-30T13:06:28.100Z"
   },
   {
    "duration": 0,
    "start_time": "2024-09-30T13:06:28.245Z"
   },
   {
    "duration": 0,
    "start_time": "2024-09-30T13:06:28.246Z"
   },
   {
    "duration": 0,
    "start_time": "2024-09-30T13:06:28.247Z"
   },
   {
    "duration": 0,
    "start_time": "2024-09-30T13:06:28.248Z"
   },
   {
    "duration": 0,
    "start_time": "2024-09-30T13:06:28.250Z"
   },
   {
    "duration": 0,
    "start_time": "2024-09-30T13:06:28.251Z"
   },
   {
    "duration": 0,
    "start_time": "2024-09-30T13:06:28.252Z"
   },
   {
    "duration": 0,
    "start_time": "2024-09-30T13:06:28.253Z"
   },
   {
    "duration": 0,
    "start_time": "2024-09-30T13:06:28.254Z"
   },
   {
    "duration": 0,
    "start_time": "2024-09-30T13:06:28.255Z"
   },
   {
    "duration": 0,
    "start_time": "2024-09-30T13:06:28.256Z"
   },
   {
    "duration": 0,
    "start_time": "2024-09-30T13:06:28.257Z"
   },
   {
    "duration": 0,
    "start_time": "2024-09-30T13:06:28.258Z"
   },
   {
    "duration": 0,
    "start_time": "2024-09-30T13:06:28.259Z"
   },
   {
    "duration": 14,
    "start_time": "2024-09-30T13:09:06.912Z"
   },
   {
    "duration": 17,
    "start_time": "2024-09-30T13:09:16.247Z"
   },
   {
    "duration": 1302,
    "start_time": "2024-09-30T13:09:43.271Z"
   },
   {
    "duration": 134,
    "start_time": "2024-09-30T13:09:44.575Z"
   },
   {
    "duration": 42,
    "start_time": "2024-09-30T13:09:44.710Z"
   },
   {
    "duration": 19,
    "start_time": "2024-09-30T13:09:44.755Z"
   },
   {
    "duration": 3,
    "start_time": "2024-09-30T13:09:44.776Z"
   },
   {
    "duration": 11,
    "start_time": "2024-09-30T13:09:44.781Z"
   },
   {
    "duration": 18,
    "start_time": "2024-09-30T13:09:44.843Z"
   },
   {
    "duration": 70,
    "start_time": "2024-09-30T13:09:44.863Z"
   },
   {
    "duration": 22,
    "start_time": "2024-09-30T13:09:44.934Z"
   },
   {
    "duration": 24,
    "start_time": "2024-09-30T13:09:44.959Z"
   },
   {
    "duration": 74,
    "start_time": "2024-09-30T13:09:44.984Z"
   },
   {
    "duration": 18,
    "start_time": "2024-09-30T13:09:45.059Z"
   },
   {
    "duration": 42,
    "start_time": "2024-09-30T13:09:45.079Z"
   },
   {
    "duration": 330,
    "start_time": "2024-09-30T13:09:45.123Z"
   },
   {
    "duration": 10,
    "start_time": "2024-09-30T13:09:45.455Z"
   },
   {
    "duration": 38,
    "start_time": "2024-09-30T13:09:45.466Z"
   },
   {
    "duration": 23,
    "start_time": "2024-09-30T13:09:45.506Z"
   },
   {
    "duration": 227,
    "start_time": "2024-09-30T13:09:45.531Z"
   },
   {
    "duration": 10,
    "start_time": "2024-09-30T13:09:45.759Z"
   },
   {
    "duration": 12,
    "start_time": "2024-09-30T13:09:45.771Z"
   },
   {
    "duration": 476,
    "start_time": "2024-09-30T13:09:45.785Z"
   },
   {
    "duration": 5,
    "start_time": "2024-09-30T13:09:46.262Z"
   },
   {
    "duration": 321,
    "start_time": "2024-09-30T13:09:46.269Z"
   },
   {
    "duration": 197,
    "start_time": "2024-09-30T13:09:46.592Z"
   },
   {
    "duration": 8,
    "start_time": "2024-09-30T13:09:46.791Z"
   },
   {
    "duration": 28,
    "start_time": "2024-09-30T13:09:46.801Z"
   },
   {
    "duration": 316,
    "start_time": "2024-09-30T13:09:46.831Z"
   },
   {
    "duration": 216,
    "start_time": "2024-09-30T13:09:47.151Z"
   },
   {
    "duration": 20,
    "start_time": "2024-09-30T13:09:47.369Z"
   },
   {
    "duration": 283,
    "start_time": "2024-09-30T13:09:47.391Z"
   },
   {
    "duration": 9,
    "start_time": "2024-09-30T13:09:47.676Z"
   },
   {
    "duration": 4,
    "start_time": "2024-09-30T13:09:47.686Z"
   },
   {
    "duration": 5,
    "start_time": "2024-09-30T13:09:47.691Z"
   },
   {
    "duration": 245,
    "start_time": "2024-09-30T13:09:47.697Z"
   },
   {
    "duration": 4,
    "start_time": "2024-09-30T13:09:47.943Z"
   },
   {
    "duration": 16,
    "start_time": "2024-09-30T13:09:47.949Z"
   },
   {
    "duration": 199,
    "start_time": "2024-09-30T13:09:47.967Z"
   },
   {
    "duration": 18,
    "start_time": "2024-09-30T13:09:48.168Z"
   },
   {
    "duration": 13,
    "start_time": "2024-09-30T13:09:48.188Z"
   },
   {
    "duration": 89,
    "start_time": "2024-09-30T13:09:48.203Z"
   },
   {
    "duration": 18,
    "start_time": "2024-09-30T13:09:48.294Z"
   },
   {
    "duration": 14,
    "start_time": "2024-09-30T13:09:48.314Z"
   },
   {
    "duration": 7,
    "start_time": "2024-09-30T13:09:48.330Z"
   },
   {
    "duration": 709,
    "start_time": "2024-09-30T13:09:48.339Z"
   },
   {
    "duration": 13,
    "start_time": "2024-09-30T13:09:49.050Z"
   },
   {
    "duration": 213,
    "start_time": "2024-09-30T13:09:49.064Z"
   },
   {
    "duration": 13,
    "start_time": "2024-09-30T13:09:49.279Z"
   },
   {
    "duration": 77,
    "start_time": "2024-09-30T13:09:49.294Z"
   },
   {
    "duration": 118,
    "start_time": "2024-09-30T13:09:49.373Z"
   },
   {
    "duration": 0,
    "start_time": "2024-09-30T13:09:49.493Z"
   },
   {
    "duration": 0,
    "start_time": "2024-09-30T13:09:49.494Z"
   },
   {
    "duration": 0,
    "start_time": "2024-09-30T13:09:49.496Z"
   },
   {
    "duration": 0,
    "start_time": "2024-09-30T13:09:49.497Z"
   },
   {
    "duration": 0,
    "start_time": "2024-09-30T13:09:49.499Z"
   },
   {
    "duration": 0,
    "start_time": "2024-09-30T13:09:49.500Z"
   },
   {
    "duration": 0,
    "start_time": "2024-09-30T13:09:49.501Z"
   },
   {
    "duration": 0,
    "start_time": "2024-09-30T13:09:49.502Z"
   },
   {
    "duration": 0,
    "start_time": "2024-09-30T13:09:49.503Z"
   },
   {
    "duration": 0,
    "start_time": "2024-09-30T13:09:49.505Z"
   },
   {
    "duration": 0,
    "start_time": "2024-09-30T13:09:49.506Z"
   },
   {
    "duration": 0,
    "start_time": "2024-09-30T13:09:49.507Z"
   },
   {
    "duration": 0,
    "start_time": "2024-09-30T13:09:49.508Z"
   },
   {
    "duration": 0,
    "start_time": "2024-09-30T13:09:49.514Z"
   },
   {
    "duration": 13,
    "start_time": "2024-09-30T13:12:00.290Z"
   },
   {
    "duration": 13,
    "start_time": "2024-09-30T13:12:09.140Z"
   },
   {
    "duration": 14,
    "start_time": "2024-09-30T13:12:15.348Z"
   },
   {
    "duration": 38,
    "start_time": "2024-09-30T13:17:24.736Z"
   },
   {
    "duration": 15,
    "start_time": "2024-09-30T13:17:41.575Z"
   },
   {
    "duration": 10,
    "start_time": "2024-09-30T13:18:39.592Z"
   },
   {
    "duration": 35,
    "start_time": "2024-09-30T13:19:03.707Z"
   },
   {
    "duration": 17,
    "start_time": "2024-09-30T13:19:37.506Z"
   },
   {
    "duration": 10,
    "start_time": "2024-09-30T13:19:42.598Z"
   },
   {
    "duration": 185,
    "start_time": "2024-09-30T13:19:53.437Z"
   },
   {
    "duration": 1236,
    "start_time": "2024-09-30T13:30:53.824Z"
   },
   {
    "duration": 134,
    "start_time": "2024-09-30T13:30:55.062Z"
   },
   {
    "duration": 27,
    "start_time": "2024-09-30T13:30:55.198Z"
   },
   {
    "duration": 25,
    "start_time": "2024-09-30T13:30:55.226Z"
   },
   {
    "duration": 3,
    "start_time": "2024-09-30T13:30:55.254Z"
   },
   {
    "duration": 33,
    "start_time": "2024-09-30T13:30:55.258Z"
   },
   {
    "duration": 35,
    "start_time": "2024-09-30T13:30:55.293Z"
   },
   {
    "duration": 57,
    "start_time": "2024-09-30T13:30:55.330Z"
   },
   {
    "duration": 87,
    "start_time": "2024-09-30T13:30:55.389Z"
   },
   {
    "duration": 23,
    "start_time": "2024-09-30T13:30:55.478Z"
   },
   {
    "duration": 40,
    "start_time": "2024-09-30T13:30:55.503Z"
   },
   {
    "duration": 19,
    "start_time": "2024-09-30T13:30:55.545Z"
   },
   {
    "duration": 29,
    "start_time": "2024-09-30T13:30:55.566Z"
   },
   {
    "duration": 329,
    "start_time": "2024-09-30T13:30:55.600Z"
   },
   {
    "duration": 13,
    "start_time": "2024-09-30T13:30:55.931Z"
   },
   {
    "duration": 17,
    "start_time": "2024-09-30T13:30:55.946Z"
   },
   {
    "duration": 14,
    "start_time": "2024-09-30T13:30:55.964Z"
   },
   {
    "duration": 182,
    "start_time": "2024-09-30T13:30:55.980Z"
   },
   {
    "duration": 10,
    "start_time": "2024-09-30T13:30:56.163Z"
   },
   {
    "duration": 8,
    "start_time": "2024-09-30T13:30:56.174Z"
   },
   {
    "duration": 474,
    "start_time": "2024-09-30T13:30:56.183Z"
   },
   {
    "duration": 4,
    "start_time": "2024-09-30T13:30:56.658Z"
   },
   {
    "duration": 197,
    "start_time": "2024-09-30T13:30:56.664Z"
   },
   {
    "duration": 197,
    "start_time": "2024-09-30T13:30:56.863Z"
   },
   {
    "duration": 9,
    "start_time": "2024-09-30T13:30:57.062Z"
   },
   {
    "duration": 4,
    "start_time": "2024-09-30T13:30:57.074Z"
   },
   {
    "duration": 226,
    "start_time": "2024-09-30T13:30:57.079Z"
   },
   {
    "duration": 212,
    "start_time": "2024-09-30T13:30:57.307Z"
   },
   {
    "duration": 28,
    "start_time": "2024-09-30T13:30:57.521Z"
   },
   {
    "duration": 280,
    "start_time": "2024-09-30T13:30:57.551Z"
   },
   {
    "duration": 14,
    "start_time": "2024-09-30T13:30:57.833Z"
   },
   {
    "duration": 4,
    "start_time": "2024-09-30T13:30:57.848Z"
   },
   {
    "duration": 4,
    "start_time": "2024-09-30T13:30:57.854Z"
   },
   {
    "duration": 236,
    "start_time": "2024-09-30T13:30:57.859Z"
   },
   {
    "duration": 4,
    "start_time": "2024-09-30T13:30:58.096Z"
   },
   {
    "duration": 13,
    "start_time": "2024-09-30T13:30:58.102Z"
   },
   {
    "duration": 205,
    "start_time": "2024-09-30T13:30:58.116Z"
   },
   {
    "duration": 22,
    "start_time": "2024-09-30T13:30:58.323Z"
   },
   {
    "duration": 28,
    "start_time": "2024-09-30T13:30:58.347Z"
   },
   {
    "duration": 18,
    "start_time": "2024-09-30T13:30:58.377Z"
   },
   {
    "duration": 18,
    "start_time": "2024-09-30T13:30:58.400Z"
   },
   {
    "duration": 33,
    "start_time": "2024-09-30T13:30:58.420Z"
   },
   {
    "duration": 15,
    "start_time": "2024-09-30T13:30:58.455Z"
   },
   {
    "duration": 698,
    "start_time": "2024-09-30T13:30:58.472Z"
   },
   {
    "duration": 13,
    "start_time": "2024-09-30T13:30:59.171Z"
   },
   {
    "duration": 201,
    "start_time": "2024-09-30T13:30:59.185Z"
   },
   {
    "duration": 11,
    "start_time": "2024-09-30T13:30:59.388Z"
   },
   {
    "duration": 68,
    "start_time": "2024-09-30T13:30:59.400Z"
   },
   {
    "duration": 30,
    "start_time": "2024-09-30T13:30:59.469Z"
   },
   {
    "duration": 20,
    "start_time": "2024-09-30T13:30:59.500Z"
   },
   {
    "duration": 39,
    "start_time": "2024-09-30T13:30:59.522Z"
   },
   {
    "duration": 33,
    "start_time": "2024-09-30T13:30:59.563Z"
   },
   {
    "duration": 34,
    "start_time": "2024-09-30T13:30:59.598Z"
   },
   {
    "duration": 214,
    "start_time": "2024-09-30T13:30:59.634Z"
   },
   {
    "duration": 120,
    "start_time": "2024-09-30T13:30:59.850Z"
   },
   {
    "duration": 0,
    "start_time": "2024-09-30T13:30:59.972Z"
   },
   {
    "duration": 0,
    "start_time": "2024-09-30T13:30:59.974Z"
   },
   {
    "duration": 0,
    "start_time": "2024-09-30T13:30:59.976Z"
   },
   {
    "duration": 0,
    "start_time": "2024-09-30T13:30:59.977Z"
   },
   {
    "duration": 0,
    "start_time": "2024-09-30T13:30:59.979Z"
   },
   {
    "duration": 0,
    "start_time": "2024-09-30T13:30:59.980Z"
   },
   {
    "duration": 0,
    "start_time": "2024-09-30T13:30:59.982Z"
   },
   {
    "duration": 0,
    "start_time": "2024-09-30T13:30:59.983Z"
   },
   {
    "duration": 0,
    "start_time": "2024-09-30T13:30:59.985Z"
   },
   {
    "duration": 20,
    "start_time": "2024-09-30T13:36:26.474Z"
   },
   {
    "duration": 18,
    "start_time": "2024-09-30T13:37:11.352Z"
   },
   {
    "duration": 182,
    "start_time": "2024-09-30T13:38:21.591Z"
   },
   {
    "duration": 161,
    "start_time": "2024-09-30T13:38:34.412Z"
   },
   {
    "duration": 180,
    "start_time": "2024-09-30T13:38:50.794Z"
   },
   {
    "duration": 1248,
    "start_time": "2024-09-30T13:51:15.421Z"
   },
   {
    "duration": 185,
    "start_time": "2024-09-30T13:51:16.671Z"
   },
   {
    "duration": 35,
    "start_time": "2024-09-30T13:51:16.859Z"
   },
   {
    "duration": 12,
    "start_time": "2024-09-30T13:51:16.896Z"
   },
   {
    "duration": 4,
    "start_time": "2024-09-30T13:51:16.909Z"
   },
   {
    "duration": 30,
    "start_time": "2024-09-30T13:51:16.914Z"
   },
   {
    "duration": 12,
    "start_time": "2024-09-30T13:51:16.945Z"
   },
   {
    "duration": 29,
    "start_time": "2024-09-30T13:51:16.959Z"
   },
   {
    "duration": 42,
    "start_time": "2024-09-30T13:51:16.990Z"
   },
   {
    "duration": 38,
    "start_time": "2024-09-30T13:51:17.035Z"
   },
   {
    "duration": 26,
    "start_time": "2024-09-30T13:51:17.075Z"
   },
   {
    "duration": 17,
    "start_time": "2024-09-30T13:51:17.103Z"
   },
   {
    "duration": 11,
    "start_time": "2024-09-30T13:51:17.121Z"
   },
   {
    "duration": 329,
    "start_time": "2024-09-30T13:51:17.134Z"
   },
   {
    "duration": 16,
    "start_time": "2024-09-30T13:51:17.465Z"
   },
   {
    "duration": 85,
    "start_time": "2024-09-30T13:51:17.483Z"
   },
   {
    "duration": 14,
    "start_time": "2024-09-30T13:51:17.570Z"
   },
   {
    "duration": 185,
    "start_time": "2024-09-30T13:51:17.585Z"
   },
   {
    "duration": 10,
    "start_time": "2024-09-30T13:51:17.771Z"
   },
   {
    "duration": 8,
    "start_time": "2024-09-30T13:51:17.782Z"
   },
   {
    "duration": 481,
    "start_time": "2024-09-30T13:51:17.791Z"
   },
   {
    "duration": 4,
    "start_time": "2024-09-30T13:51:18.274Z"
   },
   {
    "duration": 190,
    "start_time": "2024-09-30T13:51:18.280Z"
   },
   {
    "duration": 187,
    "start_time": "2024-09-30T13:51:18.471Z"
   },
   {
    "duration": 7,
    "start_time": "2024-09-30T13:51:18.660Z"
   },
   {
    "duration": 4,
    "start_time": "2024-09-30T13:51:18.668Z"
   },
   {
    "duration": 226,
    "start_time": "2024-09-30T13:51:18.673Z"
   },
   {
    "duration": 219,
    "start_time": "2024-09-30T13:51:18.903Z"
   },
   {
    "duration": 25,
    "start_time": "2024-09-30T13:51:19.124Z"
   },
   {
    "duration": 297,
    "start_time": "2024-09-30T13:51:19.150Z"
   },
   {
    "duration": 9,
    "start_time": "2024-09-30T13:51:19.448Z"
   },
   {
    "duration": 115,
    "start_time": "2024-09-30T13:51:19.458Z"
   },
   {
    "duration": 12,
    "start_time": "2024-09-30T13:51:19.575Z"
   },
   {
    "duration": 212,
    "start_time": "2024-09-30T13:51:19.589Z"
   },
   {
    "duration": 5,
    "start_time": "2024-09-30T13:51:19.802Z"
   },
   {
    "duration": 16,
    "start_time": "2024-09-30T13:51:19.808Z"
   },
   {
    "duration": 220,
    "start_time": "2024-09-30T13:51:19.826Z"
   },
   {
    "duration": 16,
    "start_time": "2024-09-30T13:51:20.048Z"
   },
   {
    "duration": 13,
    "start_time": "2024-09-30T13:51:20.066Z"
   },
   {
    "duration": 18,
    "start_time": "2024-09-30T13:51:20.080Z"
   },
   {
    "duration": 44,
    "start_time": "2024-09-30T13:51:20.100Z"
   },
   {
    "duration": 10,
    "start_time": "2024-09-30T13:51:20.145Z"
   },
   {
    "duration": 4,
    "start_time": "2024-09-30T13:51:20.157Z"
   },
   {
    "duration": 737,
    "start_time": "2024-09-30T13:51:20.162Z"
   },
   {
    "duration": 12,
    "start_time": "2024-09-30T13:51:20.901Z"
   },
   {
    "duration": 200,
    "start_time": "2024-09-30T13:51:20.914Z"
   },
   {
    "duration": 12,
    "start_time": "2024-09-30T13:51:21.115Z"
   },
   {
    "duration": 24,
    "start_time": "2024-09-30T13:51:21.129Z"
   },
   {
    "duration": 12,
    "start_time": "2024-09-30T13:51:21.155Z"
   },
   {
    "duration": 11,
    "start_time": "2024-09-30T13:51:21.169Z"
   },
   {
    "duration": 9,
    "start_time": "2024-09-30T13:51:21.182Z"
   },
   {
    "duration": 24,
    "start_time": "2024-09-30T13:51:21.192Z"
   },
   {
    "duration": 31,
    "start_time": "2024-09-30T13:51:21.217Z"
   },
   {
    "duration": 184,
    "start_time": "2024-09-30T13:51:21.250Z"
   },
   {
    "duration": 186,
    "start_time": "2024-09-30T13:51:21.436Z"
   },
   {
    "duration": 121,
    "start_time": "2024-09-30T13:51:21.623Z"
   },
   {
    "duration": 0,
    "start_time": "2024-09-30T13:51:21.745Z"
   },
   {
    "duration": 0,
    "start_time": "2024-09-30T13:51:21.746Z"
   },
   {
    "duration": 0,
    "start_time": "2024-09-30T13:51:21.747Z"
   },
   {
    "duration": 0,
    "start_time": "2024-09-30T13:51:21.748Z"
   },
   {
    "duration": 0,
    "start_time": "2024-09-30T13:51:21.749Z"
   },
   {
    "duration": 0,
    "start_time": "2024-09-30T13:51:21.750Z"
   },
   {
    "duration": 0,
    "start_time": "2024-09-30T13:51:21.751Z"
   },
   {
    "duration": 19,
    "start_time": "2024-09-30T13:57:27.286Z"
   },
   {
    "duration": 4,
    "start_time": "2024-09-30T13:57:33.627Z"
   },
   {
    "duration": 15,
    "start_time": "2024-09-30T13:58:03.891Z"
   },
   {
    "duration": 12,
    "start_time": "2024-09-30T13:58:12.837Z"
   },
   {
    "duration": 801,
    "start_time": "2024-09-30T13:59:49.356Z"
   },
   {
    "duration": 667,
    "start_time": "2024-09-30T13:59:55.653Z"
   },
   {
    "duration": 12,
    "start_time": "2024-09-30T14:00:06.714Z"
   },
   {
    "duration": 8,
    "start_time": "2024-09-30T14:01:11.038Z"
   },
   {
    "duration": 13,
    "start_time": "2024-09-30T14:01:32.507Z"
   },
   {
    "duration": 18,
    "start_time": "2024-09-30T14:05:03.841Z"
   },
   {
    "duration": 15,
    "start_time": "2024-09-30T14:07:08.478Z"
   },
   {
    "duration": 1184,
    "start_time": "2024-09-30T14:08:52.576Z"
   },
   {
    "duration": 142,
    "start_time": "2024-09-30T14:08:53.762Z"
   },
   {
    "duration": 27,
    "start_time": "2024-09-30T14:08:53.906Z"
   },
   {
    "duration": 18,
    "start_time": "2024-09-30T14:08:53.934Z"
   },
   {
    "duration": 4,
    "start_time": "2024-09-30T14:08:53.954Z"
   },
   {
    "duration": 40,
    "start_time": "2024-09-30T14:08:53.959Z"
   },
   {
    "duration": 23,
    "start_time": "2024-09-30T14:08:54.001Z"
   },
   {
    "duration": 22,
    "start_time": "2024-09-30T14:08:54.026Z"
   },
   {
    "duration": 21,
    "start_time": "2024-09-30T14:08:54.049Z"
   },
   {
    "duration": 22,
    "start_time": "2024-09-30T14:08:54.072Z"
   },
   {
    "duration": 29,
    "start_time": "2024-09-30T14:08:54.096Z"
   },
   {
    "duration": 19,
    "start_time": "2024-09-30T14:08:54.142Z"
   },
   {
    "duration": 12,
    "start_time": "2024-09-30T14:08:54.163Z"
   },
   {
    "duration": 332,
    "start_time": "2024-09-30T14:08:54.178Z"
   },
   {
    "duration": 9,
    "start_time": "2024-09-30T14:08:54.512Z"
   },
   {
    "duration": 6,
    "start_time": "2024-09-30T14:08:54.522Z"
   },
   {
    "duration": 19,
    "start_time": "2024-09-30T14:08:54.529Z"
   },
   {
    "duration": 194,
    "start_time": "2024-09-30T14:08:54.549Z"
   },
   {
    "duration": 9,
    "start_time": "2024-09-30T14:08:54.745Z"
   },
   {
    "duration": 57,
    "start_time": "2024-09-30T14:08:54.756Z"
   },
   {
    "duration": 519,
    "start_time": "2024-09-30T14:08:54.815Z"
   },
   {
    "duration": 8,
    "start_time": "2024-09-30T14:08:55.336Z"
   },
   {
    "duration": 195,
    "start_time": "2024-09-30T14:08:55.345Z"
   },
   {
    "duration": 190,
    "start_time": "2024-09-30T14:08:55.543Z"
   },
   {
    "duration": 12,
    "start_time": "2024-09-30T14:08:55.734Z"
   },
   {
    "duration": 26,
    "start_time": "2024-09-30T14:08:55.747Z"
   },
   {
    "duration": 217,
    "start_time": "2024-09-30T14:08:55.775Z"
   },
   {
    "duration": 202,
    "start_time": "2024-09-30T14:08:55.994Z"
   },
   {
    "duration": 20,
    "start_time": "2024-09-30T14:08:56.198Z"
   },
   {
    "duration": 281,
    "start_time": "2024-09-30T14:08:56.220Z"
   },
   {
    "duration": 9,
    "start_time": "2024-09-30T14:08:56.503Z"
   },
   {
    "duration": 12,
    "start_time": "2024-09-30T14:08:56.513Z"
   },
   {
    "duration": 45,
    "start_time": "2024-09-30T14:08:56.526Z"
   },
   {
    "duration": 238,
    "start_time": "2024-09-30T14:08:56.572Z"
   },
   {
    "duration": 5,
    "start_time": "2024-09-30T14:08:56.812Z"
   },
   {
    "duration": 41,
    "start_time": "2024-09-30T14:08:56.819Z"
   },
   {
    "duration": 214,
    "start_time": "2024-09-30T14:08:56.861Z"
   },
   {
    "duration": 17,
    "start_time": "2024-09-30T14:08:57.077Z"
   },
   {
    "duration": 78,
    "start_time": "2024-09-30T14:08:57.095Z"
   },
   {
    "duration": 35,
    "start_time": "2024-09-30T14:08:57.175Z"
   },
   {
    "duration": 15,
    "start_time": "2024-09-30T14:08:57.214Z"
   },
   {
    "duration": 20,
    "start_time": "2024-09-30T14:08:57.230Z"
   },
   {
    "duration": 28,
    "start_time": "2024-09-30T14:08:57.252Z"
   },
   {
    "duration": 714,
    "start_time": "2024-09-30T14:08:57.281Z"
   },
   {
    "duration": 31,
    "start_time": "2024-09-30T14:08:57.997Z"
   },
   {
    "duration": 199,
    "start_time": "2024-09-30T14:08:58.030Z"
   },
   {
    "duration": 18,
    "start_time": "2024-09-30T14:08:58.231Z"
   },
   {
    "duration": 36,
    "start_time": "2024-09-30T14:08:58.251Z"
   },
   {
    "duration": 15,
    "start_time": "2024-09-30T14:08:58.288Z"
   },
   {
    "duration": 12,
    "start_time": "2024-09-30T14:08:58.305Z"
   },
   {
    "duration": 22,
    "start_time": "2024-09-30T14:08:58.318Z"
   },
   {
    "duration": 29,
    "start_time": "2024-09-30T14:08:58.343Z"
   },
   {
    "duration": 9,
    "start_time": "2024-09-30T14:08:58.373Z"
   },
   {
    "duration": 185,
    "start_time": "2024-09-30T14:08:58.384Z"
   },
   {
    "duration": 187,
    "start_time": "2024-09-30T14:08:58.571Z"
   },
   {
    "duration": 13,
    "start_time": "2024-09-30T14:08:58.759Z"
   },
   {
    "duration": 72,
    "start_time": "2024-09-30T14:08:58.773Z"
   },
   {
    "duration": 16,
    "start_time": "2024-09-30T14:08:58.846Z"
   },
   {
    "duration": 7,
    "start_time": "2024-09-30T14:08:58.864Z"
   },
   {
    "duration": 5,
    "start_time": "2024-09-30T14:08:58.872Z"
   },
   {
    "duration": 6,
    "start_time": "2024-09-30T14:08:58.878Z"
   },
   {
    "duration": 3,
    "start_time": "2024-09-30T14:08:58.885Z"
   },
   {
    "duration": 1263,
    "start_time": "2024-09-30T14:08:58.890Z"
   },
   {
    "duration": 0,
    "start_time": "2024-09-30T14:09:00.155Z"
   },
   {
    "duration": 0,
    "start_time": "2024-09-30T14:09:00.156Z"
   },
   {
    "duration": 19,
    "start_time": "2024-09-30T14:13:31.979Z"
   },
   {
    "duration": 1241,
    "start_time": "2024-09-30T14:13:45.917Z"
   },
   {
    "duration": 131,
    "start_time": "2024-09-30T14:13:47.160Z"
   },
   {
    "duration": 29,
    "start_time": "2024-09-30T14:13:47.293Z"
   },
   {
    "duration": 21,
    "start_time": "2024-09-30T14:13:47.324Z"
   },
   {
    "duration": 4,
    "start_time": "2024-09-30T14:13:47.347Z"
   },
   {
    "duration": 28,
    "start_time": "2024-09-30T14:13:47.353Z"
   },
   {
    "duration": 13,
    "start_time": "2024-09-30T14:13:47.382Z"
   },
   {
    "duration": 22,
    "start_time": "2024-09-30T14:13:47.397Z"
   },
   {
    "duration": 38,
    "start_time": "2024-09-30T14:13:47.421Z"
   },
   {
    "duration": 23,
    "start_time": "2024-09-30T14:13:47.461Z"
   },
   {
    "duration": 27,
    "start_time": "2024-09-30T14:13:47.486Z"
   },
   {
    "duration": 46,
    "start_time": "2024-09-30T14:13:47.515Z"
   },
   {
    "duration": 12,
    "start_time": "2024-09-30T14:13:47.563Z"
   },
   {
    "duration": 332,
    "start_time": "2024-09-30T14:13:47.578Z"
   },
   {
    "duration": 10,
    "start_time": "2024-09-30T14:13:47.911Z"
   },
   {
    "duration": 11,
    "start_time": "2024-09-30T14:13:47.923Z"
   },
   {
    "duration": 48,
    "start_time": "2024-09-30T14:13:47.943Z"
   },
   {
    "duration": 187,
    "start_time": "2024-09-30T14:13:47.992Z"
   },
   {
    "duration": 10,
    "start_time": "2024-09-30T14:13:48.180Z"
   },
   {
    "duration": 8,
    "start_time": "2024-09-30T14:13:48.192Z"
   },
   {
    "duration": 480,
    "start_time": "2024-09-30T14:13:48.201Z"
   },
   {
    "duration": 5,
    "start_time": "2024-09-30T14:13:48.682Z"
   },
   {
    "duration": 220,
    "start_time": "2024-09-30T14:13:48.688Z"
   },
   {
    "duration": 181,
    "start_time": "2024-09-30T14:13:48.909Z"
   },
   {
    "duration": 7,
    "start_time": "2024-09-30T14:13:49.092Z"
   },
   {
    "duration": 51,
    "start_time": "2024-09-30T14:13:49.101Z"
   },
   {
    "duration": 226,
    "start_time": "2024-09-30T14:13:49.154Z"
   },
   {
    "duration": 221,
    "start_time": "2024-09-30T14:13:49.382Z"
   },
   {
    "duration": 20,
    "start_time": "2024-09-30T14:13:49.605Z"
   },
   {
    "duration": 350,
    "start_time": "2024-09-30T14:13:49.627Z"
   },
   {
    "duration": 10,
    "start_time": "2024-09-30T14:13:49.979Z"
   },
   {
    "duration": 4,
    "start_time": "2024-09-30T14:13:49.991Z"
   },
   {
    "duration": 33,
    "start_time": "2024-09-30T14:13:49.996Z"
   },
   {
    "duration": 255,
    "start_time": "2024-09-30T14:13:50.031Z"
   },
   {
    "duration": 4,
    "start_time": "2024-09-30T14:13:50.288Z"
   },
   {
    "duration": 12,
    "start_time": "2024-09-30T14:13:50.293Z"
   },
   {
    "duration": 194,
    "start_time": "2024-09-30T14:13:50.307Z"
   },
   {
    "duration": 17,
    "start_time": "2024-09-30T14:13:50.502Z"
   },
   {
    "duration": 26,
    "start_time": "2024-09-30T14:13:50.520Z"
   },
   {
    "duration": 120,
    "start_time": "2024-09-30T14:13:50.547Z"
   },
   {
    "duration": 26,
    "start_time": "2024-09-30T14:13:50.671Z"
   },
   {
    "duration": 10,
    "start_time": "2024-09-30T14:13:50.699Z"
   },
   {
    "duration": 15,
    "start_time": "2024-09-30T14:13:50.711Z"
   },
   {
    "duration": 791,
    "start_time": "2024-09-30T14:13:50.728Z"
   },
   {
    "duration": 13,
    "start_time": "2024-09-30T14:13:51.520Z"
   },
   {
    "duration": 220,
    "start_time": "2024-09-30T14:13:51.542Z"
   },
   {
    "duration": 11,
    "start_time": "2024-09-30T14:13:51.764Z"
   },
   {
    "duration": 20,
    "start_time": "2024-09-30T14:13:51.777Z"
   },
   {
    "duration": 17,
    "start_time": "2024-09-30T14:13:51.799Z"
   },
   {
    "duration": 29,
    "start_time": "2024-09-30T14:13:51.817Z"
   },
   {
    "duration": 16,
    "start_time": "2024-09-30T14:13:51.847Z"
   },
   {
    "duration": 18,
    "start_time": "2024-09-30T14:13:51.864Z"
   },
   {
    "duration": 11,
    "start_time": "2024-09-30T14:13:51.883Z"
   },
   {
    "duration": 185,
    "start_time": "2024-09-30T14:13:51.895Z"
   },
   {
    "duration": 189,
    "start_time": "2024-09-30T14:13:52.082Z"
   },
   {
    "duration": 11,
    "start_time": "2024-09-30T14:13:52.272Z"
   },
   {
    "duration": 25,
    "start_time": "2024-09-30T14:13:52.285Z"
   },
   {
    "duration": 35,
    "start_time": "2024-09-30T14:13:52.312Z"
   },
   {
    "duration": 4,
    "start_time": "2024-09-30T14:13:52.350Z"
   },
   {
    "duration": 13,
    "start_time": "2024-09-30T14:13:52.356Z"
   },
   {
    "duration": 15,
    "start_time": "2024-09-30T14:13:52.370Z"
   },
   {
    "duration": 4,
    "start_time": "2024-09-30T14:13:52.387Z"
   },
   {
    "duration": 1269,
    "start_time": "2024-09-30T14:13:52.393Z"
   },
   {
    "duration": 0,
    "start_time": "2024-09-30T14:13:53.664Z"
   },
   {
    "duration": 0,
    "start_time": "2024-09-30T14:13:53.665Z"
   },
   {
    "duration": 11,
    "start_time": "2024-09-30T14:15:07.381Z"
   },
   {
    "duration": 1493,
    "start_time": "2024-09-30T14:16:06.518Z"
   },
   {
    "duration": 9,
    "start_time": "2024-09-30T14:16:23.811Z"
   },
   {
    "duration": 17,
    "start_time": "2024-09-30T14:16:33.828Z"
   },
   {
    "duration": 19,
    "start_time": "2024-09-30T14:17:13.924Z"
   },
   {
    "duration": 5,
    "start_time": "2024-09-30T14:17:20.062Z"
   },
   {
    "duration": 8,
    "start_time": "2024-09-30T14:19:02.426Z"
   },
   {
    "duration": 6,
    "start_time": "2024-09-30T14:19:04.128Z"
   },
   {
    "duration": 4,
    "start_time": "2024-09-30T14:19:05.357Z"
   },
   {
    "duration": 31,
    "start_time": "2024-09-30T14:20:28.867Z"
   },
   {
    "duration": 7,
    "start_time": "2024-09-30T14:20:29.329Z"
   },
   {
    "duration": 8,
    "start_time": "2024-09-30T14:21:08.872Z"
   },
   {
    "duration": 6,
    "start_time": "2024-09-30T14:21:10.199Z"
   },
   {
    "duration": 3,
    "start_time": "2024-09-30T14:21:11.491Z"
   },
   {
    "duration": 1177,
    "start_time": "2024-09-30T14:22:08.698Z"
   },
   {
    "duration": 157,
    "start_time": "2024-09-30T14:22:09.877Z"
   },
   {
    "duration": 30,
    "start_time": "2024-09-30T14:22:10.035Z"
   },
   {
    "duration": 14,
    "start_time": "2024-09-30T14:22:10.066Z"
   },
   {
    "duration": 27,
    "start_time": "2024-09-30T14:22:10.082Z"
   },
   {
    "duration": 10,
    "start_time": "2024-09-30T14:22:10.111Z"
   },
   {
    "duration": 18,
    "start_time": "2024-09-30T14:22:10.122Z"
   },
   {
    "duration": 23,
    "start_time": "2024-09-30T14:22:10.142Z"
   },
   {
    "duration": 22,
    "start_time": "2024-09-30T14:22:10.166Z"
   },
   {
    "duration": 23,
    "start_time": "2024-09-30T14:22:10.190Z"
   },
   {
    "duration": 55,
    "start_time": "2024-09-30T14:22:10.215Z"
   },
   {
    "duration": 18,
    "start_time": "2024-09-30T14:22:10.272Z"
   },
   {
    "duration": 13,
    "start_time": "2024-09-30T14:22:10.292Z"
   },
   {
    "duration": 380,
    "start_time": "2024-09-30T14:22:10.308Z"
   },
   {
    "duration": 10,
    "start_time": "2024-09-30T14:22:10.689Z"
   },
   {
    "duration": 7,
    "start_time": "2024-09-30T14:22:10.701Z"
   },
   {
    "duration": 21,
    "start_time": "2024-09-30T14:22:10.709Z"
   },
   {
    "duration": 194,
    "start_time": "2024-09-30T14:22:10.731Z"
   },
   {
    "duration": 21,
    "start_time": "2024-09-30T14:22:10.927Z"
   },
   {
    "duration": 14,
    "start_time": "2024-09-30T14:22:10.950Z"
   },
   {
    "duration": 471,
    "start_time": "2024-09-30T14:22:10.965Z"
   },
   {
    "duration": 8,
    "start_time": "2024-09-30T14:22:11.437Z"
   },
   {
    "duration": 187,
    "start_time": "2024-09-30T14:22:11.447Z"
   },
   {
    "duration": 197,
    "start_time": "2024-09-30T14:22:11.636Z"
   },
   {
    "duration": 10,
    "start_time": "2024-09-30T14:22:11.836Z"
   },
   {
    "duration": 4,
    "start_time": "2024-09-30T14:22:11.848Z"
   },
   {
    "duration": 236,
    "start_time": "2024-09-30T14:22:11.854Z"
   },
   {
    "duration": 213,
    "start_time": "2024-09-30T14:22:12.092Z"
   },
   {
    "duration": 22,
    "start_time": "2024-09-30T14:22:12.307Z"
   },
   {
    "duration": 287,
    "start_time": "2024-09-30T14:22:12.342Z"
   },
   {
    "duration": 17,
    "start_time": "2024-09-30T14:22:12.631Z"
   },
   {
    "duration": 5,
    "start_time": "2024-09-30T14:22:12.649Z"
   },
   {
    "duration": 12,
    "start_time": "2024-09-30T14:22:12.656Z"
   },
   {
    "duration": 253,
    "start_time": "2024-09-30T14:22:12.670Z"
   },
   {
    "duration": 6,
    "start_time": "2024-09-30T14:22:12.925Z"
   },
   {
    "duration": 13,
    "start_time": "2024-09-30T14:22:12.943Z"
   },
   {
    "duration": 207,
    "start_time": "2024-09-30T14:22:12.958Z"
   },
   {
    "duration": 18,
    "start_time": "2024-09-30T14:22:13.167Z"
   },
   {
    "duration": 15,
    "start_time": "2024-09-30T14:22:13.187Z"
   },
   {
    "duration": 46,
    "start_time": "2024-09-30T14:22:13.204Z"
   },
   {
    "duration": 23,
    "start_time": "2024-09-30T14:22:13.255Z"
   },
   {
    "duration": 23,
    "start_time": "2024-09-30T14:22:13.281Z"
   },
   {
    "duration": 17,
    "start_time": "2024-09-30T14:22:13.306Z"
   },
   {
    "duration": 706,
    "start_time": "2024-09-30T14:22:13.324Z"
   },
   {
    "duration": 22,
    "start_time": "2024-09-30T14:22:14.031Z"
   },
   {
    "duration": 217,
    "start_time": "2024-09-30T14:22:14.054Z"
   },
   {
    "duration": 12,
    "start_time": "2024-09-30T14:22:14.273Z"
   },
   {
    "duration": 36,
    "start_time": "2024-09-30T14:22:14.287Z"
   },
   {
    "duration": 24,
    "start_time": "2024-09-30T14:22:14.324Z"
   },
   {
    "duration": 12,
    "start_time": "2024-09-30T14:22:14.349Z"
   },
   {
    "duration": 9,
    "start_time": "2024-09-30T14:22:14.362Z"
   },
   {
    "duration": 15,
    "start_time": "2024-09-30T14:22:14.373Z"
   },
   {
    "duration": 18,
    "start_time": "2024-09-30T14:22:14.389Z"
   },
   {
    "duration": 200,
    "start_time": "2024-09-30T14:22:14.408Z"
   },
   {
    "duration": 205,
    "start_time": "2024-09-30T14:22:14.610Z"
   },
   {
    "duration": 12,
    "start_time": "2024-09-30T14:22:14.816Z"
   },
   {
    "duration": 68,
    "start_time": "2024-09-30T14:22:14.829Z"
   },
   {
    "duration": 22,
    "start_time": "2024-09-30T14:22:14.899Z"
   },
   {
    "duration": 20,
    "start_time": "2024-09-30T14:22:14.923Z"
   },
   {
    "duration": 3,
    "start_time": "2024-09-30T14:22:14.945Z"
   },
   {
    "duration": 6,
    "start_time": "2024-09-30T14:22:14.950Z"
   },
   {
    "duration": 10,
    "start_time": "2024-09-30T14:22:14.957Z"
   },
   {
    "duration": 10,
    "start_time": "2024-09-30T14:22:14.969Z"
   },
   {
    "duration": 19,
    "start_time": "2024-09-30T14:22:14.980Z"
   },
   {
    "duration": 32,
    "start_time": "2024-09-30T14:22:15.001Z"
   },
   {
    "duration": 21,
    "start_time": "2024-09-30T14:22:15.035Z"
   }
  ],
  "kernelspec": {
   "display_name": "Python 3 (ipykernel)",
   "language": "python",
   "name": "python3"
  },
  "language_info": {
   "codemirror_mode": {
    "name": "ipython",
    "version": 3
   },
   "file_extension": ".py",
   "mimetype": "text/x-python",
   "name": "python",
   "nbconvert_exporter": "python",
   "pygments_lexer": "ipython3",
   "version": "3.11.8"
  },
  "toc": {
   "base_numbering": 1,
   "nav_menu": {},
   "number_sections": true,
   "sideBar": true,
   "skip_h1_title": true,
   "title_cell": "Table of Contents",
   "title_sidebar": "Contents",
   "toc_cell": true,
   "toc_position": {
    "height": "calc(100% - 180px)",
    "left": "10px",
    "top": "150px",
    "width": "200.188px"
   },
   "toc_section_display": true,
   "toc_window_display": true
  }
 },
 "nbformat": 4,
 "nbformat_minor": 5
}
